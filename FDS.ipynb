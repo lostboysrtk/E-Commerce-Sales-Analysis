{
 "cells": [
  {
   "cell_type": "code",
   "execution_count": 1,
   "id": "3ad85120",
   "metadata": {},
   "outputs": [],
   "source": [
    "import numpy as np\n",
    "import pandas as pd\n",
    "import matplotlib.pyplot as plt\n",
    "import seaborn as sns\n",
    "palette = sns.color_palette(\"Set1\")\n",
    "%matplotlib inline\n",
    "import warnings\n",
    "warnings.simplefilter(action='ignore', category=FutureWarning)\n"
   ]
  },
  {
   "cell_type": "code",
   "execution_count": 2,
   "id": "848903a9",
   "metadata": {},
   "outputs": [],
   "source": [
    "df=pd.read_csv('/fds proj/ecommerce_sales_analysis.csv')\n"
   ]
  },
  {
   "cell_type": "code",
   "execution_count": 3,
   "id": "0ca62252",
   "metadata": {},
   "outputs": [],
   "source": [
    "import numpy as np # linear algebra\n",
    "import pandas as pd # data processing, CSV file I/O (e.g. pd.read_csv)\n",
    "\n",
    "# Input data files are available in the read-only \"../input/\" directory\n",
    "# For example, running this (by clicking run or pressing Shift+Enter) will list all files under the input directory\n",
    "\n",
    "import os\n",
    "for dirname, _, filenames in os.walk('/kaggle/input'):\n",
    "    for filename in filenames:\n",
    "        print(os.path.join(dirname, filename))"
   ]
  },
  {
   "cell_type": "code",
   "execution_count": 4,
   "id": "4c857425",
   "metadata": {},
   "outputs": [
    {
     "data": {
      "text/html": [
       "<div>\n",
       "<style scoped>\n",
       "    .dataframe tbody tr th:only-of-type {\n",
       "        vertical-align: middle;\n",
       "    }\n",
       "\n",
       "    .dataframe tbody tr th {\n",
       "        vertical-align: top;\n",
       "    }\n",
       "\n",
       "    .dataframe thead th {\n",
       "        text-align: right;\n",
       "    }\n",
       "</style>\n",
       "<table border=\"1\" class=\"dataframe\">\n",
       "  <thead>\n",
       "    <tr style=\"text-align: right;\">\n",
       "      <th></th>\n",
       "      <th>product_id</th>\n",
       "      <th>product_name</th>\n",
       "      <th>category</th>\n",
       "      <th>price</th>\n",
       "      <th>review_score</th>\n",
       "      <th>review_count</th>\n",
       "      <th>sales_month_1</th>\n",
       "      <th>sales_month_2</th>\n",
       "      <th>sales_month_3</th>\n",
       "      <th>sales_month_4</th>\n",
       "      <th>sales_month_5</th>\n",
       "      <th>sales_month_6</th>\n",
       "      <th>sales_month_7</th>\n",
       "      <th>sales_month_8</th>\n",
       "      <th>sales_month_9</th>\n",
       "      <th>sales_month_10</th>\n",
       "      <th>sales_month_11</th>\n",
       "      <th>sales_month_12</th>\n",
       "    </tr>\n",
       "  </thead>\n",
       "  <tbody>\n",
       "    <tr>\n",
       "      <th>0</th>\n",
       "      <td>1</td>\n",
       "      <td>Product_1</td>\n",
       "      <td>Clothing</td>\n",
       "      <td>190.40</td>\n",
       "      <td>1.7</td>\n",
       "      <td>220</td>\n",
       "      <td>479</td>\n",
       "      <td>449</td>\n",
       "      <td>92</td>\n",
       "      <td>784</td>\n",
       "      <td>604</td>\n",
       "      <td>904</td>\n",
       "      <td>446</td>\n",
       "      <td>603</td>\n",
       "      <td>807</td>\n",
       "      <td>252</td>\n",
       "      <td>695</td>\n",
       "      <td>306</td>\n",
       "    </tr>\n",
       "    <tr>\n",
       "      <th>1</th>\n",
       "      <td>2</td>\n",
       "      <td>Product_2</td>\n",
       "      <td>Home &amp; Kitchen</td>\n",
       "      <td>475.60</td>\n",
       "      <td>3.2</td>\n",
       "      <td>903</td>\n",
       "      <td>21</td>\n",
       "      <td>989</td>\n",
       "      <td>861</td>\n",
       "      <td>863</td>\n",
       "      <td>524</td>\n",
       "      <td>128</td>\n",
       "      <td>610</td>\n",
       "      <td>436</td>\n",
       "      <td>176</td>\n",
       "      <td>294</td>\n",
       "      <td>772</td>\n",
       "      <td>353</td>\n",
       "    </tr>\n",
       "    <tr>\n",
       "      <th>2</th>\n",
       "      <td>3</td>\n",
       "      <td>Product_3</td>\n",
       "      <td>Toys</td>\n",
       "      <td>367.34</td>\n",
       "      <td>4.5</td>\n",
       "      <td>163</td>\n",
       "      <td>348</td>\n",
       "      <td>558</td>\n",
       "      <td>567</td>\n",
       "      <td>143</td>\n",
       "      <td>771</td>\n",
       "      <td>409</td>\n",
       "      <td>290</td>\n",
       "      <td>828</td>\n",
       "      <td>340</td>\n",
       "      <td>667</td>\n",
       "      <td>267</td>\n",
       "      <td>392</td>\n",
       "    </tr>\n",
       "    <tr>\n",
       "      <th>3</th>\n",
       "      <td>4</td>\n",
       "      <td>Product_4</td>\n",
       "      <td>Toys</td>\n",
       "      <td>301.34</td>\n",
       "      <td>3.9</td>\n",
       "      <td>951</td>\n",
       "      <td>725</td>\n",
       "      <td>678</td>\n",
       "      <td>59</td>\n",
       "      <td>15</td>\n",
       "      <td>937</td>\n",
       "      <td>421</td>\n",
       "      <td>670</td>\n",
       "      <td>933</td>\n",
       "      <td>56</td>\n",
       "      <td>157</td>\n",
       "      <td>168</td>\n",
       "      <td>203</td>\n",
       "    </tr>\n",
       "    <tr>\n",
       "      <th>4</th>\n",
       "      <td>5</td>\n",
       "      <td>Product_5</td>\n",
       "      <td>Books</td>\n",
       "      <td>82.23</td>\n",
       "      <td>4.2</td>\n",
       "      <td>220</td>\n",
       "      <td>682</td>\n",
       "      <td>451</td>\n",
       "      <td>649</td>\n",
       "      <td>301</td>\n",
       "      <td>620</td>\n",
       "      <td>293</td>\n",
       "      <td>411</td>\n",
       "      <td>258</td>\n",
       "      <td>854</td>\n",
       "      <td>548</td>\n",
       "      <td>770</td>\n",
       "      <td>257</td>\n",
       "    </tr>\n",
       "  </tbody>\n",
       "</table>\n",
       "</div>"
      ],
      "text/plain": [
       "   product_id product_name        category   price  review_score  \\\n",
       "0           1    Product_1        Clothing  190.40           1.7   \n",
       "1           2    Product_2  Home & Kitchen  475.60           3.2   \n",
       "2           3    Product_3            Toys  367.34           4.5   \n",
       "3           4    Product_4            Toys  301.34           3.9   \n",
       "4           5    Product_5           Books   82.23           4.2   \n",
       "\n",
       "   review_count  sales_month_1  sales_month_2  sales_month_3  sales_month_4  \\\n",
       "0           220            479            449             92            784   \n",
       "1           903             21            989            861            863   \n",
       "2           163            348            558            567            143   \n",
       "3           951            725            678             59             15   \n",
       "4           220            682            451            649            301   \n",
       "\n",
       "   sales_month_5  sales_month_6  sales_month_7  sales_month_8  sales_month_9  \\\n",
       "0            604            904            446            603            807   \n",
       "1            524            128            610            436            176   \n",
       "2            771            409            290            828            340   \n",
       "3            937            421            670            933             56   \n",
       "4            620            293            411            258            854   \n",
       "\n",
       "   sales_month_10  sales_month_11  sales_month_12  \n",
       "0             252             695             306  \n",
       "1             294             772             353  \n",
       "2             667             267             392  \n",
       "3             157             168             203  \n",
       "4             548             770             257  "
      ]
     },
     "execution_count": 4,
     "metadata": {},
     "output_type": "execute_result"
    }
   ],
   "source": [
    "path_file = \"/fds proj/ecommerce_sales_analysis.csv\"\n",
    "df = pd.read_csv(path_file)\n",
    "df.head()\n"
   ]
  },
  {
   "cell_type": "code",
   "execution_count": 5,
   "id": "d6db0e8c",
   "metadata": {},
   "outputs": [],
   "source": [
    "#🧹📊 Data Cleaning and Descriptive Statistics"
   ]
  },
  {
   "cell_type": "code",
   "execution_count": 6,
   "id": "279bf47f",
   "metadata": {},
   "outputs": [
    {
     "name": "stdout",
     "output_type": "stream",
     "text": [
      "<class 'pandas.core.frame.DataFrame'>\n",
      "RangeIndex: 1000 entries, 0 to 999\n",
      "Data columns (total 18 columns):\n",
      " #   Column          Non-Null Count  Dtype  \n",
      "---  ------          --------------  -----  \n",
      " 0   product_id      1000 non-null   int64  \n",
      " 1   product_name    1000 non-null   object \n",
      " 2   category        1000 non-null   object \n",
      " 3   price           1000 non-null   float64\n",
      " 4   review_score    1000 non-null   float64\n",
      " 5   review_count    1000 non-null   int64  \n",
      " 6   sales_month_1   1000 non-null   int64  \n",
      " 7   sales_month_2   1000 non-null   int64  \n",
      " 8   sales_month_3   1000 non-null   int64  \n",
      " 9   sales_month_4   1000 non-null   int64  \n",
      " 10  sales_month_5   1000 non-null   int64  \n",
      " 11  sales_month_6   1000 non-null   int64  \n",
      " 12  sales_month_7   1000 non-null   int64  \n",
      " 13  sales_month_8   1000 non-null   int64  \n",
      " 14  sales_month_9   1000 non-null   int64  \n",
      " 15  sales_month_10  1000 non-null   int64  \n",
      " 16  sales_month_11  1000 non-null   int64  \n",
      " 17  sales_month_12  1000 non-null   int64  \n",
      "dtypes: float64(2), int64(14), object(2)\n",
      "memory usage: 140.8+ KB\n"
     ]
    }
   ],
   "source": [
    "df.info()"
   ]
  },
  {
   "cell_type": "code",
   "execution_count": 7,
   "id": "4b7bb2b4",
   "metadata": {},
   "outputs": [],
   "source": [
    "#📈✨ Summary Statistics"
   ]
  },
  {
   "cell_type": "code",
   "execution_count": 8,
   "id": "8cf4ca58",
   "metadata": {},
   "outputs": [
    {
     "data": {
      "text/html": [
       "<div>\n",
       "<style scoped>\n",
       "    .dataframe tbody tr th:only-of-type {\n",
       "        vertical-align: middle;\n",
       "    }\n",
       "\n",
       "    .dataframe tbody tr th {\n",
       "        vertical-align: top;\n",
       "    }\n",
       "\n",
       "    .dataframe thead th {\n",
       "        text-align: right;\n",
       "    }\n",
       "</style>\n",
       "<table border=\"1\" class=\"dataframe\">\n",
       "  <thead>\n",
       "    <tr style=\"text-align: right;\">\n",
       "      <th></th>\n",
       "      <th>count</th>\n",
       "      <th>mean</th>\n",
       "      <th>std</th>\n",
       "      <th>min</th>\n",
       "      <th>25%</th>\n",
       "      <th>50%</th>\n",
       "      <th>75%</th>\n",
       "      <th>max</th>\n",
       "    </tr>\n",
       "  </thead>\n",
       "  <tbody>\n",
       "    <tr>\n",
       "      <th>product_id</th>\n",
       "      <td>1000.0</td>\n",
       "      <td>500.50000</td>\n",
       "      <td>288.819436</td>\n",
       "      <td>1.00</td>\n",
       "      <td>250.75</td>\n",
       "      <td>500.50</td>\n",
       "      <td>750.250</td>\n",
       "      <td>1000.00</td>\n",
       "    </tr>\n",
       "    <tr>\n",
       "      <th>price</th>\n",
       "      <td>1000.0</td>\n",
       "      <td>247.67713</td>\n",
       "      <td>144.607983</td>\n",
       "      <td>7.29</td>\n",
       "      <td>121.81</td>\n",
       "      <td>250.92</td>\n",
       "      <td>373.435</td>\n",
       "      <td>499.86</td>\n",
       "    </tr>\n",
       "    <tr>\n",
       "      <th>review_score</th>\n",
       "      <td>1000.0</td>\n",
       "      <td>3.02760</td>\n",
       "      <td>1.171243</td>\n",
       "      <td>1.00</td>\n",
       "      <td>2.00</td>\n",
       "      <td>3.10</td>\n",
       "      <td>4.000</td>\n",
       "      <td>5.00</td>\n",
       "    </tr>\n",
       "    <tr>\n",
       "      <th>review_count</th>\n",
       "      <td>1000.0</td>\n",
       "      <td>526.50600</td>\n",
       "      <td>282.269932</td>\n",
       "      <td>1.00</td>\n",
       "      <td>283.75</td>\n",
       "      <td>543.00</td>\n",
       "      <td>772.000</td>\n",
       "      <td>999.00</td>\n",
       "    </tr>\n",
       "    <tr>\n",
       "      <th>sales_month_1</th>\n",
       "      <td>1000.0</td>\n",
       "      <td>498.30600</td>\n",
       "      <td>289.941478</td>\n",
       "      <td>0.00</td>\n",
       "      <td>245.50</td>\n",
       "      <td>507.50</td>\n",
       "      <td>740.750</td>\n",
       "      <td>1000.00</td>\n",
       "    </tr>\n",
       "    <tr>\n",
       "      <th>sales_month_2</th>\n",
       "      <td>1000.0</td>\n",
       "      <td>507.66100</td>\n",
       "      <td>285.992689</td>\n",
       "      <td>2.00</td>\n",
       "      <td>262.50</td>\n",
       "      <td>508.00</td>\n",
       "      <td>756.250</td>\n",
       "      <td>1000.00</td>\n",
       "    </tr>\n",
       "    <tr>\n",
       "      <th>sales_month_3</th>\n",
       "      <td>1000.0</td>\n",
       "      <td>506.73900</td>\n",
       "      <td>294.010873</td>\n",
       "      <td>0.00</td>\n",
       "      <td>243.75</td>\n",
       "      <td>493.00</td>\n",
       "      <td>777.250</td>\n",
       "      <td>999.00</td>\n",
       "    </tr>\n",
       "    <tr>\n",
       "      <th>sales_month_4</th>\n",
       "      <td>1000.0</td>\n",
       "      <td>503.82300</td>\n",
       "      <td>286.645567</td>\n",
       "      <td>0.00</td>\n",
       "      <td>261.50</td>\n",
       "      <td>501.50</td>\n",
       "      <td>749.500</td>\n",
       "      <td>1000.00</td>\n",
       "    </tr>\n",
       "    <tr>\n",
       "      <th>sales_month_5</th>\n",
       "      <td>1000.0</td>\n",
       "      <td>487.19400</td>\n",
       "      <td>287.844324</td>\n",
       "      <td>0.00</td>\n",
       "      <td>221.00</td>\n",
       "      <td>497.00</td>\n",
       "      <td>727.000</td>\n",
       "      <td>1000.00</td>\n",
       "    </tr>\n",
       "    <tr>\n",
       "      <th>sales_month_6</th>\n",
       "      <td>1000.0</td>\n",
       "      <td>491.65300</td>\n",
       "      <td>289.234018</td>\n",
       "      <td>0.00</td>\n",
       "      <td>236.00</td>\n",
       "      <td>479.50</td>\n",
       "      <td>740.500</td>\n",
       "      <td>1000.00</td>\n",
       "    </tr>\n",
       "    <tr>\n",
       "      <th>sales_month_7</th>\n",
       "      <td>1000.0</td>\n",
       "      <td>507.01100</td>\n",
       "      <td>291.047287</td>\n",
       "      <td>0.00</td>\n",
       "      <td>254.00</td>\n",
       "      <td>522.50</td>\n",
       "      <td>757.250</td>\n",
       "      <td>1000.00</td>\n",
       "    </tr>\n",
       "    <tr>\n",
       "      <th>sales_month_8</th>\n",
       "      <td>1000.0</td>\n",
       "      <td>504.56900</td>\n",
       "      <td>289.945691</td>\n",
       "      <td>5.00</td>\n",
       "      <td>240.50</td>\n",
       "      <td>499.50</td>\n",
       "      <td>762.250</td>\n",
       "      <td>1000.00</td>\n",
       "    </tr>\n",
       "    <tr>\n",
       "      <th>sales_month_9</th>\n",
       "      <td>1000.0</td>\n",
       "      <td>491.93400</td>\n",
       "      <td>287.514731</td>\n",
       "      <td>0.00</td>\n",
       "      <td>247.25</td>\n",
       "      <td>495.50</td>\n",
       "      <td>735.250</td>\n",
       "      <td>1000.00</td>\n",
       "    </tr>\n",
       "    <tr>\n",
       "      <th>sales_month_10</th>\n",
       "      <td>1000.0</td>\n",
       "      <td>514.79800</td>\n",
       "      <td>288.710119</td>\n",
       "      <td>1.00</td>\n",
       "      <td>267.00</td>\n",
       "      <td>532.00</td>\n",
       "      <td>770.250</td>\n",
       "      <td>1000.00</td>\n",
       "    </tr>\n",
       "    <tr>\n",
       "      <th>sales_month_11</th>\n",
       "      <td>1000.0</td>\n",
       "      <td>505.83800</td>\n",
       "      <td>288.824510</td>\n",
       "      <td>0.00</td>\n",
       "      <td>251.25</td>\n",
       "      <td>502.00</td>\n",
       "      <td>761.000</td>\n",
       "      <td>1000.00</td>\n",
       "    </tr>\n",
       "    <tr>\n",
       "      <th>sales_month_12</th>\n",
       "      <td>1000.0</td>\n",
       "      <td>500.38600</td>\n",
       "      <td>278.509459</td>\n",
       "      <td>4.00</td>\n",
       "      <td>259.00</td>\n",
       "      <td>500.50</td>\n",
       "      <td>730.000</td>\n",
       "      <td>1000.00</td>\n",
       "    </tr>\n",
       "  </tbody>\n",
       "</table>\n",
       "</div>"
      ],
      "text/plain": [
       "                 count       mean         std   min     25%     50%      75%  \\\n",
       "product_id      1000.0  500.50000  288.819436  1.00  250.75  500.50  750.250   \n",
       "price           1000.0  247.67713  144.607983  7.29  121.81  250.92  373.435   \n",
       "review_score    1000.0    3.02760    1.171243  1.00    2.00    3.10    4.000   \n",
       "review_count    1000.0  526.50600  282.269932  1.00  283.75  543.00  772.000   \n",
       "sales_month_1   1000.0  498.30600  289.941478  0.00  245.50  507.50  740.750   \n",
       "sales_month_2   1000.0  507.66100  285.992689  2.00  262.50  508.00  756.250   \n",
       "sales_month_3   1000.0  506.73900  294.010873  0.00  243.75  493.00  777.250   \n",
       "sales_month_4   1000.0  503.82300  286.645567  0.00  261.50  501.50  749.500   \n",
       "sales_month_5   1000.0  487.19400  287.844324  0.00  221.00  497.00  727.000   \n",
       "sales_month_6   1000.0  491.65300  289.234018  0.00  236.00  479.50  740.500   \n",
       "sales_month_7   1000.0  507.01100  291.047287  0.00  254.00  522.50  757.250   \n",
       "sales_month_8   1000.0  504.56900  289.945691  5.00  240.50  499.50  762.250   \n",
       "sales_month_9   1000.0  491.93400  287.514731  0.00  247.25  495.50  735.250   \n",
       "sales_month_10  1000.0  514.79800  288.710119  1.00  267.00  532.00  770.250   \n",
       "sales_month_11  1000.0  505.83800  288.824510  0.00  251.25  502.00  761.000   \n",
       "sales_month_12  1000.0  500.38600  278.509459  4.00  259.00  500.50  730.000   \n",
       "\n",
       "                    max  \n",
       "product_id      1000.00  \n",
       "price            499.86  \n",
       "review_score       5.00  \n",
       "review_count     999.00  \n",
       "sales_month_1   1000.00  \n",
       "sales_month_2   1000.00  \n",
       "sales_month_3    999.00  \n",
       "sales_month_4   1000.00  \n",
       "sales_month_5   1000.00  \n",
       "sales_month_6   1000.00  \n",
       "sales_month_7   1000.00  \n",
       "sales_month_8   1000.00  \n",
       "sales_month_9   1000.00  \n",
       "sales_month_10  1000.00  \n",
       "sales_month_11  1000.00  \n",
       "sales_month_12  1000.00  "
      ]
     },
     "execution_count": 8,
     "metadata": {},
     "output_type": "execute_result"
    }
   ],
   "source": [
    "summary = df.describe().T\n",
    "summary"
   ]
  },
  {
   "cell_type": "code",
   "execution_count": 9,
   "id": "2bc7ce8c",
   "metadata": {},
   "outputs": [
    {
     "name": "stdout",
     "output_type": "stream",
     "text": [
      "Missing values in each column:\n",
      " product_id        0\n",
      "product_name      0\n",
      "category          0\n",
      "price             0\n",
      "review_score      0\n",
      "review_count      0\n",
      "sales_month_1     0\n",
      "sales_month_2     0\n",
      "sales_month_3     0\n",
      "sales_month_4     0\n",
      "sales_month_5     0\n",
      "sales_month_6     0\n",
      "sales_month_7     0\n",
      "sales_month_8     0\n",
      "sales_month_9     0\n",
      "sales_month_10    0\n",
      "sales_month_11    0\n",
      "sales_month_12    0\n",
      "dtype: int64\n"
     ]
    }
   ],
   "source": [
    "missing_values = df.isnull().sum()\n",
    "print(\"Missing values in each column:\\n\",missing_values)"
   ]
  },
  {
   "cell_type": "code",
   "execution_count": 10,
   "id": "337dffae",
   "metadata": {},
   "outputs": [
    {
     "data": {
      "text/plain": [
       "array(['Clothing', 'Home & Kitchen', 'Toys', 'Books', 'Electronics',\n",
       "       'Health', 'Sports'], dtype=object)"
      ]
     },
     "execution_count": 10,
     "metadata": {},
     "output_type": "execute_result"
    }
   ],
   "source": [
    "df[\"category\"].unique()"
   ]
  },
  {
   "cell_type": "code",
   "execution_count": 11,
   "id": "dd415643",
   "metadata": {},
   "outputs": [
    {
     "data": {
      "text/plain": [
       "0    Books\n",
       "Name: category, dtype: object"
      ]
     },
     "execution_count": 11,
     "metadata": {},
     "output_type": "execute_result"
    }
   ],
   "source": [
    "df[\"category\"].mode()\n"
   ]
  },
  {
   "cell_type": "code",
   "execution_count": 12,
   "id": "51836a98",
   "metadata": {},
   "outputs": [
    {
     "data": {
      "text/plain": [
       "0     47.25\n",
       "1     97.35\n",
       "2    159.30\n",
       "3    248.85\n",
       "4    318.53\n",
       "5    362.52\n",
       "6    400.71\n",
       "7    485.11\n",
       "Name: price, dtype: float64"
      ]
     },
     "execution_count": 12,
     "metadata": {},
     "output_type": "execute_result"
    }
   ],
   "source": [
    "df[\"price\"].mode(all)"
   ]
  },
  {
   "cell_type": "code",
   "execution_count": 13,
   "id": "c0c609a4",
   "metadata": {},
   "outputs": [
    {
     "data": {
      "text/plain": [
       "np.int64(0)"
      ]
     },
     "execution_count": 13,
     "metadata": {},
     "output_type": "execute_result"
    }
   ],
   "source": [
    "df.duplicated().sum()"
   ]
  },
  {
   "cell_type": "code",
   "execution_count": 14,
   "id": "c9e5d465",
   "metadata": {},
   "outputs": [
    {
     "name": "stdout",
     "output_type": "stream",
     "text": [
      "Product with the highest sales: Product_224 with 9151 units sold.\n",
      "Product with the lowest sales: Product_123 with 2972 units sold.\n"
     ]
    }
   ],
   "source": [
    "df['total_sales'] = df[[f'sales_month_{i}' for i in range(1, 13)]].sum(axis=1)\n",
    "\n",
    "# Identify the product with the highest sales\n",
    "max_sales_product = df.loc[df['total_sales'].idxmax()]\n",
    "max_sales_product_name = max_sales_product['product_name']\n",
    "max_sales_amount = max_sales_product['total_sales']\n",
    "\n",
    "# Identify the product with the lowest sales\n",
    "min_sales_product = df.loc[df['total_sales'].idxmin()]\n",
    "min_sales_product_name = min_sales_product['product_name']\n",
    "min_sales_amount = min_sales_product['total_sales']\n",
    "\n",
    "# Display the results\n",
    "print(f\"Product with the highest sales: {max_sales_product_name} with {max_sales_amount} units sold.\")\n",
    "print(f\"Product with the lowest sales: {min_sales_product_name} with {min_sales_amount} units sold.\")"
   ]
  },
  {
   "cell_type": "code",
   "execution_count": 15,
   "id": "b1e6741d",
   "metadata": {},
   "outputs": [
    {
     "data": {
      "text/plain": [
       "<Axes: >"
      ]
     },
     "execution_count": 15,
     "metadata": {},
     "output_type": "execute_result"
    },
    {
     "data": {
      "image/png": "[encoded data removed]",
      "text/plain": [
       "<Figure size 640x480 with 1 Axes>"
      ]
     },
     "metadata": {},
     "output_type": "display_data"
    }
   ],
   "source": [
    "sns.boxplot(df,orient='h')"
   ]
  },
  {
   "cell_type": "code",
   "execution_count": 16,
   "id": "1aed7806",
   "metadata": {},
   "outputs": [],
   "source": [
    "#📊🌟 Distribution of Numerical Features"
   ]
  },
  {
   "cell_type": "code",
   "execution_count": 17,
   "id": "35079b0c",
   "metadata": {},
   "outputs": [
    {
     "data": {
      "image/png": "[encoded data removed]",
      "text/plain": [
       "<Figure size 2000x1500 with 16 Axes>"
      ]
     },
     "metadata": {},
     "output_type": "display_data"
    }
   ],
   "source": [
    "# List of numerical features\n",
    "numerical_features = ['price', 'review_score', 'review_count'] + [f'sales_month_{i}' for i in range(1, 13)]\n",
    "\n",
    "# Set a beautiful color palette using Seaborn\n",
    "sns.set_palette(\"plasma\")\n",
    "\n",
    "# Plotting histograms\n",
    "fig, axes = plt.subplots(4, 4, figsize=(20, 15))\n",
    "axes = axes.flatten()\n",
    "\n",
    "for i, feature in enumerate(numerical_features):\n",
    "    sns.histplot(df[feature], bins=15, kde=False, ax=axes[i], color=sns.color_palette(\"plasma\")[i % len(sns.color_palette(\"plasma\"))])\n",
    "    axes[i].set_title(feature, fontsize=12)\n",
    "    axes[i].set_xlabel('')\n",
    "    axes[i].set_ylabel('')\n",
    "\n",
    "plt.tight_layout()\n",
    "plt.suptitle('Histograms of Numerical Features', fontsize=16, y=1.02)\n",
    "plt.show()"
   ]
  },
  {
   "cell_type": "code",
   "execution_count": 18,
   "id": "75a9ab97",
   "metadata": {},
   "outputs": [],
   "source": [
    "#🎨📊 Data Visualizations"
   ]
  },
  {
   "cell_type": "code",
   "execution_count": 19,
   "id": "a2c83cfd",
   "metadata": {},
   "outputs": [
    {
     "data": {
      "application/vnd.plotly.v1+json": {
       "config": {
        "plotlyServerURL": "https://plot.ly"
       },
       "data": [
        {
         "alignmentgroup": "True",
         "hovertemplate": "Product Category=%{x}<br>Total Sales=%{marker.color}<extra></extra>",
         "legendgroup": "",
         "marker": {
          "color": [
           15000,
           12000,
           10000,
           8000,
           5000
          ],
          "coloraxis": "coloraxis",
          "line": {
           "color": "black",
           "width": 2
          },
          "pattern": {
           "shape": ""
          }
         },
         "name": "",
         "offsetgroup": "",
         "orientation": "v",
         "showlegend": false,
         "text": [
          15000,
          12000,
          10000,
          8000,
          5000
         ],
         "textposition": "outside",
         "type": "bar",
         "x": [
          "Electronics",
          "Clothing",
          "Home & Kitchen",
          "Books",
          "Toys"
         ],
         "xaxis": "x",
         "y": [
          15000,
          12000,
          10000,
          8000,
          5000
         ],
         "yaxis": "y"
        }
       ],
       "layout": {
        "barmode": "relative",
        "coloraxis": {
         "colorbar": {
          "title": {
           "text": "Total Sales"
          }
         },
         "colorscale": [
          [
           0,
           "#440154"
          ],
          [
           0.1111111111111111,
           "#482878"
          ],
          [
           0.2222222222222222,
           "#3e4989"
          ],
          [
           0.3333333333333333,
           "#31688e"
          ],
          [
           0.4444444444444444,
           "#26828e"
          ],
          [
           0.5555555555555556,
           "#1f9e89"
          ],
          [
           0.6666666666666666,
           "#35b779"
          ],
          [
           0.7777777777777778,
           "#6ece58"
          ],
          [
           0.8888888888888888,
           "#b5de2b"
          ],
          [
           1,
           "#fde725"
          ]
         ]
        },
        "height": 600,
        "legend": {
         "tracegroupgap": 0
        },
        "plot_bgcolor": "white",
        "template": {
         "data": {
          "bar": [
           {
            "error_x": {
             "color": "#2a3f5f"
            },
            "error_y": {
             "color": "#2a3f5f"
            },
            "marker": {
             "line": {
              "color": "#E5ECF6",
              "width": 0.5
             },
             "pattern": {
              "fillmode": "overlay",
              "size": 10,
              "solidity": 0.2
             }
            },
            "type": "bar"
           }
          ],
          "barpolar": [
           {
            "marker": {
             "line": {
              "color": "#E5ECF6",
              "width": 0.5
             },
             "pattern": {
              "fillmode": "overlay",
              "size": 10,
              "solidity": 0.2
             }
            },
            "type": "barpolar"
           }
          ],
          "carpet": [
           {
            "aaxis": {
             "endlinecolor": "#2a3f5f",
             "gridcolor": "white",
             "linecolor": "white",
             "minorgridcolor": "white",
             "startlinecolor": "#2a3f5f"
            },
            "baxis": {
             "endlinecolor": "#2a3f5f",
             "gridcolor": "white",
             "linecolor": "white",
             "minorgridcolor": "white",
             "startlinecolor": "#2a3f5f"
            },
            "type": "carpet"
           }
          ],
          "choropleth": [
           {
            "colorbar": {
             "outlinewidth": 0,
             "ticks": ""
            },
            "type": "choropleth"
           }
          ],
          "contour": [
           {
            "colorbar": {
             "outlinewidth": 0,
             "ticks": ""
            },
            "colorscale": [
             [
              0,
              "#0d0887"
             ],
             [
              0.1111111111111111,
              "#46039f"
             ],
             [
              0.2222222222222222,
              "#7201a8"
             ],
             [
              0.3333333333333333,
              "#9c179e"
             ],
             [
              0.4444444444444444,
              "#bd3786"
             ],
             [
              0.5555555555555556,
              "#d8576b"
             ],
             [
              0.6666666666666666,
              "#ed7953"
             ],
             [
              0.7777777777777778,
              "#fb9f3a"
             ],
             [
              0.8888888888888888,
              "#fdca26"
             ],
             [
              1,
              "#f0f921"
             ]
            ],
            "type": "contour"
           }
          ],
          "contourcarpet": [
           {
            "colorbar": {
             "outlinewidth": 0,
             "ticks": ""
            },
            "type": "contourcarpet"
           }
          ],
          "heatmap": [
           {
            "colorbar": {
             "outlinewidth": 0,
             "ticks": ""
            },
            "colorscale": [
             [
              0,
              "#0d0887"
             ],
             [
              0.1111111111111111,
              "#46039f"
             ],
             [
              0.2222222222222222,
              "#7201a8"
             ],
             [
              0.3333333333333333,
              "#9c179e"
             ],
             [
              0.4444444444444444,
              "#bd3786"
             ],
             [
              0.5555555555555556,
              "#d8576b"
             ],
             [
              0.6666666666666666,
              "#ed7953"
             ],
             [
              0.7777777777777778,
              "#fb9f3a"
             ],
             [
              0.8888888888888888,
              "#fdca26"
             ],
             [
              1,
              "#f0f921"
             ]
            ],
            "type": "heatmap"
           }
          ],
          "heatmapgl": [
           {
            "colorbar": {
             "outlinewidth": 0,
             "ticks": ""
            },
            "colorscale": [
             [
              0,
              "#0d0887"
             ],
             [
              0.1111111111111111,
              "#46039f"
             ],
             [
              0.2222222222222222,
              "#7201a8"
             ],
             [
              0.3333333333333333,
              "#9c179e"
             ],
             [
              0.4444444444444444,
              "#bd3786"
             ],
             [
              0.5555555555555556,
              "#d8576b"
             ],
             [
              0.6666666666666666,
              "#ed7953"
             ],
             [
              0.7777777777777778,
              "#fb9f3a"
             ],
             [
              0.8888888888888888,
              "#fdca26"
             ],
             [
              1,
              "#f0f921"
             ]
            ],
            "type": "heatmapgl"
           }
          ],
          "histogram": [
           {
            "marker": {
             "pattern": {
              "fillmode": "overlay",
              "size": 10,
              "solidity": 0.2
             }
            },
            "type": "histogram"
           }
          ],
          "histogram2d": [
           {
            "colorbar": {
             "outlinewidth": 0,
             "ticks": ""
            },
            "colorscale": [
             [
              0,
              "#0d0887"
             ],
             [
              0.1111111111111111,
              "#46039f"
             ],
             [
              0.2222222222222222,
              "#7201a8"
             ],
             [
              0.3333333333333333,
              "#9c179e"
             ],
             [
              0.4444444444444444,
              "#bd3786"
             ],
             [
              0.5555555555555556,
              "#d8576b"
             ],
             [
              0.6666666666666666,
              "#ed7953"
             ],
             [
              0.7777777777777778,
              "#fb9f3a"
             ],
             [
              0.8888888888888888,
              "#fdca26"
             ],
             [
              1,
              "#f0f921"
             ]
            ],
            "type": "histogram2d"
           }
          ],
          "histogram2dcontour": [
           {
            "colorbar": {
             "outlinewidth": 0,
             "ticks": ""
            },
            "colorscale": [
             [
              0,
              "#0d0887"
             ],
             [
              0.1111111111111111,
              "#46039f"
             ],
             [
              0.2222222222222222,
              "#7201a8"
             ],
             [
              0.3333333333333333,
              "#9c179e"
             ],
             [
              0.4444444444444444,
              "#bd3786"
             ],
             [
              0.5555555555555556,
              "#d8576b"
             ],
             [
              0.6666666666666666,
              "#ed7953"
             ],
             [
              0.7777777777777778,
              "#fb9f3a"
             ],
             [
              0.8888888888888888,
              "#fdca26"
             ],
             [
              1,
              "#f0f921"
             ]
            ],
            "type": "histogram2dcontour"
           }
          ],
          "mesh3d": [
           {
            "colorbar": {
             "outlinewidth": 0,
             "ticks": ""
            },
            "type": "mesh3d"
           }
          ],
          "parcoords": [
           {
            "line": {
             "colorbar": {
              "outlinewidth": 0,
              "ticks": ""
             }
            },
            "type": "parcoords"
           }
          ],
          "pie": [
           {
            "automargin": true,
            "type": "pie"
           }
          ],
          "scatter": [
           {
            "fillpattern": {
             "fillmode": "overlay",
             "size": 10,
             "solidity": 0.2
            },
            "type": "scatter"
           }
          ],
          "scatter3d": [
           {
            "line": {
             "colorbar": {
              "outlinewidth": 0,
              "ticks": ""
             }
            },
            "marker": {
             "colorbar": {
              "outlinewidth": 0,
              "ticks": ""
             }
            },
            "type": "scatter3d"
           }
          ],
          "scattercarpet": [
           {
            "marker": {
             "colorbar": {
              "outlinewidth": 0,
              "ticks": ""
             }
            },
            "type": "scattercarpet"
           }
          ],
          "scattergeo": [
           {
            "marker": {
             "colorbar": {
              "outlinewidth": 0,
              "ticks": ""
             }
            },
            "type": "scattergeo"
           }
          ],
          "scattergl": [
           {
            "marker": {
             "colorbar": {
              "outlinewidth": 0,
              "ticks": ""
             }
            },
            "type": "scattergl"
           }
          ],
          "scattermapbox": [
           {
            "marker": {
             "colorbar": {
              "outlinewidth": 0,
              "ticks": ""
             }
            },
            "type": "scattermapbox"
           }
          ],
          "scatterpolar": [
           {
            "marker": {
             "colorbar": {
              "outlinewidth": 0,
              "ticks": ""
             }
            },
            "type": "scatterpolar"
           }
          ],
          "scatterpolargl": [
           {
            "marker": {
             "colorbar": {
              "outlinewidth": 0,
              "ticks": ""
             }
            },
            "type": "scatterpolargl"
           }
          ],
          "scatterternary": [
           {
            "marker": {
             "colorbar": {
              "outlinewidth": 0,
              "ticks": ""
             }
            },
            "type": "scatterternary"
           }
          ],
          "surface": [
           {
            "colorbar": {
             "outlinewidth": 0,
             "ticks": ""
            },
            "colorscale": [
             [
              0,
              "#0d0887"
             ],
             [
              0.1111111111111111,
              "#46039f"
             ],
             [
              0.2222222222222222,
              "#7201a8"
             ],
             [
              0.3333333333333333,
              "#9c179e"
             ],
             [
              0.4444444444444444,
              "#bd3786"
             ],
             [
              0.5555555555555556,
              "#d8576b"
             ],
             [
              0.6666666666666666,
              "#ed7953"
             ],
             [
              0.7777777777777778,
              "#fb9f3a"
             ],
             [
              0.8888888888888888,
              "#fdca26"
             ],
             [
              1,
              "#f0f921"
             ]
            ],
            "type": "surface"
           }
          ],
          "table": [
           {
            "cells": {
             "fill": {
              "color": "#EBF0F8"
             },
             "line": {
              "color": "white"
             }
            },
            "header": {
             "fill": {
              "color": "#C8D4E3"
             },
             "line": {
              "color": "white"
             }
            },
            "type": "table"
           }
          ]
         },
         "layout": {
          "annotationdefaults": {
           "arrowcolor": "#2a3f5f",
           "arrowhead": 0,
           "arrowwidth": 1
          },
          "autotypenumbers": "strict",
          "coloraxis": {
           "colorbar": {
            "outlinewidth": 0,
            "ticks": ""
           }
          },
          "colorscale": {
           "diverging": [
            [
             0,
             "#8e0152"
            ],
            [
             0.1,
             "#c51b7d"
            ],
            [
             0.2,
             "#de77ae"
            ],
            [
             0.3,
             "#f1b6da"
            ],
            [
             0.4,
             "#fde0ef"
            ],
            [
             0.5,
             "#f7f7f7"
            ],
            [
             0.6,
             "#e6f5d0"
            ],
            [
             0.7,
             "#b8e186"
            ],
            [
             0.8,
             "#7fbc41"
            ],
            [
             0.9,
             "#4d9221"
            ],
            [
             1,
             "#276419"
            ]
           ],
           "sequential": [
            [
             0,
             "#0d0887"
            ],
            [
             0.1111111111111111,
             "#46039f"
            ],
            [
             0.2222222222222222,
             "#7201a8"
            ],
            [
             0.3333333333333333,
             "#9c179e"
            ],
            [
             0.4444444444444444,
             "#bd3786"
            ],
            [
             0.5555555555555556,
             "#d8576b"
            ],
            [
             0.6666666666666666,
             "#ed7953"
            ],
            [
             0.7777777777777778,
             "#fb9f3a"
            ],
            [
             0.8888888888888888,
             "#fdca26"
            ],
            [
             1,
             "#f0f921"
            ]
           ],
           "sequentialminus": [
            [
             0,
             "#0d0887"
            ],
            [
             0.1111111111111111,
             "#46039f"
            ],
            [
             0.2222222222222222,
             "#7201a8"
            ],
            [
             0.3333333333333333,
             "#9c179e"
            ],
            [
             0.4444444444444444,
             "#bd3786"
            ],
            [
             0.5555555555555556,
             "#d8576b"
            ],
            [
             0.6666666666666666,
             "#ed7953"
            ],
            [
             0.7777777777777778,
             "#fb9f3a"
            ],
            [
             0.8888888888888888,
             "#fdca26"
            ],
            [
             1,
             "#f0f921"
            ]
           ]
          },
          "colorway": [
           "#636efa",
           "#EF553B",
           "#00cc96",
           "#ab63fa",
           "#FFA15A",
           "#19d3f3",
           "#FF6692",
           "#B6E880",
           "#FF97FF",
           "#FECB52"
          ],
          "font": {
           "color": "#2a3f5f"
          },
          "geo": {
           "bgcolor": "white",
           "lakecolor": "white",
           "landcolor": "#E5ECF6",
           "showlakes": true,
           "showland": true,
           "subunitcolor": "white"
          },
          "hoverlabel": {
           "align": "left"
          },
          "hovermode": "closest",
          "mapbox": {
           "style": "light"
          },
          "paper_bgcolor": "white",
          "plot_bgcolor": "#E5ECF6",
          "polar": {
           "angularaxis": {
            "gridcolor": "white",
            "linecolor": "white",
            "ticks": ""
           },
           "bgcolor": "#E5ECF6",
           "radialaxis": {
            "gridcolor": "white",
            "linecolor": "white",
            "ticks": ""
           }
          },
          "scene": {
           "xaxis": {
            "backgroundcolor": "#E5ECF6",
            "gridcolor": "white",
            "gridwidth": 2,
            "linecolor": "white",
            "showbackground": true,
            "ticks": "",
            "zerolinecolor": "white"
           },
           "yaxis": {
            "backgroundcolor": "#E5ECF6",
            "gridcolor": "white",
            "gridwidth": 2,
            "linecolor": "white",
            "showbackground": true,
            "ticks": "",
            "zerolinecolor": "white"
           },
           "zaxis": {
            "backgroundcolor": "#E5ECF6",
            "gridcolor": "white",
            "gridwidth": 2,
            "linecolor": "white",
            "showbackground": true,
            "ticks": "",
            "zerolinecolor": "white"
           }
          },
          "shapedefaults": {
           "line": {
            "color": "#2a3f5f"
           }
          },
          "ternary": {
           "aaxis": {
            "gridcolor": "white",
            "linecolor": "white",
            "ticks": ""
           },
           "baxis": {
            "gridcolor": "white",
            "linecolor": "white",
            "ticks": ""
           },
           "bgcolor": "#E5ECF6",
           "caxis": {
            "gridcolor": "white",
            "linecolor": "white",
            "ticks": ""
           }
          },
          "title": {
           "x": 0.05
          },
          "xaxis": {
           "automargin": true,
           "gridcolor": "white",
           "linecolor": "white",
           "ticks": "",
           "title": {
            "standoff": 15
           },
           "zerolinecolor": "white",
           "zerolinewidth": 2
          },
          "yaxis": {
           "automargin": true,
           "gridcolor": "white",
           "linecolor": "white",
           "ticks": "",
           "title": {
            "standoff": 15
           },
           "zerolinecolor": "white",
           "zerolinewidth": 2
          }
         }
        },
        "title": {
         "font": {
          "size": 24
         },
         "text": "Top-Performing Product Categories"
        },
        "xaxis": {
         "anchor": "y",
         "domain": [
          0,
          1
         ],
         "tickangle": -45,
         "title": {
          "text": "Product Category"
         }
        },
        "yaxis": {
         "anchor": "x",
         "domain": [
          0,
          1
         ],
         "title": {
          "text": "Total Sales"
         }
        }
       }
      }
     },
     "metadata": {},
     "output_type": "display_data"
    }
   ],
   "source": [
    "# Import Plotly Express\n",
    "import plotly.express as px\n",
    "import pandas as pd\n",
    "\n",
    "# Define the 'category_sales' DataFrame (example data)\n",
    "data = {\n",
    "    'category': ['Electronics', 'Clothing', 'Books', 'Home & Kitchen', 'Toys'],\n",
    "    'total_sales': [15000, 12000, 8000, 10000, 5000]\n",
    "}\n",
    "category_sales = pd.DataFrame(data)\n",
    "\n",
    "# Sort the 'category_sales' DataFrame by 'total_sales'\n",
    "category_sales = category_sales.sort_values(by='total_sales', ascending=False)\n",
    "\n",
    "# Create a bar plot for top-performing product categories with a beautiful color palette\n",
    "fig = px.bar(\n",
    "    category_sales, \n",
    "    x='category', \n",
    "    y='total_sales',\n",
    "    title='Top-Performing Product Categories',\n",
    "    labels={'category': 'Product Category', 'total_sales': 'Total Sales'},\n",
    "    color='total_sales', \n",
    "    color_continuous_scale=px.colors.sequential.Viridis  # Upgraded color palette\n",
    ")\n",
    "\n",
    "fig.update_layout(\n",
    "    title_font_size=24,\n",
    "    xaxis_title=\"Product Category\",\n",
    "    yaxis_title=\"Total Sales\",\n",
    "    xaxis_tickangle=-45,  # Tilt x-axis labels for better readability\n",
    "    plot_bgcolor='white',  # Clean background\n",
    "    height=600  # Increase plot height\n",
    ")\n",
    "\n",
    "fig.update_traces(\n",
    "    text=category_sales['total_sales'],\n",
    "    textposition='outside',\n",
    "    marker=dict(line=dict(width=2, color='black'))\n",
    ")\n",
    "\n",
    "# Show the plot\n",
    "fig.show()"
   ]
  },
  {
   "cell_type": "code",
   "execution_count": 20,
   "id": "d923e1b8",
   "metadata": {},
   "outputs": [
    {
     "data": {
      "application/vnd.plotly.v1+json": {
       "config": {
        "plotlyServerURL": "https://plot.ly"
       },
       "data": [
        {
         "alignmentgroup": "True",
         "hovertemplate": "category=%{x}<br>review_score=%{marker.color}<extra></extra>",
         "legendgroup": "",
         "marker": {
          "color": [
           3.1434782608695655,
           3.096753246753247,
           3.0915032679738563,
           3.0351999999999997,
           3.0050359712230215,
           2.9521428571428574,
           2.870860927152318
          ],
          "coloraxis": "coloraxis",
          "line": {
           "color": "black",
           "width": 2
          },
          "pattern": {
           "shape": ""
          }
         },
         "name": "",
         "offsetgroup": "",
         "orientation": "v",
         "showlegend": false,
         "text": [
          3.14,
          3.1,
          3.09,
          3.04,
          3.01,
          2.95,
          2.87
         ],
         "textposition": "outside",
         "type": "bar",
         "x": [
          "Electronics",
          "Books",
          "Sports",
          "Home & Kitchen",
          "Health",
          "Clothing",
          "Toys"
         ],
         "xaxis": "x",
         "y": [
          3.1434782608695655,
          3.096753246753247,
          3.0915032679738563,
          3.0351999999999997,
          3.0050359712230215,
          2.9521428571428574,
          2.870860927152318
         ],
         "yaxis": "y"
        }
       ],
       "layout": {
        "barmode": "relative",
        "coloraxis": {
         "colorbar": {
          "title": {
           "text": "review_score"
          }
         },
         "colorscale": [
          [
           0,
           "#440154"
          ],
          [
           0.1111111111111111,
           "#482878"
          ],
          [
           0.2222222222222222,
           "#3e4989"
          ],
          [
           0.3333333333333333,
           "#31688e"
          ],
          [
           0.4444444444444444,
           "#26828e"
          ],
          [
           0.5555555555555556,
           "#1f9e89"
          ],
          [
           0.6666666666666666,
           "#35b779"
          ],
          [
           0.7777777777777778,
           "#6ece58"
          ],
          [
           0.8888888888888888,
           "#b5de2b"
          ],
          [
           1,
           "#fde725"
          ]
         ]
        },
        "font": {
         "color": "black",
         "family": "Arial",
         "size": 16
        },
        "height": 500,
        "legend": {
         "tracegroupgap": 0
        },
        "margin": {
         "b": 120,
         "l": 70,
         "pad": 4,
         "r": 50,
         "t": 100
        },
        "template": {
         "data": {
          "bar": [
           {
            "error_x": {
             "color": "#2a3f5f"
            },
            "error_y": {
             "color": "#2a3f5f"
            },
            "marker": {
             "line": {
              "color": "white",
              "width": 0.5
             },
             "pattern": {
              "fillmode": "overlay",
              "size": 10,
              "solidity": 0.2
             }
            },
            "type": "bar"
           }
          ],
          "barpolar": [
           {
            "marker": {
             "line": {
              "color": "white",
              "width": 0.5
             },
             "pattern": {
              "fillmode": "overlay",
              "size": 10,
              "solidity": 0.2
             }
            },
            "type": "barpolar"
           }
          ],
          "carpet": [
           {
            "aaxis": {
             "endlinecolor": "#2a3f5f",
             "gridcolor": "#C8D4E3",
             "linecolor": "#C8D4E3",
             "minorgridcolor": "#C8D4E3",
             "startlinecolor": "#2a3f5f"
            },
            "baxis": {
             "endlinecolor": "#2a3f5f",
             "gridcolor": "#C8D4E3",
             "linecolor": "#C8D4E3",
             "minorgridcolor": "#C8D4E3",
             "startlinecolor": "#2a3f5f"
            },
            "type": "carpet"
           }
          ],
          "choropleth": [
           {
            "colorbar": {
             "outlinewidth": 0,
             "ticks": ""
            },
            "type": "choropleth"
           }
          ],
          "contour": [
           {
            "colorbar": {
             "outlinewidth": 0,
             "ticks": ""
            },
            "colorscale": [
             [
              0,
              "#0d0887"
             ],
             [
              0.1111111111111111,
              "#46039f"
             ],
             [
              0.2222222222222222,
              "#7201a8"
             ],
             [
              0.3333333333333333,
              "#9c179e"
             ],
             [
              0.4444444444444444,
              "#bd3786"
             ],
             [
              0.5555555555555556,
              "#d8576b"
             ],
             [
              0.6666666666666666,
              "#ed7953"
             ],
             [
              0.7777777777777778,
              "#fb9f3a"
             ],
             [
              0.8888888888888888,
              "#fdca26"
             ],
             [
              1,
              "#f0f921"
             ]
            ],
            "type": "contour"
           }
          ],
          "contourcarpet": [
           {
            "colorbar": {
             "outlinewidth": 0,
             "ticks": ""
            },
            "type": "contourcarpet"
           }
          ],
          "heatmap": [
           {
            "colorbar": {
             "outlinewidth": 0,
             "ticks": ""
            },
            "colorscale": [
             [
              0,
              "#0d0887"
             ],
             [
              0.1111111111111111,
              "#46039f"
             ],
             [
              0.2222222222222222,
              "#7201a8"
             ],
             [
              0.3333333333333333,
              "#9c179e"
             ],
             [
              0.4444444444444444,
              "#bd3786"
             ],
             [
              0.5555555555555556,
              "#d8576b"
             ],
             [
              0.6666666666666666,
              "#ed7953"
             ],
             [
              0.7777777777777778,
              "#fb9f3a"
             ],
             [
              0.8888888888888888,
              "#fdca26"
             ],
             [
              1,
              "#f0f921"
             ]
            ],
            "type": "heatmap"
           }
          ],
          "heatmapgl": [
           {
            "colorbar": {
             "outlinewidth": 0,
             "ticks": ""
            },
            "colorscale": [
             [
              0,
              "#0d0887"
             ],
             [
              0.1111111111111111,
              "#46039f"
             ],
             [
              0.2222222222222222,
              "#7201a8"
             ],
             [
              0.3333333333333333,
              "#9c179e"
             ],
             [
              0.4444444444444444,
              "#bd3786"
             ],
             [
              0.5555555555555556,
              "#d8576b"
             ],
             [
              0.6666666666666666,
              "#ed7953"
             ],
             [
              0.7777777777777778,
              "#fb9f3a"
             ],
             [
              0.8888888888888888,
              "#fdca26"
             ],
             [
              1,
              "#f0f921"
             ]
            ],
            "type": "heatmapgl"
           }
          ],
          "histogram": [
           {
            "marker": {
             "pattern": {
              "fillmode": "overlay",
              "size": 10,
              "solidity": 0.2
             }
            },
            "type": "histogram"
           }
          ],
          "histogram2d": [
           {
            "colorbar": {
             "outlinewidth": 0,
             "ticks": ""
            },
            "colorscale": [
             [
              0,
              "#0d0887"
             ],
             [
              0.1111111111111111,
              "#46039f"
             ],
             [
              0.2222222222222222,
              "#7201a8"
             ],
             [
              0.3333333333333333,
              "#9c179e"
             ],
             [
              0.4444444444444444,
              "#bd3786"
             ],
             [
              0.5555555555555556,
              "#d8576b"
             ],
             [
              0.6666666666666666,
              "#ed7953"
             ],
             [
              0.7777777777777778,
              "#fb9f3a"
             ],
             [
              0.8888888888888888,
              "#fdca26"
             ],
             [
              1,
              "#f0f921"
             ]
            ],
            "type": "histogram2d"
           }
          ],
          "histogram2dcontour": [
           {
            "colorbar": {
             "outlinewidth": 0,
             "ticks": ""
            },
            "colorscale": [
             [
              0,
              "#0d0887"
             ],
             [
              0.1111111111111111,
              "#46039f"
             ],
             [
              0.2222222222222222,
              "#7201a8"
             ],
             [
              0.3333333333333333,
              "#9c179e"
             ],
             [
              0.4444444444444444,
              "#bd3786"
             ],
             [
              0.5555555555555556,
              "#d8576b"
             ],
             [
              0.6666666666666666,
              "#ed7953"
             ],
             [
              0.7777777777777778,
              "#fb9f3a"
             ],
             [
              0.8888888888888888,
              "#fdca26"
             ],
             [
              1,
              "#f0f921"
             ]
            ],
            "type": "histogram2dcontour"
           }
          ],
          "mesh3d": [
           {
            "colorbar": {
             "outlinewidth": 0,
             "ticks": ""
            },
            "type": "mesh3d"
           }
          ],
          "parcoords": [
           {
            "line": {
             "colorbar": {
              "outlinewidth": 0,
              "ticks": ""
             }
            },
            "type": "parcoords"
           }
          ],
          "pie": [
           {
            "automargin": true,
            "type": "pie"
           }
          ],
          "scatter": [
           {
            "fillpattern": {
             "fillmode": "overlay",
             "size": 10,
             "solidity": 0.2
            },
            "type": "scatter"
           }
          ],
          "scatter3d": [
           {
            "line": {
             "colorbar": {
              "outlinewidth": 0,
              "ticks": ""
             }
            },
            "marker": {
             "colorbar": {
              "outlinewidth": 0,
              "ticks": ""
             }
            },
            "type": "scatter3d"
           }
          ],
          "scattercarpet": [
           {
            "marker": {
             "colorbar": {
              "outlinewidth": 0,
              "ticks": ""
             }
            },
            "type": "scattercarpet"
           }
          ],
          "scattergeo": [
           {
            "marker": {
             "colorbar": {
              "outlinewidth": 0,
              "ticks": ""
             }
            },
            "type": "scattergeo"
           }
          ],
          "scattergl": [
           {
            "marker": {
             "colorbar": {
              "outlinewidth": 0,
              "ticks": ""
             }
            },
            "type": "scattergl"
           }
          ],
          "scattermapbox": [
           {
            "marker": {
             "colorbar": {
              "outlinewidth": 0,
              "ticks": ""
             }
            },
            "type": "scattermapbox"
           }
          ],
          "scatterpolar": [
           {
            "marker": {
             "colorbar": {
              "outlinewidth": 0,
              "ticks": ""
             }
            },
            "type": "scatterpolar"
           }
          ],
          "scatterpolargl": [
           {
            "marker": {
             "colorbar": {
              "outlinewidth": 0,
              "ticks": ""
             }
            },
            "type": "scatterpolargl"
           }
          ],
          "scatterternary": [
           {
            "marker": {
             "colorbar": {
              "outlinewidth": 0,
              "ticks": ""
             }
            },
            "type": "scatterternary"
           }
          ],
          "surface": [
           {
            "colorbar": {
             "outlinewidth": 0,
             "ticks": ""
            },
            "colorscale": [
             [
              0,
              "#0d0887"
             ],
             [
              0.1111111111111111,
              "#46039f"
             ],
             [
              0.2222222222222222,
              "#7201a8"
             ],
             [
              0.3333333333333333,
              "#9c179e"
             ],
             [
              0.4444444444444444,
              "#bd3786"
             ],
             [
              0.5555555555555556,
              "#d8576b"
             ],
             [
              0.6666666666666666,
              "#ed7953"
             ],
             [
              0.7777777777777778,
              "#fb9f3a"
             ],
             [
              0.8888888888888888,
              "#fdca26"
             ],
             [
              1,
              "#f0f921"
             ]
            ],
            "type": "surface"
           }
          ],
          "table": [
           {
            "cells": {
             "fill": {
              "color": "#EBF0F8"
             },
             "line": {
              "color": "white"
             }
            },
            "header": {
             "fill": {
              "color": "#C8D4E3"
             },
             "line": {
              "color": "white"
             }
            },
            "type": "table"
           }
          ]
         },
         "layout": {
          "annotationdefaults": {
           "arrowcolor": "#2a3f5f",
           "arrowhead": 0,
           "arrowwidth": 1
          },
          "autotypenumbers": "strict",
          "coloraxis": {
           "colorbar": {
            "outlinewidth": 0,
            "ticks": ""
           }
          },
          "colorscale": {
           "diverging": [
            [
             0,
             "#8e0152"
            ],
            [
             0.1,
             "#c51b7d"
            ],
            [
             0.2,
             "#de77ae"
            ],
            [
             0.3,
             "#f1b6da"
            ],
            [
             0.4,
             "#fde0ef"
            ],
            [
             0.5,
             "#f7f7f7"
            ],
            [
             0.6,
             "#e6f5d0"
            ],
            [
             0.7,
             "#b8e186"
            ],
            [
             0.8,
             "#7fbc41"
            ],
            [
             0.9,
             "#4d9221"
            ],
            [
             1,
             "#276419"
            ]
           ],
           "sequential": [
            [
             0,
             "#0d0887"
            ],
            [
             0.1111111111111111,
             "#46039f"
            ],
            [
             0.2222222222222222,
             "#7201a8"
            ],
            [
             0.3333333333333333,
             "#9c179e"
            ],
            [
             0.4444444444444444,
             "#bd3786"
            ],
            [
             0.5555555555555556,
             "#d8576b"
            ],
            [
             0.6666666666666666,
             "#ed7953"
            ],
            [
             0.7777777777777778,
             "#fb9f3a"
            ],
            [
             0.8888888888888888,
             "#fdca26"
            ],
            [
             1,
             "#f0f921"
            ]
           ],
           "sequentialminus": [
            [
             0,
             "#0d0887"
            ],
            [
             0.1111111111111111,
             "#46039f"
            ],
            [
             0.2222222222222222,
             "#7201a8"
            ],
            [
             0.3333333333333333,
             "#9c179e"
            ],
            [
             0.4444444444444444,
             "#bd3786"
            ],
            [
             0.5555555555555556,
             "#d8576b"
            ],
            [
             0.6666666666666666,
             "#ed7953"
            ],
            [
             0.7777777777777778,
             "#fb9f3a"
            ],
            [
             0.8888888888888888,
             "#fdca26"
            ],
            [
             1,
             "#f0f921"
            ]
           ]
          },
          "colorway": [
           "#636efa",
           "#EF553B",
           "#00cc96",
           "#ab63fa",
           "#FFA15A",
           "#19d3f3",
           "#FF6692",
           "#B6E880",
           "#FF97FF",
           "#FECB52"
          ],
          "font": {
           "color": "#2a3f5f"
          },
          "geo": {
           "bgcolor": "white",
           "lakecolor": "white",
           "landcolor": "white",
           "showlakes": true,
           "showland": true,
           "subunitcolor": "#C8D4E3"
          },
          "hoverlabel": {
           "align": "left"
          },
          "hovermode": "closest",
          "mapbox": {
           "style": "light"
          },
          "paper_bgcolor": "white",
          "plot_bgcolor": "white",
          "polar": {
           "angularaxis": {
            "gridcolor": "#EBF0F8",
            "linecolor": "#EBF0F8",
            "ticks": ""
           },
           "bgcolor": "white",
           "radialaxis": {
            "gridcolor": "#EBF0F8",
            "linecolor": "#EBF0F8",
            "ticks": ""
           }
          },
          "scene": {
           "xaxis": {
            "backgroundcolor": "white",
            "gridcolor": "#DFE8F3",
            "gridwidth": 2,
            "linecolor": "#EBF0F8",
            "showbackground": true,
            "ticks": "",
            "zerolinecolor": "#EBF0F8"
           },
           "yaxis": {
            "backgroundcolor": "white",
            "gridcolor": "#DFE8F3",
            "gridwidth": 2,
            "linecolor": "#EBF0F8",
            "showbackground": true,
            "ticks": "",
            "zerolinecolor": "#EBF0F8"
           },
           "zaxis": {
            "backgroundcolor": "white",
            "gridcolor": "#DFE8F3",
            "gridwidth": 2,
            "linecolor": "#EBF0F8",
            "showbackground": true,
            "ticks": "",
            "zerolinecolor": "#EBF0F8"
           }
          },
          "shapedefaults": {
           "line": {
            "color": "#2a3f5f"
           }
          },
          "ternary": {
           "aaxis": {
            "gridcolor": "#DFE8F3",
            "linecolor": "#A2B1C6",
            "ticks": ""
           },
           "baxis": {
            "gridcolor": "#DFE8F3",
            "linecolor": "#A2B1C6",
            "ticks": ""
           },
           "bgcolor": "white",
           "caxis": {
            "gridcolor": "#DFE8F3",
            "linecolor": "#A2B1C6",
            "ticks": ""
           }
          },
          "title": {
           "x": 0.05
          },
          "xaxis": {
           "automargin": true,
           "gridcolor": "#EBF0F8",
           "linecolor": "#EBF0F8",
           "ticks": "",
           "title": {
            "standoff": 15
           },
           "zerolinecolor": "#EBF0F8",
           "zerolinewidth": 2
          },
          "yaxis": {
           "automargin": true,
           "gridcolor": "#EBF0F8",
           "linecolor": "#EBF0F8",
           "ticks": "",
           "title": {
            "standoff": 15
           },
           "zerolinecolor": "#EBF0F8",
           "zerolinewidth": 2
          }
         }
        },
        "title": {
         "font": {
          "size": 24
         },
         "text": "Average Review Score by Category"
        },
        "width": 1000,
        "xaxis": {
         "anchor": "y",
         "domain": [
          0,
          1
         ],
         "linecolor": "black",
         "linewidth": 2,
         "showgrid": false,
         "title": {
          "text": "Category"
         }
        },
        "yaxis": {
         "anchor": "x",
         "domain": [
          0,
          1
         ],
         "gridcolor": "rgba(200,200,200,0.5)",
         "linecolor": "black",
         "linewidth": 2,
         "showgrid": true,
         "title": {
          "text": "Average Review Score"
         }
        }
       }
      }
     },
     "metadata": {},
     "output_type": "display_data"
    },
    {
     "data": {
      "application/vnd.plotly.v1+json": {
       "config": {
        "plotlyServerURL": "https://plot.ly"
       },
       "data": [
        {
         "alignmentgroup": "True",
         "hovertemplate": "category=%{x}<br>review_count=%{marker.color}<extra></extra>",
         "legendgroup": "",
         "marker": {
          "color": [
           73862,
           79263,
           83726,
           67735,
           72398,
           70347,
           79175
          ],
          "coloraxis": "coloraxis",
          "line": {
           "color": "black",
           "width": 2
          },
          "pattern": {
           "shape": ""
          }
         },
         "name": "",
         "offsetgroup": "",
         "orientation": "v",
         "showlegend": false,
         "text": [
          73862,
          79263,
          83726,
          67735,
          72398,
          70347,
          79175
         ],
         "textposition": "outside",
         "type": "bar",
         "x": [
          "Electronics",
          "Books",
          "Sports",
          "Home & Kitchen",
          "Health",
          "Clothing",
          "Toys"
         ],
         "xaxis": "x",
         "y": [
          73862,
          79263,
          83726,
          67735,
          72398,
          70347,
          79175
         ],
         "yaxis": "y"
        }
       ],
       "layout": {
        "barmode": "relative",
        "coloraxis": {
         "colorbar": {
          "title": {
           "text": "review_count"
          }
         },
         "colorscale": [
          [
           0,
           "#440154"
          ],
          [
           0.1111111111111111,
           "#482878"
          ],
          [
           0.2222222222222222,
           "#3e4989"
          ],
          [
           0.3333333333333333,
           "#31688e"
          ],
          [
           0.4444444444444444,
           "#26828e"
          ],
          [
           0.5555555555555556,
           "#1f9e89"
          ],
          [
           0.6666666666666666,
           "#35b779"
          ],
          [
           0.7777777777777778,
           "#6ece58"
          ],
          [
           0.8888888888888888,
           "#b5de2b"
          ],
          [
           1,
           "#fde725"
          ]
         ]
        },
        "font": {
         "color": "black",
         "family": "Arial",
         "size": 16
        },
        "height": 500,
        "legend": {
         "tracegroupgap": 0
        },
        "margin": {
         "b": 120,
         "l": 70,
         "pad": 4,
         "r": 50,
         "t": 100
        },
        "template": {
         "data": {
          "bar": [
           {
            "error_x": {
             "color": "#2a3f5f"
            },
            "error_y": {
             "color": "#2a3f5f"
            },
            "marker": {
             "line": {
              "color": "white",
              "width": 0.5
             },
             "pattern": {
              "fillmode": "overlay",
              "size": 10,
              "solidity": 0.2
             }
            },
            "type": "bar"
           }
          ],
          "barpolar": [
           {
            "marker": {
             "line": {
              "color": "white",
              "width": 0.5
             },
             "pattern": {
              "fillmode": "overlay",
              "size": 10,
              "solidity": 0.2
             }
            },
            "type": "barpolar"
           }
          ],
          "carpet": [
           {
            "aaxis": {
             "endlinecolor": "#2a3f5f",
             "gridcolor": "#C8D4E3",
             "linecolor": "#C8D4E3",
             "minorgridcolor": "#C8D4E3",
             "startlinecolor": "#2a3f5f"
            },
            "baxis": {
             "endlinecolor": "#2a3f5f",
             "gridcolor": "#C8D4E3",
             "linecolor": "#C8D4E3",
             "minorgridcolor": "#C8D4E3",
             "startlinecolor": "#2a3f5f"
            },
            "type": "carpet"
           }
          ],
          "choropleth": [
           {
            "colorbar": {
             "outlinewidth": 0,
             "ticks": ""
            },
            "type": "choropleth"
           }
          ],
          "contour": [
           {
            "colorbar": {
             "outlinewidth": 0,
             "ticks": ""
            },
            "colorscale": [
             [
              0,
              "#0d0887"
             ],
             [
              0.1111111111111111,
              "#46039f"
             ],
             [
              0.2222222222222222,
              "#7201a8"
             ],
             [
              0.3333333333333333,
              "#9c179e"
             ],
             [
              0.4444444444444444,
              "#bd3786"
             ],
             [
              0.5555555555555556,
              "#d8576b"
             ],
             [
              0.6666666666666666,
              "#ed7953"
             ],
             [
              0.7777777777777778,
              "#fb9f3a"
             ],
             [
              0.8888888888888888,
              "#fdca26"
             ],
             [
              1,
              "#f0f921"
             ]
            ],
            "type": "contour"
           }
          ],
          "contourcarpet": [
           {
            "colorbar": {
             "outlinewidth": 0,
             "ticks": ""
            },
            "type": "contourcarpet"
           }
          ],
          "heatmap": [
           {
            "colorbar": {
             "outlinewidth": 0,
             "ticks": ""
            },
            "colorscale": [
             [
              0,
              "#0d0887"
             ],
             [
              0.1111111111111111,
              "#46039f"
             ],
             [
              0.2222222222222222,
              "#7201a8"
             ],
             [
              0.3333333333333333,
              "#9c179e"
             ],
             [
              0.4444444444444444,
              "#bd3786"
             ],
             [
              0.5555555555555556,
              "#d8576b"
             ],
             [
              0.6666666666666666,
              "#ed7953"
             ],
             [
              0.7777777777777778,
              "#fb9f3a"
             ],
             [
              0.8888888888888888,
              "#fdca26"
             ],
             [
              1,
              "#f0f921"
             ]
            ],
            "type": "heatmap"
           }
          ],
          "heatmapgl": [
           {
            "colorbar": {
             "outlinewidth": 0,
             "ticks": ""
            },
            "colorscale": [
             [
              0,
              "#0d0887"
             ],
             [
              0.1111111111111111,
              "#46039f"
             ],
             [
              0.2222222222222222,
              "#7201a8"
             ],
             [
              0.3333333333333333,
              "#9c179e"
             ],
             [
              0.4444444444444444,
              "#bd3786"
             ],
             [
              0.5555555555555556,
              "#d8576b"
             ],
             [
              0.6666666666666666,
              "#ed7953"
             ],
             [
              0.7777777777777778,
              "#fb9f3a"
             ],
             [
              0.8888888888888888,
              "#fdca26"
             ],
             [
              1,
              "#f0f921"
             ]
            ],
            "type": "heatmapgl"
           }
          ],
          "histogram": [
           {
            "marker": {
             "pattern": {
              "fillmode": "overlay",
              "size": 10,
              "solidity": 0.2
             }
            },
            "type": "histogram"
           }
          ],
          "histogram2d": [
           {
            "colorbar": {
             "outlinewidth": 0,
             "ticks": ""
            },
            "colorscale": [
             [
              0,
              "#0d0887"
             ],
             [
              0.1111111111111111,
              "#46039f"
             ],
             [
              0.2222222222222222,
              "#7201a8"
             ],
             [
              0.3333333333333333,
              "#9c179e"
             ],
             [
              0.4444444444444444,
              "#bd3786"
             ],
             [
              0.5555555555555556,
              "#d8576b"
             ],
             [
              0.6666666666666666,
              "#ed7953"
             ],
             [
              0.7777777777777778,
              "#fb9f3a"
             ],
             [
              0.8888888888888888,
              "#fdca26"
             ],
             [
              1,
              "#f0f921"
             ]
            ],
            "type": "histogram2d"
           }
          ],
          "histogram2dcontour": [
           {
            "colorbar": {
             "outlinewidth": 0,
             "ticks": ""
            },
            "colorscale": [
             [
              0,
              "#0d0887"
             ],
             [
              0.1111111111111111,
              "#46039f"
             ],
             [
              0.2222222222222222,
              "#7201a8"
             ],
             [
              0.3333333333333333,
              "#9c179e"
             ],
             [
              0.4444444444444444,
              "#bd3786"
             ],
             [
              0.5555555555555556,
              "#d8576b"
             ],
             [
              0.6666666666666666,
              "#ed7953"
             ],
             [
              0.7777777777777778,
              "#fb9f3a"
             ],
             [
              0.8888888888888888,
              "#fdca26"
             ],
             [
              1,
              "#f0f921"
             ]
            ],
            "type": "histogram2dcontour"
           }
          ],
          "mesh3d": [
           {
            "colorbar": {
             "outlinewidth": 0,
             "ticks": ""
            },
            "type": "mesh3d"
           }
          ],
          "parcoords": [
           {
            "line": {
             "colorbar": {
              "outlinewidth": 0,
              "ticks": ""
             }
            },
            "type": "parcoords"
           }
          ],
          "pie": [
           {
            "automargin": true,
            "type": "pie"
           }
          ],
          "scatter": [
           {
            "fillpattern": {
             "fillmode": "overlay",
             "size": 10,
             "solidity": 0.2
            },
            "type": "scatter"
           }
          ],
          "scatter3d": [
           {
            "line": {
             "colorbar": {
              "outlinewidth": 0,
              "ticks": ""
             }
            },
            "marker": {
             "colorbar": {
              "outlinewidth": 0,
              "ticks": ""
             }
            },
            "type": "scatter3d"
           }
          ],
          "scattercarpet": [
           {
            "marker": {
             "colorbar": {
              "outlinewidth": 0,
              "ticks": ""
             }
            },
            "type": "scattercarpet"
           }
          ],
          "scattergeo": [
           {
            "marker": {
             "colorbar": {
              "outlinewidth": 0,
              "ticks": ""
             }
            },
            "type": "scattergeo"
           }
          ],
          "scattergl": [
           {
            "marker": {
             "colorbar": {
              "outlinewidth": 0,
              "ticks": ""
             }
            },
            "type": "scattergl"
           }
          ],
          "scattermapbox": [
           {
            "marker": {
             "colorbar": {
              "outlinewidth": 0,
              "ticks": ""
             }
            },
            "type": "scattermapbox"
           }
          ],
          "scatterpolar": [
           {
            "marker": {
             "colorbar": {
              "outlinewidth": 0,
              "ticks": ""
             }
            },
            "type": "scatterpolar"
           }
          ],
          "scatterpolargl": [
           {
            "marker": {
             "colorbar": {
              "outlinewidth": 0,
              "ticks": ""
             }
            },
            "type": "scatterpolargl"
           }
          ],
          "scatterternary": [
           {
            "marker": {
             "colorbar": {
              "outlinewidth": 0,
              "ticks": ""
             }
            },
            "type": "scatterternary"
           }
          ],
          "surface": [
           {
            "colorbar": {
             "outlinewidth": 0,
             "ticks": ""
            },
            "colorscale": [
             [
              0,
              "#0d0887"
             ],
             [
              0.1111111111111111,
              "#46039f"
             ],
             [
              0.2222222222222222,
              "#7201a8"
             ],
             [
              0.3333333333333333,
              "#9c179e"
             ],
             [
              0.4444444444444444,
              "#bd3786"
             ],
             [
              0.5555555555555556,
              "#d8576b"
             ],
             [
              0.6666666666666666,
              "#ed7953"
             ],
             [
              0.7777777777777778,
              "#fb9f3a"
             ],
             [
              0.8888888888888888,
              "#fdca26"
             ],
             [
              1,
              "#f0f921"
             ]
            ],
            "type": "surface"
           }
          ],
          "table": [
           {
            "cells": {
             "fill": {
              "color": "#EBF0F8"
             },
             "line": {
              "color": "white"
             }
            },
            "header": {
             "fill": {
              "color": "#C8D4E3"
             },
             "line": {
              "color": "white"
             }
            },
            "type": "table"
           }
          ]
         },
         "layout": {
          "annotationdefaults": {
           "arrowcolor": "#2a3f5f",
           "arrowhead": 0,
           "arrowwidth": 1
          },
          "autotypenumbers": "strict",
          "coloraxis": {
           "colorbar": {
            "outlinewidth": 0,
            "ticks": ""
           }
          },
          "colorscale": {
           "diverging": [
            [
             0,
             "#8e0152"
            ],
            [
             0.1,
             "#c51b7d"
            ],
            [
             0.2,
             "#de77ae"
            ],
            [
             0.3,
             "#f1b6da"
            ],
            [
             0.4,
             "#fde0ef"
            ],
            [
             0.5,
             "#f7f7f7"
            ],
            [
             0.6,
             "#e6f5d0"
            ],
            [
             0.7,
             "#b8e186"
            ],
            [
             0.8,
             "#7fbc41"
            ],
            [
             0.9,
             "#4d9221"
            ],
            [
             1,
             "#276419"
            ]
           ],
           "sequential": [
            [
             0,
             "#0d0887"
            ],
            [
             0.1111111111111111,
             "#46039f"
            ],
            [
             0.2222222222222222,
             "#7201a8"
            ],
            [
             0.3333333333333333,
             "#9c179e"
            ],
            [
             0.4444444444444444,
             "#bd3786"
            ],
            [
             0.5555555555555556,
             "#d8576b"
            ],
            [
             0.6666666666666666,
             "#ed7953"
            ],
            [
             0.7777777777777778,
             "#fb9f3a"
            ],
            [
             0.8888888888888888,
             "#fdca26"
            ],
            [
             1,
             "#f0f921"
            ]
           ],
           "sequentialminus": [
            [
             0,
             "#0d0887"
            ],
            [
             0.1111111111111111,
             "#46039f"
            ],
            [
             0.2222222222222222,
             "#7201a8"
            ],
            [
             0.3333333333333333,
             "#9c179e"
            ],
            [
             0.4444444444444444,
             "#bd3786"
            ],
            [
             0.5555555555555556,
             "#d8576b"
            ],
            [
             0.6666666666666666,
             "#ed7953"
            ],
            [
             0.7777777777777778,
             "#fb9f3a"
            ],
            [
             0.8888888888888888,
             "#fdca26"
            ],
            [
             1,
             "#f0f921"
            ]
           ]
          },
          "colorway": [
           "#636efa",
           "#EF553B",
           "#00cc96",
           "#ab63fa",
           "#FFA15A",
           "#19d3f3",
           "#FF6692",
           "#B6E880",
           "#FF97FF",
           "#FECB52"
          ],
          "font": {
           "color": "#2a3f5f"
          },
          "geo": {
           "bgcolor": "white",
           "lakecolor": "white",
           "landcolor": "white",
           "showlakes": true,
           "showland": true,
           "subunitcolor": "#C8D4E3"
          },
          "hoverlabel": {
           "align": "left"
          },
          "hovermode": "closest",
          "mapbox": {
           "style": "light"
          },
          "paper_bgcolor": "white",
          "plot_bgcolor": "white",
          "polar": {
           "angularaxis": {
            "gridcolor": "#EBF0F8",
            "linecolor": "#EBF0F8",
            "ticks": ""
           },
           "bgcolor": "white",
           "radialaxis": {
            "gridcolor": "#EBF0F8",
            "linecolor": "#EBF0F8",
            "ticks": ""
           }
          },
          "scene": {
           "xaxis": {
            "backgroundcolor": "white",
            "gridcolor": "#DFE8F3",
            "gridwidth": 2,
            "linecolor": "#EBF0F8",
            "showbackground": true,
            "ticks": "",
            "zerolinecolor": "#EBF0F8"
           },
           "yaxis": {
            "backgroundcolor": "white",
            "gridcolor": "#DFE8F3",
            "gridwidth": 2,
            "linecolor": "#EBF0F8",
            "showbackground": true,
            "ticks": "",
            "zerolinecolor": "#EBF0F8"
           },
           "zaxis": {
            "backgroundcolor": "white",
            "gridcolor": "#DFE8F3",
            "gridwidth": 2,
            "linecolor": "#EBF0F8",
            "showbackground": true,
            "ticks": "",
            "zerolinecolor": "#EBF0F8"
           }
          },
          "shapedefaults": {
           "line": {
            "color": "#2a3f5f"
           }
          },
          "ternary": {
           "aaxis": {
            "gridcolor": "#DFE8F3",
            "linecolor": "#A2B1C6",
            "ticks": ""
           },
           "baxis": {
            "gridcolor": "#DFE8F3",
            "linecolor": "#A2B1C6",
            "ticks": ""
           },
           "bgcolor": "white",
           "caxis": {
            "gridcolor": "#DFE8F3",
            "linecolor": "#A2B1C6",
            "ticks": ""
           }
          },
          "title": {
           "x": 0.05
          },
          "xaxis": {
           "automargin": true,
           "gridcolor": "#EBF0F8",
           "linecolor": "#EBF0F8",
           "ticks": "",
           "title": {
            "standoff": 15
           },
           "zerolinecolor": "#EBF0F8",
           "zerolinewidth": 2
          },
          "yaxis": {
           "automargin": true,
           "gridcolor": "#EBF0F8",
           "linecolor": "#EBF0F8",
           "ticks": "",
           "title": {
            "standoff": 15
           },
           "zerolinecolor": "#EBF0F8",
           "zerolinewidth": 2
          }
         }
        },
        "title": {
         "font": {
          "size": 24
         },
         "text": "Total Review Count by Category"
        },
        "width": 1000,
        "xaxis": {
         "anchor": "y",
         "domain": [
          0,
          1
         ],
         "linecolor": "black",
         "linewidth": 2,
         "showgrid": false,
         "title": {
          "text": "Category"
         }
        },
        "yaxis": {
         "anchor": "x",
         "domain": [
          0,
          1
         ],
         "gridcolor": "rgba(200,200,200,0.5)",
         "linecolor": "black",
         "linewidth": 2,
         "showgrid": true,
         "title": {
          "text": "Total Review Count"
         }
        }
       }
      }
     },
     "metadata": {},
     "output_type": "display_data"
    }
   ],
   "source": [
    "# Calculate average review score and total review count per category\n",
    "category_reviews = df.groupby('category').agg({\n",
    "    'review_score': 'mean',\n",
    "    'review_count': 'sum'\n",
    "}).sort_values(by='review_score', ascending=False).reset_index()\n",
    "\n",
    "# Plotting Average Review Score by Category with Plotly\n",
    "fig = px.bar(category_reviews, x='category', y='review_score',\n",
    "             title='Average Review Score by Category',\n",
    "             color='review_score', color_continuous_scale='Viridis')  # Beautiful color palette\n",
    "\n",
    "fig.update_layout(\n",
    "    title_font_size=24,\n",
    "    xaxis_title=\"Category\",\n",
    "    yaxis_title=\"Average Review Score\",\n",
    "    template=\"plotly_white\",  # Light background\n",
    "    xaxis=dict(showgrid=False, linecolor='black', linewidth=2),\n",
    "    yaxis=dict(showgrid=True, gridcolor='rgba(200,200,200,0.5)', linecolor='black', linewidth=2),\n",
    "    font=dict(family=\"Arial\", size=16, color=\"black\"),\n",
    "    margin=dict(l=70, r=50, b=120, t=100, pad=4),  # Adjust margins\n",
    "    width=1000,  # Width of the plot\n",
    "    height=500   # Decreased plot height\n",
    ")\n",
    "\n",
    "fig.update_traces(text=category_reviews['review_score'].round(2),\n",
    "                  textposition='outside',\n",
    "                  marker=dict(line=dict(width=2, color='black')))\n",
    "\n",
    "fig.show()\n",
    "# Plotting Total Review Count by Category with Plotly\n",
    "fig = px.bar(category_reviews, x='category', y='review_count',\n",
    "             title='Total Review Count by Category',\n",
    "             color='review_count', color_continuous_scale='Viridis')  # Beautiful color palette\n",
    "\n",
    "fig.update_layout(\n",
    "    title_font_size=24,\n",
    "    xaxis_title=\"Category\",\n",
    "    yaxis_title=\"Total Review Count\",\n",
    "    template=\"plotly_white\",  # Light background\n",
    "    xaxis=dict(showgrid=False, linecolor='black', linewidth=2),\n",
    "    yaxis=dict(showgrid=True, gridcolor='rgba(200,200,200,0.5)', linecolor='black', linewidth=2),\n",
    "    font=dict(family=\"Arial\", size=16, color=\"black\"),\n",
    "    margin=dict(l=70, r=50, b=120, t=100, pad=4),  # Adjust margins\n",
    "    width=1000,  # Width of the plot\n",
    "    height=500   # Decreased plot height\n",
    ")\n",
    "\n",
    "fig.update_traces(text=category_reviews['review_count'],\n",
    "                  textposition='outside',\n",
    "                  marker=dict(line=dict(width=2, color='black')))\n",
    "\n",
    "fig.show()"
   ]
  },
  {
   "cell_type": "code",
   "execution_count": 21,
   "id": "3ad68678",
   "metadata": {},
   "outputs": [
    {
     "data": {
      "application/vnd.plotly.v1+json": {
       "config": {
        "plotlyServerURL": "https://plot.ly"
       },
       "data": [
        {
         "alignmentgroup": "True",
         "hovertemplate": "category=%{x}<br>review_score=%{marker.color}<extra></extra>",
         "legendgroup": "",
         "marker": {
          "color": [
           3.1434782608695655,
           3.096753246753247,
           3.0915032679738563,
           3.0351999999999997,
           3.0050359712230215,
           2.9521428571428574,
           2.870860927152318
          ],
          "coloraxis": "coloraxis",
          "pattern": {
           "shape": ""
          }
         },
         "name": "",
         "offsetgroup": "",
         "orientation": "v",
         "showlegend": false,
         "text": [
          3.1434782608695655,
          3.096753246753247,
          3.0915032679738563,
          3.0351999999999997,
          3.0050359712230215,
          2.9521428571428574,
          2.870860927152318
         ],
         "textfont": {
          "size": 14
         },
         "textposition": "outside",
         "texttemplate": "%{text:.2f}",
         "type": "bar",
         "x": [
          "Electronics",
          "Books",
          "Sports",
          "Home & Kitchen",
          "Health",
          "Clothing",
          "Toys"
         ],
         "xaxis": "x",
         "y": [
          3.1434782608695655,
          3.096753246753247,
          3.0915032679738563,
          3.0351999999999997,
          3.0050359712230215,
          2.9521428571428574,
          2.870860927152318
         ],
         "yaxis": "y"
        }
       ],
       "layout": {
        "barmode": "relative",
        "coloraxis": {
         "colorbar": {
          "title": {
           "text": "review_score"
          }
         },
         "colorscale": [
          [
           0,
           "rgb(247,251,255)"
          ],
          [
           0.125,
           "rgb(222,235,247)"
          ],
          [
           0.25,
           "rgb(198,219,239)"
          ],
          [
           0.375,
           "rgb(158,202,225)"
          ],
          [
           0.5,
           "rgb(107,174,214)"
          ],
          [
           0.625,
           "rgb(66,146,198)"
          ],
          [
           0.75,
           "rgb(33,113,181)"
          ],
          [
           0.875,
           "rgb(8,81,156)"
          ],
          [
           1,
           "rgb(8,48,107)"
          ]
         ]
        },
        "font": {
         "color": "black",
         "family": "Arial",
         "size": 16
        },
        "height": 500,
        "legend": {
         "tracegroupgap": 0
        },
        "margin": {
         "b": 140,
         "l": 70,
         "pad": 4,
         "r": 50,
         "t": 120
        },
        "paper_bgcolor": "rgba(245,245,245,1)",
        "plot_bgcolor": "rgba(255,255,255,0.9)",
        "template": {
         "data": {
          "bar": [
           {
            "error_x": {
             "color": "#2a3f5f"
            },
            "error_y": {
             "color": "#2a3f5f"
            },
            "marker": {
             "line": {
              "color": "white",
              "width": 0.5
             },
             "pattern": {
              "fillmode": "overlay",
              "size": 10,
              "solidity": 0.2
             }
            },
            "type": "bar"
           }
          ],
          "barpolar": [
           {
            "marker": {
             "line": {
              "color": "white",
              "width": 0.5
             },
             "pattern": {
              "fillmode": "overlay",
              "size": 10,
              "solidity": 0.2
             }
            },
            "type": "barpolar"
           }
          ],
          "carpet": [
           {
            "aaxis": {
             "endlinecolor": "#2a3f5f",
             "gridcolor": "#C8D4E3",
             "linecolor": "#C8D4E3",
             "minorgridcolor": "#C8D4E3",
             "startlinecolor": "#2a3f5f"
            },
            "baxis": {
             "endlinecolor": "#2a3f5f",
             "gridcolor": "#C8D4E3",
             "linecolor": "#C8D4E3",
             "minorgridcolor": "#C8D4E3",
             "startlinecolor": "#2a3f5f"
            },
            "type": "carpet"
           }
          ],
          "choropleth": [
           {
            "colorbar": {
             "outlinewidth": 0,
             "ticks": ""
            },
            "type": "choropleth"
           }
          ],
          "contour": [
           {
            "colorbar": {
             "outlinewidth": 0,
             "ticks": ""
            },
            "colorscale": [
             [
              0,
              "#0d0887"
             ],
             [
              0.1111111111111111,
              "#46039f"
             ],
             [
              0.2222222222222222,
              "#7201a8"
             ],
             [
              0.3333333333333333,
              "#9c179e"
             ],
             [
              0.4444444444444444,
              "#bd3786"
             ],
             [
              0.5555555555555556,
              "#d8576b"
             ],
             [
              0.6666666666666666,
              "#ed7953"
             ],
             [
              0.7777777777777778,
              "#fb9f3a"
             ],
             [
              0.8888888888888888,
              "#fdca26"
             ],
             [
              1,
              "#f0f921"
             ]
            ],
            "type": "contour"
           }
          ],
          "contourcarpet": [
           {
            "colorbar": {
             "outlinewidth": 0,
             "ticks": ""
            },
            "type": "contourcarpet"
           }
          ],
          "heatmap": [
           {
            "colorbar": {
             "outlinewidth": 0,
             "ticks": ""
            },
            "colorscale": [
             [
              0,
              "#0d0887"
             ],
             [
              0.1111111111111111,
              "#46039f"
             ],
             [
              0.2222222222222222,
              "#7201a8"
             ],
             [
              0.3333333333333333,
              "#9c179e"
             ],
             [
              0.4444444444444444,
              "#bd3786"
             ],
             [
              0.5555555555555556,
              "#d8576b"
             ],
             [
              0.6666666666666666,
              "#ed7953"
             ],
             [
              0.7777777777777778,
              "#fb9f3a"
             ],
             [
              0.8888888888888888,
              "#fdca26"
             ],
             [
              1,
              "#f0f921"
             ]
            ],
            "type": "heatmap"
           }
          ],
          "heatmapgl": [
           {
            "colorbar": {
             "outlinewidth": 0,
             "ticks": ""
            },
            "colorscale": [
             [
              0,
              "#0d0887"
             ],
             [
              0.1111111111111111,
              "#46039f"
             ],
             [
              0.2222222222222222,
              "#7201a8"
             ],
             [
              0.3333333333333333,
              "#9c179e"
             ],
             [
              0.4444444444444444,
              "#bd3786"
             ],
             [
              0.5555555555555556,
              "#d8576b"
             ],
             [
              0.6666666666666666,
              "#ed7953"
             ],
             [
              0.7777777777777778,
              "#fb9f3a"
             ],
             [
              0.8888888888888888,
              "#fdca26"
             ],
             [
              1,
              "#f0f921"
             ]
            ],
            "type": "heatmapgl"
           }
          ],
          "histogram": [
           {
            "marker": {
             "pattern": {
              "fillmode": "overlay",
              "size": 10,
              "solidity": 0.2
             }
            },
            "type": "histogram"
           }
          ],
          "histogram2d": [
           {
            "colorbar": {
             "outlinewidth": 0,
             "ticks": ""
            },
            "colorscale": [
             [
              0,
              "#0d0887"
             ],
             [
              0.1111111111111111,
              "#46039f"
             ],
             [
              0.2222222222222222,
              "#7201a8"
             ],
             [
              0.3333333333333333,
              "#9c179e"
             ],
             [
              0.4444444444444444,
              "#bd3786"
             ],
             [
              0.5555555555555556,
              "#d8576b"
             ],
             [
              0.6666666666666666,
              "#ed7953"
             ],
             [
              0.7777777777777778,
              "#fb9f3a"
             ],
             [
              0.8888888888888888,
              "#fdca26"
             ],
             [
              1,
              "#f0f921"
             ]
            ],
            "type": "histogram2d"
           }
          ],
          "histogram2dcontour": [
           {
            "colorbar": {
             "outlinewidth": 0,
             "ticks": ""
            },
            "colorscale": [
             [
              0,
              "#0d0887"
             ],
             [
              0.1111111111111111,
              "#46039f"
             ],
             [
              0.2222222222222222,
              "#7201a8"
             ],
             [
              0.3333333333333333,
              "#9c179e"
             ],
             [
              0.4444444444444444,
              "#bd3786"
             ],
             [
              0.5555555555555556,
              "#d8576b"
             ],
             [
              0.6666666666666666,
              "#ed7953"
             ],
             [
              0.7777777777777778,
              "#fb9f3a"
             ],
             [
              0.8888888888888888,
              "#fdca26"
             ],
             [
              1,
              "#f0f921"
             ]
            ],
            "type": "histogram2dcontour"
           }
          ],
          "mesh3d": [
           {
            "colorbar": {
             "outlinewidth": 0,
             "ticks": ""
            },
            "type": "mesh3d"
           }
          ],
          "parcoords": [
           {
            "line": {
             "colorbar": {
              "outlinewidth": 0,
              "ticks": ""
             }
            },
            "type": "parcoords"
           }
          ],
          "pie": [
           {
            "automargin": true,
            "type": "pie"
           }
          ],
          "scatter": [
           {
            "fillpattern": {
             "fillmode": "overlay",
             "size": 10,
             "solidity": 0.2
            },
            "type": "scatter"
           }
          ],
          "scatter3d": [
           {
            "line": {
             "colorbar": {
              "outlinewidth": 0,
              "ticks": ""
             }
            },
            "marker": {
             "colorbar": {
              "outlinewidth": 0,
              "ticks": ""
             }
            },
            "type": "scatter3d"
           }
          ],
          "scattercarpet": [
           {
            "marker": {
             "colorbar": {
              "outlinewidth": 0,
              "ticks": ""
             }
            },
            "type": "scattercarpet"
           }
          ],
          "scattergeo": [
           {
            "marker": {
             "colorbar": {
              "outlinewidth": 0,
              "ticks": ""
             }
            },
            "type": "scattergeo"
           }
          ],
          "scattergl": [
           {
            "marker": {
             "colorbar": {
              "outlinewidth": 0,
              "ticks": ""
             }
            },
            "type": "scattergl"
           }
          ],
          "scattermapbox": [
           {
            "marker": {
             "colorbar": {
              "outlinewidth": 0,
              "ticks": ""
             }
            },
            "type": "scattermapbox"
           }
          ],
          "scatterpolar": [
           {
            "marker": {
             "colorbar": {
              "outlinewidth": 0,
              "ticks": ""
             }
            },
            "type": "scatterpolar"
           }
          ],
          "scatterpolargl": [
           {
            "marker": {
             "colorbar": {
              "outlinewidth": 0,
              "ticks": ""
             }
            },
            "type": "scatterpolargl"
           }
          ],
          "scatterternary": [
           {
            "marker": {
             "colorbar": {
              "outlinewidth": 0,
              "ticks": ""
             }
            },
            "type": "scatterternary"
           }
          ],
          "surface": [
           {
            "colorbar": {
             "outlinewidth": 0,
             "ticks": ""
            },
            "colorscale": [
             [
              0,
              "#0d0887"
             ],
             [
              0.1111111111111111,
              "#46039f"
             ],
             [
              0.2222222222222222,
              "#7201a8"
             ],
             [
              0.3333333333333333,
              "#9c179e"
             ],
             [
              0.4444444444444444,
              "#bd3786"
             ],
             [
              0.5555555555555556,
              "#d8576b"
             ],
             [
              0.6666666666666666,
              "#ed7953"
             ],
             [
              0.7777777777777778,
              "#fb9f3a"
             ],
             [
              0.8888888888888888,
              "#fdca26"
             ],
             [
              1,
              "#f0f921"
             ]
            ],
            "type": "surface"
           }
          ],
          "table": [
           {
            "cells": {
             "fill": {
              "color": "#EBF0F8"
             },
             "line": {
              "color": "white"
             }
            },
            "header": {
             "fill": {
              "color": "#C8D4E3"
             },
             "line": {
              "color": "white"
             }
            },
            "type": "table"
           }
          ]
         },
         "layout": {
          "annotationdefaults": {
           "arrowcolor": "#2a3f5f",
           "arrowhead": 0,
           "arrowwidth": 1
          },
          "autotypenumbers": "strict",
          "coloraxis": {
           "colorbar": {
            "outlinewidth": 0,
            "ticks": ""
           }
          },
          "colorscale": {
           "diverging": [
            [
             0,
             "#8e0152"
            ],
            [
             0.1,
             "#c51b7d"
            ],
            [
             0.2,
             "#de77ae"
            ],
            [
             0.3,
             "#f1b6da"
            ],
            [
             0.4,
             "#fde0ef"
            ],
            [
             0.5,
             "#f7f7f7"
            ],
            [
             0.6,
             "#e6f5d0"
            ],
            [
             0.7,
             "#b8e186"
            ],
            [
             0.8,
             "#7fbc41"
            ],
            [
             0.9,
             "#4d9221"
            ],
            [
             1,
             "#276419"
            ]
           ],
           "sequential": [
            [
             0,
             "#0d0887"
            ],
            [
             0.1111111111111111,
             "#46039f"
            ],
            [
             0.2222222222222222,
             "#7201a8"
            ],
            [
             0.3333333333333333,
             "#9c179e"
            ],
            [
             0.4444444444444444,
             "#bd3786"
            ],
            [
             0.5555555555555556,
             "#d8576b"
            ],
            [
             0.6666666666666666,
             "#ed7953"
            ],
            [
             0.7777777777777778,
             "#fb9f3a"
            ],
            [
             0.8888888888888888,
             "#fdca26"
            ],
            [
             1,
             "#f0f921"
            ]
           ],
           "sequentialminus": [
            [
             0,
             "#0d0887"
            ],
            [
             0.1111111111111111,
             "#46039f"
            ],
            [
             0.2222222222222222,
             "#7201a8"
            ],
            [
             0.3333333333333333,
             "#9c179e"
            ],
            [
             0.4444444444444444,
             "#bd3786"
            ],
            [
             0.5555555555555556,
             "#d8576b"
            ],
            [
             0.6666666666666666,
             "#ed7953"
            ],
            [
             0.7777777777777778,
             "#fb9f3a"
            ],
            [
             0.8888888888888888,
             "#fdca26"
            ],
            [
             1,
             "#f0f921"
            ]
           ]
          },
          "colorway": [
           "#636efa",
           "#EF553B",
           "#00cc96",
           "#ab63fa",
           "#FFA15A",
           "#19d3f3",
           "#FF6692",
           "#B6E880",
           "#FF97FF",
           "#FECB52"
          ],
          "font": {
           "color": "#2a3f5f"
          },
          "geo": {
           "bgcolor": "white",
           "lakecolor": "white",
           "landcolor": "white",
           "showlakes": true,
           "showland": true,
           "subunitcolor": "#C8D4E3"
          },
          "hoverlabel": {
           "align": "left"
          },
          "hovermode": "closest",
          "mapbox": {
           "style": "light"
          },
          "paper_bgcolor": "white",
          "plot_bgcolor": "white",
          "polar": {
           "angularaxis": {
            "gridcolor": "#EBF0F8",
            "linecolor": "#EBF0F8",
            "ticks": ""
           },
           "bgcolor": "white",
           "radialaxis": {
            "gridcolor": "#EBF0F8",
            "linecolor": "#EBF0F8",
            "ticks": ""
           }
          },
          "scene": {
           "xaxis": {
            "backgroundcolor": "white",
            "gridcolor": "#DFE8F3",
            "gridwidth": 2,
            "linecolor": "#EBF0F8",
            "showbackground": true,
            "ticks": "",
            "zerolinecolor": "#EBF0F8"
           },
           "yaxis": {
            "backgroundcolor": "white",
            "gridcolor": "#DFE8F3",
            "gridwidth": 2,
            "linecolor": "#EBF0F8",
            "showbackground": true,
            "ticks": "",
            "zerolinecolor": "#EBF0F8"
           },
           "zaxis": {
            "backgroundcolor": "white",
            "gridcolor": "#DFE8F3",
            "gridwidth": 2,
            "linecolor": "#EBF0F8",
            "showbackground": true,
            "ticks": "",
            "zerolinecolor": "#EBF0F8"
           }
          },
          "shapedefaults": {
           "line": {
            "color": "#2a3f5f"
           }
          },
          "ternary": {
           "aaxis": {
            "gridcolor": "#DFE8F3",
            "linecolor": "#A2B1C6",
            "ticks": ""
           },
           "baxis": {
            "gridcolor": "#DFE8F3",
            "linecolor": "#A2B1C6",
            "ticks": ""
           },
           "bgcolor": "white",
           "caxis": {
            "gridcolor": "#DFE8F3",
            "linecolor": "#A2B1C6",
            "ticks": ""
           }
          },
          "title": {
           "x": 0.05
          },
          "xaxis": {
           "automargin": true,
           "gridcolor": "#EBF0F8",
           "linecolor": "#EBF0F8",
           "ticks": "",
           "title": {
            "standoff": 15
           },
           "zerolinecolor": "#EBF0F8",
           "zerolinewidth": 2
          },
          "yaxis": {
           "automargin": true,
           "gridcolor": "#EBF0F8",
           "linecolor": "#EBF0F8",
           "ticks": "",
           "title": {
            "standoff": 15
           },
           "zerolinecolor": "#EBF0F8",
           "zerolinewidth": 2
          }
         }
        },
        "title": {
         "font": {
          "size": 24
         },
         "text": "Average Review Score by Category"
        },
        "width": 1000,
        "xaxis": {
         "anchor": "y",
         "domain": [
          0,
          1
         ],
         "gridcolor": "rgba(200,200,200,0.5)",
         "linecolor": "black",
         "linewidth": 2,
         "showgrid": true,
         "tickangle": -45,
         "title": {
          "text": "Category"
         }
        },
        "yaxis": {
         "anchor": "x",
         "domain": [
          0,
          1
         ],
         "gridcolor": "rgba(200,200,200,0.5)",
         "linecolor": "black",
         "linewidth": 2,
         "showgrid": true,
         "title": {
          "text": "Average Review Score"
         }
        }
       }
      }
     },
     "metadata": {},
     "output_type": "display_data"
    },
    {
     "data": {
      "application/vnd.plotly.v1+json": {
       "config": {
        "plotlyServerURL": "https://plot.ly"
       },
       "data": [
        {
         "alignmentgroup": "True",
         "hovertemplate": "category=%{x}<br>review_count=%{marker.color}<extra></extra>",
         "legendgroup": "",
         "marker": {
          "color": [
           73862,
           79263,
           83726,
           67735,
           72398,
           70347,
           79175
          ],
          "coloraxis": "coloraxis",
          "pattern": {
           "shape": ""
          }
         },
         "name": "",
         "offsetgroup": "",
         "orientation": "v",
         "showlegend": false,
         "text": [
          73862,
          79263,
          83726,
          67735,
          72398,
          70347,
          79175
         ],
         "textfont": {
          "size": 14
         },
         "textposition": "outside",
         "texttemplate": "%{text:.0f}",
         "type": "bar",
         "x": [
          "Electronics",
          "Books",
          "Sports",
          "Home & Kitchen",
          "Health",
          "Clothing",
          "Toys"
         ],
         "xaxis": "x",
         "y": [
          73862,
          79263,
          83726,
          67735,
          72398,
          70347,
          79175
         ],
         "yaxis": "y"
        }
       ],
       "layout": {
        "barmode": "relative",
        "coloraxis": {
         "colorbar": {
          "title": {
           "text": "review_count"
          }
         },
         "colorscale": [
          [
           0,
           "rgb(247,251,255)"
          ],
          [
           0.125,
           "rgb(222,235,247)"
          ],
          [
           0.25,
           "rgb(198,219,239)"
          ],
          [
           0.375,
           "rgb(158,202,225)"
          ],
          [
           0.5,
           "rgb(107,174,214)"
          ],
          [
           0.625,
           "rgb(66,146,198)"
          ],
          [
           0.75,
           "rgb(33,113,181)"
          ],
          [
           0.875,
           "rgb(8,81,156)"
          ],
          [
           1,
           "rgb(8,48,107)"
          ]
         ]
        },
        "font": {
         "color": "black",
         "family": "Arial",
         "size": 16
        },
        "height": 500,
        "legend": {
         "tracegroupgap": 0
        },
        "margin": {
         "b": 140,
         "l": 70,
         "pad": 4,
         "r": 50,
         "t": 120
        },
        "paper_bgcolor": "rgba(245,245,245,1)",
        "plot_bgcolor": "rgba(255,255,255,0.9)",
        "template": {
         "data": {
          "bar": [
           {
            "error_x": {
             "color": "#2a3f5f"
            },
            "error_y": {
             "color": "#2a3f5f"
            },
            "marker": {
             "line": {
              "color": "white",
              "width": 0.5
             },
             "pattern": {
              "fillmode": "overlay",
              "size": 10,
              "solidity": 0.2
             }
            },
            "type": "bar"
           }
          ],
          "barpolar": [
           {
            "marker": {
             "line": {
              "color": "white",
              "width": 0.5
             },
             "pattern": {
              "fillmode": "overlay",
              "size": 10,
              "solidity": 0.2
             }
            },
            "type": "barpolar"
           }
          ],
          "carpet": [
           {
            "aaxis": {
             "endlinecolor": "#2a3f5f",
             "gridcolor": "#C8D4E3",
             "linecolor": "#C8D4E3",
             "minorgridcolor": "#C8D4E3",
             "startlinecolor": "#2a3f5f"
            },
            "baxis": {
             "endlinecolor": "#2a3f5f",
             "gridcolor": "#C8D4E3",
             "linecolor": "#C8D4E3",
             "minorgridcolor": "#C8D4E3",
             "startlinecolor": "#2a3f5f"
            },
            "type": "carpet"
           }
          ],
          "choropleth": [
           {
            "colorbar": {
             "outlinewidth": 0,
             "ticks": ""
            },
            "type": "choropleth"
           }
          ],
          "contour": [
           {
            "colorbar": {
             "outlinewidth": 0,
             "ticks": ""
            },
            "colorscale": [
             [
              0,
              "#0d0887"
             ],
             [
              0.1111111111111111,
              "#46039f"
             ],
             [
              0.2222222222222222,
              "#7201a8"
             ],
             [
              0.3333333333333333,
              "#9c179e"
             ],
             [
              0.4444444444444444,
              "#bd3786"
             ],
             [
              0.5555555555555556,
              "#d8576b"
             ],
             [
              0.6666666666666666,
              "#ed7953"
             ],
             [
              0.7777777777777778,
              "#fb9f3a"
             ],
             [
              0.8888888888888888,
              "#fdca26"
             ],
             [
              1,
              "#f0f921"
             ]
            ],
            "type": "contour"
           }
          ],
          "contourcarpet": [
           {
            "colorbar": {
             "outlinewidth": 0,
             "ticks": ""
            },
            "type": "contourcarpet"
           }
          ],
          "heatmap": [
           {
            "colorbar": {
             "outlinewidth": 0,
             "ticks": ""
            },
            "colorscale": [
             [
              0,
              "#0d0887"
             ],
             [
              0.1111111111111111,
              "#46039f"
             ],
             [
              0.2222222222222222,
              "#7201a8"
             ],
             [
              0.3333333333333333,
              "#9c179e"
             ],
             [
              0.4444444444444444,
              "#bd3786"
             ],
             [
              0.5555555555555556,
              "#d8576b"
             ],
             [
              0.6666666666666666,
              "#ed7953"
             ],
             [
              0.7777777777777778,
              "#fb9f3a"
             ],
             [
              0.8888888888888888,
              "#fdca26"
             ],
             [
              1,
              "#f0f921"
             ]
            ],
            "type": "heatmap"
           }
          ],
          "heatmapgl": [
           {
            "colorbar": {
             "outlinewidth": 0,
             "ticks": ""
            },
            "colorscale": [
             [
              0,
              "#0d0887"
             ],
             [
              0.1111111111111111,
              "#46039f"
             ],
             [
              0.2222222222222222,
              "#7201a8"
             ],
             [
              0.3333333333333333,
              "#9c179e"
             ],
             [
              0.4444444444444444,
              "#bd3786"
             ],
             [
              0.5555555555555556,
              "#d8576b"
             ],
             [
              0.6666666666666666,
              "#ed7953"
             ],
             [
              0.7777777777777778,
              "#fb9f3a"
             ],
             [
              0.8888888888888888,
              "#fdca26"
             ],
             [
              1,
              "#f0f921"
             ]
            ],
            "type": "heatmapgl"
           }
          ],
          "histogram": [
           {
            "marker": {
             "pattern": {
              "fillmode": "overlay",
              "size": 10,
              "solidity": 0.2
             }
            },
            "type": "histogram"
           }
          ],
          "histogram2d": [
           {
            "colorbar": {
             "outlinewidth": 0,
             "ticks": ""
            },
            "colorscale": [
             [
              0,
              "#0d0887"
             ],
             [
              0.1111111111111111,
              "#46039f"
             ],
             [
              0.2222222222222222,
              "#7201a8"
             ],
             [
              0.3333333333333333,
              "#9c179e"
             ],
             [
              0.4444444444444444,
              "#bd3786"
             ],
             [
              0.5555555555555556,
              "#d8576b"
             ],
             [
              0.6666666666666666,
              "#ed7953"
             ],
             [
              0.7777777777777778,
              "#fb9f3a"
             ],
             [
              0.8888888888888888,
              "#fdca26"
             ],
             [
              1,
              "#f0f921"
             ]
            ],
            "type": "histogram2d"
           }
          ],
          "histogram2dcontour": [
           {
            "colorbar": {
             "outlinewidth": 0,
             "ticks": ""
            },
            "colorscale": [
             [
              0,
              "#0d0887"
             ],
             [
              0.1111111111111111,
              "#46039f"
             ],
             [
              0.2222222222222222,
              "#7201a8"
             ],
             [
              0.3333333333333333,
              "#9c179e"
             ],
             [
              0.4444444444444444,
              "#bd3786"
             ],
             [
              0.5555555555555556,
              "#d8576b"
             ],
             [
              0.6666666666666666,
              "#ed7953"
             ],
             [
              0.7777777777777778,
              "#fb9f3a"
             ],
             [
              0.8888888888888888,
              "#fdca26"
             ],
             [
              1,
              "#f0f921"
             ]
            ],
            "type": "histogram2dcontour"
           }
          ],
          "mesh3d": [
           {
            "colorbar": {
             "outlinewidth": 0,
             "ticks": ""
            },
            "type": "mesh3d"
           }
          ],
          "parcoords": [
           {
            "line": {
             "colorbar": {
              "outlinewidth": 0,
              "ticks": ""
             }
            },
            "type": "parcoords"
           }
          ],
          "pie": [
           {
            "automargin": true,
            "type": "pie"
           }
          ],
          "scatter": [
           {
            "fillpattern": {
             "fillmode": "overlay",
             "size": 10,
             "solidity": 0.2
            },
            "type": "scatter"
           }
          ],
          "scatter3d": [
           {
            "line": {
             "colorbar": {
              "outlinewidth": 0,
              "ticks": ""
             }
            },
            "marker": {
             "colorbar": {
              "outlinewidth": 0,
              "ticks": ""
             }
            },
            "type": "scatter3d"
           }
          ],
          "scattercarpet": [
           {
            "marker": {
             "colorbar": {
              "outlinewidth": 0,
              "ticks": ""
             }
            },
            "type": "scattercarpet"
           }
          ],
          "scattergeo": [
           {
            "marker": {
             "colorbar": {
              "outlinewidth": 0,
              "ticks": ""
             }
            },
            "type": "scattergeo"
           }
          ],
          "scattergl": [
           {
            "marker": {
             "colorbar": {
              "outlinewidth": 0,
              "ticks": ""
             }
            },
            "type": "scattergl"
           }
          ],
          "scattermapbox": [
           {
            "marker": {
             "colorbar": {
              "outlinewidth": 0,
              "ticks": ""
             }
            },
            "type": "scattermapbox"
           }
          ],
          "scatterpolar": [
           {
            "marker": {
             "colorbar": {
              "outlinewidth": 0,
              "ticks": ""
             }
            },
            "type": "scatterpolar"
           }
          ],
          "scatterpolargl": [
           {
            "marker": {
             "colorbar": {
              "outlinewidth": 0,
              "ticks": ""
             }
            },
            "type": "scatterpolargl"
           }
          ],
          "scatterternary": [
           {
            "marker": {
             "colorbar": {
              "outlinewidth": 0,
              "ticks": ""
             }
            },
            "type": "scatterternary"
           }
          ],
          "surface": [
           {
            "colorbar": {
             "outlinewidth": 0,
             "ticks": ""
            },
            "colorscale": [
             [
              0,
              "#0d0887"
             ],
             [
              0.1111111111111111,
              "#46039f"
             ],
             [
              0.2222222222222222,
              "#7201a8"
             ],
             [
              0.3333333333333333,
              "#9c179e"
             ],
             [
              0.4444444444444444,
              "#bd3786"
             ],
             [
              0.5555555555555556,
              "#d8576b"
             ],
             [
              0.6666666666666666,
              "#ed7953"
             ],
             [
              0.7777777777777778,
              "#fb9f3a"
             ],
             [
              0.8888888888888888,
              "#fdca26"
             ],
             [
              1,
              "#f0f921"
             ]
            ],
            "type": "surface"
           }
          ],
          "table": [
           {
            "cells": {
             "fill": {
              "color": "#EBF0F8"
             },
             "line": {
              "color": "white"
             }
            },
            "header": {
             "fill": {
              "color": "#C8D4E3"
             },
             "line": {
              "color": "white"
             }
            },
            "type": "table"
           }
          ]
         },
         "layout": {
          "annotationdefaults": {
           "arrowcolor": "#2a3f5f",
           "arrowhead": 0,
           "arrowwidth": 1
          },
          "autotypenumbers": "strict",
          "coloraxis": {
           "colorbar": {
            "outlinewidth": 0,
            "ticks": ""
           }
          },
          "colorscale": {
           "diverging": [
            [
             0,
             "#8e0152"
            ],
            [
             0.1,
             "#c51b7d"
            ],
            [
             0.2,
             "#de77ae"
            ],
            [
             0.3,
             "#f1b6da"
            ],
            [
             0.4,
             "#fde0ef"
            ],
            [
             0.5,
             "#f7f7f7"
            ],
            [
             0.6,
             "#e6f5d0"
            ],
            [
             0.7,
             "#b8e186"
            ],
            [
             0.8,
             "#7fbc41"
            ],
            [
             0.9,
             "#4d9221"
            ],
            [
             1,
             "#276419"
            ]
           ],
           "sequential": [
            [
             0,
             "#0d0887"
            ],
            [
             0.1111111111111111,
             "#46039f"
            ],
            [
             0.2222222222222222,
             "#7201a8"
            ],
            [
             0.3333333333333333,
             "#9c179e"
            ],
            [
             0.4444444444444444,
             "#bd3786"
            ],
            [
             0.5555555555555556,
             "#d8576b"
            ],
            [
             0.6666666666666666,
             "#ed7953"
            ],
            [
             0.7777777777777778,
             "#fb9f3a"
            ],
            [
             0.8888888888888888,
             "#fdca26"
            ],
            [
             1,
             "#f0f921"
            ]
           ],
           "sequentialminus": [
            [
             0,
             "#0d0887"
            ],
            [
             0.1111111111111111,
             "#46039f"
            ],
            [
             0.2222222222222222,
             "#7201a8"
            ],
            [
             0.3333333333333333,
             "#9c179e"
            ],
            [
             0.4444444444444444,
             "#bd3786"
            ],
            [
             0.5555555555555556,
             "#d8576b"
            ],
            [
             0.6666666666666666,
             "#ed7953"
            ],
            [
             0.7777777777777778,
             "#fb9f3a"
            ],
            [
             0.8888888888888888,
             "#fdca26"
            ],
            [
             1,
             "#f0f921"
            ]
           ]
          },
          "colorway": [
           "#636efa",
           "#EF553B",
           "#00cc96",
           "#ab63fa",
           "#FFA15A",
           "#19d3f3",
           "#FF6692",
           "#B6E880",
           "#FF97FF",
           "#FECB52"
          ],
          "font": {
           "color": "#2a3f5f"
          },
          "geo": {
           "bgcolor": "white",
           "lakecolor": "white",
           "landcolor": "white",
           "showlakes": true,
           "showland": true,
           "subunitcolor": "#C8D4E3"
          },
          "hoverlabel": {
           "align": "left"
          },
          "hovermode": "closest",
          "mapbox": {
           "style": "light"
          },
          "paper_bgcolor": "white",
          "plot_bgcolor": "white",
          "polar": {
           "angularaxis": {
            "gridcolor": "#EBF0F8",
            "linecolor": "#EBF0F8",
            "ticks": ""
           },
           "bgcolor": "white",
           "radialaxis": {
            "gridcolor": "#EBF0F8",
            "linecolor": "#EBF0F8",
            "ticks": ""
           }
          },
          "scene": {
           "xaxis": {
            "backgroundcolor": "white",
            "gridcolor": "#DFE8F3",
            "gridwidth": 2,
            "linecolor": "#EBF0F8",
            "showbackground": true,
            "ticks": "",
            "zerolinecolor": "#EBF0F8"
           },
           "yaxis": {
            "backgroundcolor": "white",
            "gridcolor": "#DFE8F3",
            "gridwidth": 2,
            "linecolor": "#EBF0F8",
            "showbackground": true,
            "ticks": "",
            "zerolinecolor": "#EBF0F8"
           },
           "zaxis": {
            "backgroundcolor": "white",
            "gridcolor": "#DFE8F3",
            "gridwidth": 2,
            "linecolor": "#EBF0F8",
            "showbackground": true,
            "ticks": "",
            "zerolinecolor": "#EBF0F8"
           }
          },
          "shapedefaults": {
           "line": {
            "color": "#2a3f5f"
           }
          },
          "ternary": {
           "aaxis": {
            "gridcolor": "#DFE8F3",
            "linecolor": "#A2B1C6",
            "ticks": ""
           },
           "baxis": {
            "gridcolor": "#DFE8F3",
            "linecolor": "#A2B1C6",
            "ticks": ""
           },
           "bgcolor": "white",
           "caxis": {
            "gridcolor": "#DFE8F3",
            "linecolor": "#A2B1C6",
            "ticks": ""
           }
          },
          "title": {
           "x": 0.05
          },
          "xaxis": {
           "automargin": true,
           "gridcolor": "#EBF0F8",
           "linecolor": "#EBF0F8",
           "ticks": "",
           "title": {
            "standoff": 15
           },
           "zerolinecolor": "#EBF0F8",
           "zerolinewidth": 2
          },
          "yaxis": {
           "automargin": true,
           "gridcolor": "#EBF0F8",
           "linecolor": "#EBF0F8",
           "ticks": "",
           "title": {
            "standoff": 15
           },
           "zerolinecolor": "#EBF0F8",
           "zerolinewidth": 2
          }
         }
        },
        "title": {
         "font": {
          "size": 24
         },
         "text": "Total Review Count by Category"
        },
        "width": 1000,
        "xaxis": {
         "anchor": "y",
         "domain": [
          0,
          1
         ],
         "gridcolor": "rgba(200,200,200,0.5)",
         "linecolor": "black",
         "linewidth": 2,
         "showgrid": true,
         "tickangle": -45,
         "title": {
          "text": "Category"
         }
        },
        "yaxis": {
         "anchor": "x",
         "domain": [
          0,
          1
         ],
         "gridcolor": "rgba(200,200,200,0.5)",
         "linecolor": "black",
         "linewidth": 2,
         "showgrid": true,
         "title": {
          "text": "Total Review Count"
         }
        }
       }
      }
     },
     "metadata": {},
     "output_type": "display_data"
    }
   ],
   "source": [
    "# Calculate average review score and total review count per category\n",
    "category_reviews = df.groupby('category').agg({\n",
    "    'review_score': 'mean',\n",
    "    'review_count': 'sum'\n",
    "}).sort_values(by='review_score', ascending=False).reset_index()\n",
    "\n",
    "# Plotting Average Review Score by Category with Plotly\n",
    "fig = px.bar(category_reviews, x='category', y='review_score',\n",
    "             title='Average Review Score by Category',\n",
    "             color='review_score', color_continuous_scale='Blues',  # Beautiful color palette\n",
    "             text='review_score')  # Adding text labels\n",
    "\n",
    "fig.update_layout(\n",
    "    title_font_size=24,  # Larger title font size\n",
    "    xaxis_title=\"Category\",\n",
    "    yaxis_title=\"Average Review Score\",\n",
    "    xaxis_tickangle=-45,  # Rotate x-axis labels for better readability\n",
    "    template=\"plotly_white\",  # Light background theme\n",
    "    plot_bgcolor='rgba(255,255,255,0.9)',  # Slightly off-white plot background\n",
    "    paper_bgcolor='rgba(245,245,245,1)',  # Light gray paper background\n",
    "    xaxis=dict(showgrid=True, gridcolor='rgba(200,200,200,0.5)', linecolor='black', linewidth=2),\n",
    "    yaxis=dict(showgrid=True, gridcolor='rgba(200,200,200,0.5)', linecolor='black', linewidth=2),\n",
    "    font=dict(family=\"Arial\", size=16, color=\"black\"),\n",
    "    margin=dict(l=70, r=50, b=140, t=120, pad=4),  # Adjust margins\n",
    "    width=1000,  # Width of the plot\n",
    "    height=500   # Height of the plot\n",
    ")\n",
    "fig.update_traces(texttemplate='%{text:.2f}', textfont_size=14, textposition='outside')  # Format text labels\n",
    "\n",
    "fig.show()\n",
    "\n",
    "# Plotting Total Review Count by Category with Plotly\n",
    "fig = px.bar(category_reviews, x='category', y='review_count',\n",
    "             title='Total Review Count by Category',\n",
    "             color='review_count', color_continuous_scale='Blues',  # Beautiful color palette\n",
    "             text='review_count')  # Adding text labels\n",
    "\n",
    "fig.update_layout(\n",
    "    title_font_size=24,  # Larger title font size\n",
    "    xaxis_title=\"Category\",\n",
    "    yaxis_title=\"Total Review Count\",\n",
    "    xaxis_tickangle=-45,  # Rotate x-axis labels for better readability\n",
    "    template=\"plotly_white\",  # Light background theme\n",
    "    plot_bgcolor='rgba(255,255,255,0.9)',  # Slightly off-white plot background\n",
    "    paper_bgcolor='rgba(245,245,245,1)',  # Light gray paper background\n",
    "    xaxis=dict(showgrid=True, gridcolor='rgba(200,200,200,0.5)', linecolor='black', linewidth=2),\n",
    "    yaxis=dict(showgrid=True, gridcolor='rgba(200,200,200,0.5)', linecolor='black', linewidth=2),\n",
    "    font=dict(family=\"Arial\", size=16, color=\"black\"),\n",
    "    margin=dict(l=70, r=50, b=140, t=120, pad=4),  # Adjust margins\n",
    "    width=1000,  # Width of the plot\n",
    "    height=500   # Height of the plot\n",
    ")\n",
    "fig.update_traces(texttemplate='%{text:.0f}', textfont_size=14, textposition='outside')  # Format text labels\n",
    "\n",
    "fig.show()"
   ]
  },
  {
   "cell_type": "code",
   "execution_count": 22,
   "id": "d9d1f1e1",
   "metadata": {},
   "outputs": [
    {
     "data": {
      "application/vnd.plotly.v1+json": {
       "config": {
        "plotlyServerURL": "https://plot.ly"
       },
       "data": [
        {
         "hovertemplate": "category=Clothing<br>price=%{x}<br>total_sales=%{y}<extra></extra>",
         "legendgroup": "Clothing",
         "marker": {
          "color": "#636efa",
          "symbol": "circle"
         },
         "mode": "markers",
         "name": "Clothing",
         "orientation": "v",
         "showlegend": true,
         "type": "scatter",
         "x": [
          190.4,
          355.5,
          95,
          307.87,
          230.75,
          393.66,
          89.41,
          37.2,
          482.99,
          133.1,
          388.69,
          461.33,
          48.8,
          197.4,
          273.63,
          313.53,
          64.2,
          282.83,
          263.75,
          58.41,
          160.61,
          465.2,
          431.06,
          211.62,
          114.94,
          471.74,
          306.73,
          122.63,
          270.21,
          297.49,
          61.17,
          172.82,
          449.78,
          425.37,
          477.19,
          481.99,
          426.31,
          309.43,
          371.68,
          150.33,
          434.2,
          253.25,
          326.73,
          22.79,
          183.29,
          82.44,
          181.21,
          219.76,
          190.43,
          254.05,
          85.65,
          39.93,
          470.41,
          144.52,
          63.49,
          173.7,
          56.05,
          163.42,
          50.19,
          167.69,
          33.49,
          55.06,
          46.33,
          248.85,
          481.28,
          190.56,
          146.43,
          11.02,
          230.55,
          407.83,
          412.16,
          466.7,
          407.39,
          425.58,
          118.18,
          337.49,
          61.21,
          337.43,
          71.34,
          322.23,
          88.62,
          375.39,
          108.63,
          23.16,
          184.73,
          126.75,
          146.12,
          60.46,
          484.89,
          433.43,
          280.6,
          143.59,
          124.99,
          81.41,
          243.16,
          36.37,
          342.34,
          381.31,
          299.84,
          177.69,
          94.71,
          439.21,
          253.85,
          315.72,
          373.25,
          439,
          361.42,
          273.65,
          255.41,
          349.84,
          80.51,
          420.25,
          176.44,
          184.38,
          317.97,
          38.2,
          99.39,
          238.67,
          388.89,
          264.57,
          223.18,
          203.38,
          81.84,
          95.05,
          359.41,
          331.17,
          119.38,
          14.76,
          56.53,
          428.57,
          11.44,
          18.13,
          192.95,
          318.57,
          63.29,
          140.66,
          194.65,
          152.08,
          250.7,
          220.24
         ],
         "xaxis": "x",
         "y": [
          6421,
          4879,
          5864,
          5424,
          5493,
          5160,
          5885,
          5779,
          4794,
          7847,
          5346,
          5980,
          5031,
          5994,
          5468,
          5408,
          6054,
          5451,
          4691,
          5931,
          7292,
          7567,
          5240,
          5174,
          5645,
          5797,
          5299,
          4191,
          7414,
          5066,
          5071,
          5214,
          3840,
          7325,
          6646,
          6815,
          6281,
          4358,
          7452,
          6959,
          3943,
          7123,
          3882,
          8921,
          5087,
          6153,
          5515,
          6262,
          4304,
          5593,
          7240,
          5987,
          6175,
          5938,
          5374,
          7384,
          6487,
          6199,
          5319,
          5886,
          5489,
          6189,
          6826,
          7231,
          4602,
          5905,
          4885,
          5590,
          5899,
          5999,
          4625,
          5416,
          7193,
          6271,
          7391,
          3564,
          5616,
          6537,
          5636,
          4102,
          5842,
          5584,
          6508,
          7561,
          7093,
          6286,
          5192,
          6474,
          6192,
          4607,
          8214,
          5480,
          6233,
          5738,
          4525,
          6694,
          3946,
          7149,
          6037,
          5487,
          6456,
          7684,
          5937,
          7207,
          5713,
          6503,
          7041,
          5812,
          4233,
          4992,
          7150,
          4838,
          4034,
          5693,
          7484,
          5354,
          8212,
          6385,
          5903,
          5450,
          5376,
          6801,
          6217,
          6319,
          6163,
          7315,
          5058,
          6392,
          6176,
          6905,
          6117,
          5706,
          3936,
          3959,
          6537,
          7083,
          5849,
          6834,
          4250,
          5336
         ],
         "yaxis": "y"
        },
        {
         "hovertemplate": "category=Home & Kitchen<br>price=%{x}<br>total_sales=%{y}<extra></extra>",
         "legendgroup": "Home & Kitchen",
         "marker": {
          "color": "#EF553B",
          "symbol": "circle"
         },
         "mode": "markers",
         "name": "Home & Kitchen",
         "orientation": "v",
         "showlegend": true,
         "type": "scatter",
         "x": [
          475.6,
          264.75,
          149.16,
          405.16,
          155.78,
          343.7,
          222.88,
          22.02,
          332.95,
          447.94,
          139.32,
          74.76,
          387.26,
          386.78,
          41.65,
          36.46,
          216.63,
          256.74,
          118.26,
          448.57,
          216.42,
          172.12,
          164.99,
          492.9,
          187.05,
          318.6,
          13.21,
          347.01,
          439.28,
          267.18,
          51.09,
          318.39,
          46.65,
          305.18,
          330.52,
          101.65,
          468.4,
          495.08,
          439.3,
          445.55,
          313.33,
          222.29,
          128.87,
          370.26,
          307.8,
          331.05,
          14.02,
          408.16,
          402.72,
          404.38,
          465.72,
          414.1,
          448.28,
          197.65,
          10.36,
          46.63,
          214.99,
          10.62,
          236.99,
          263.93,
          315.64,
          475.45,
          487.33,
          493.7,
          419.97,
          282.66,
          204.72,
          221.55,
          68.38,
          95.03,
          100.18,
          48.91,
          107.14,
          226.47,
          167.11,
          395.64,
          48.03,
          68.15,
          324.73,
          287.54,
          181.27,
          80.67,
          84.54,
          132.66,
          171.62,
          208.86,
          398.66,
          234.03,
          450.29,
          453.7,
          62.86,
          21.6,
          79.21,
          233.69,
          466.4,
          297.68,
          32.11,
          7.29,
          170.08,
          457.85,
          292.39,
          106.54,
          37.53,
          189.79,
          125.37,
          293.61,
          174.2,
          137.69,
          313.95,
          447.8,
          138,
          73.98,
          492.28,
          415.72,
          45.99,
          147.9,
          20.44,
          300.44,
          57.77,
          42.19,
          348.87,
          139.71,
          297.16,
          50.33,
          459.07
         ],
         "xaxis": "x",
         "y": [
          6027,
          4512,
          7337,
          6503,
          5032,
          5756,
          6357,
          5718,
          5696,
          6950,
          4290,
          4226,
          6766,
          5279,
          7444,
          7275,
          5248,
          5224,
          3885,
          5167,
          4831,
          5971,
          3391,
          3804,
          6735,
          6831,
          6335,
          5578,
          6658,
          4515,
          5867,
          6763,
          4484,
          6940,
          6335,
          4665,
          6138,
          6739,
          7442,
          5888,
          6935,
          6062,
          5658,
          7190,
          4911,
          5269,
          6806,
          7039,
          4809,
          7053,
          6903,
          6537,
          5334,
          5113,
          5414,
          5550,
          5801,
          5447,
          5142,
          6246,
          3904,
          6259,
          6257,
          5472,
          7002,
          5920,
          5868,
          8097,
          5161,
          6213,
          5891,
          6335,
          7709,
          5649,
          5524,
          5929,
          6435,
          6276,
          5528,
          5536,
          5633,
          3301,
          6335,
          6744,
          5391,
          5373,
          4708,
          6520,
          6163,
          5565,
          5732,
          7968,
          6978,
          6105,
          7298,
          8326,
          5998,
          8337,
          7792,
          5638,
          7186,
          6545,
          5230,
          6419,
          5767,
          5030,
          7210,
          5114,
          5649,
          5263,
          5687,
          6846,
          6702,
          7302,
          7237,
          5918,
          5922,
          5530,
          6466,
          4279,
          4978,
          5302,
          3842,
          5515,
          4511
         ],
         "yaxis": "y"
        },
        {
         "hovertemplate": "category=Toys<br>price=%{x}<br>total_sales=%{y}<extra></extra>",
         "legendgroup": "Toys",
         "marker": {
          "color": "#00cc96",
          "symbol": "circle"
         },
         "mode": "markers",
         "name": "Toys",
         "orientation": "v",
         "showlegend": true,
         "type": "scatter",
         "x": [
          367.34,
          301.34,
          82.22,
          15.19,
          155.6,
          259.55,
          474.7,
          65.41,
          262.43,
          103.36,
          354.89,
          365.86,
          444.17,
          271.97,
          404.68,
          409.92,
          64.33,
          486.03,
          129.63,
          23.26,
          317.99,
          258.49,
          117.12,
          462.72,
          124.72,
          364.35,
          116.01,
          51.37,
          136.28,
          125.77,
          486.64,
          253.81,
          470.53,
          457.86,
          161.88,
          88.9,
          280.62,
          53.1,
          261.57,
          350.02,
          352.47,
          398.92,
          23.49,
          263.51,
          260.57,
          17.55,
          276.87,
          358.72,
          477.66,
          12.12,
          25.16,
          428.45,
          239.72,
          90.73,
          319.37,
          428.96,
          294.96,
          289.86,
          231.84,
          54.89,
          92.83,
          209.25,
          189.15,
          217.35,
          451.76,
          288.85,
          150.14,
          473.89,
          389.69,
          63.18,
          496.52,
          484.8,
          294.24,
          350.59,
          308.64,
          485.11,
          210.34,
          32.91,
          385.65,
          68.93,
          477.26,
          182.29,
          19.25,
          353.52,
          72.5,
          392.91,
          77.8,
          318.53,
          68.8,
          142.9,
          233.09,
          185.31,
          45.47,
          437.42,
          460.83,
          142.05,
          96.34,
          311.04,
          268.65,
          298.83,
          208.15,
          335.98,
          287.95,
          215.59,
          147.87,
          495.03,
          469.48,
          86.31,
          409.22,
          195.03,
          274.06,
          395.36,
          128,
          174.33,
          411.52,
          423.99,
          201.66,
          118.48,
          322.37,
          176.12,
          305.32,
          467.51,
          228.17,
          66.71,
          176.74,
          74.72,
          212.37,
          210.24,
          284.6,
          282.02,
          431.58,
          17.57,
          82.3,
          122.9,
          362.52,
          201.61,
          448.69,
          133.41,
          278.26,
          220.88,
          74.36,
          215.48,
          273.11,
          418.29,
          107.18,
          10.44,
          450.51,
          299.56,
          345.76,
          400.71,
          225.77
         ],
         "xaxis": "x",
         "y": [
          5580,
          5022,
          6453,
          5366,
          5259,
          6146,
          5433,
          8030,
          5043,
          6296,
          5885,
          5868,
          5990,
          6644,
          5439,
          6678,
          5677,
          6738,
          5780,
          7053,
          6352,
          4040,
          8126,
          6450,
          6581,
          8418,
          4220,
          5616,
          7695,
          6303,
          7171,
          6484,
          5779,
          5511,
          6976,
          5435,
          4333,
          4961,
          5810,
          4687,
          6293,
          6187,
          4596,
          6985,
          5845,
          6368,
          6957,
          6276,
          4626,
          6500,
          6209,
          7467,
          7210,
          5656,
          6768,
          4710,
          3909,
          8197,
          5306,
          5535,
          7167,
          5272,
          6193,
          5866,
          4552,
          5624,
          6790,
          6171,
          5545,
          6011,
          7081,
          6698,
          5095,
          8272,
          4355,
          7351,
          5517,
          5767,
          6434,
          5856,
          6382,
          6175,
          6659,
          6828,
          5695,
          5592,
          6305,
          6489,
          5762,
          4992,
          6264,
          6146,
          7629,
          7370,
          5394,
          5439,
          6174,
          3641,
          6703,
          5516,
          6425,
          7758,
          6449,
          3162,
          4868,
          4628,
          6288,
          6507,
          5846,
          5790,
          7092,
          6328,
          6409,
          6389,
          6127,
          6717,
          5044,
          5627,
          7340,
          5880,
          3646,
          5808,
          6394,
          7220,
          7487,
          6141,
          5154,
          5392,
          5497,
          5335,
          6676,
          7226,
          4406,
          6327,
          4739,
          5223,
          5741,
          6871,
          6669,
          5997,
          6777,
          6401,
          6010,
          5234,
          7208,
          6367,
          7648,
          5903,
          7116,
          6628,
          7486
         ],
         "yaxis": "y"
        },
        {
         "hovertemplate": "category=Books<br>price=%{x}<br>total_sales=%{y}<extra></extra>",
         "legendgroup": "Books",
         "marker": {
          "color": "#ab63fa",
          "symbol": "circle"
         },
         "mode": "markers",
         "name": "Books",
         "orientation": "v",
         "showlegend": true,
         "type": "scatter",
         "x": [
          82.23,
          110.11,
          95.79,
          218.81,
          74.05,
          149.61,
          298.25,
          27.99,
          250.11,
          300.96,
          27.39,
          402.09,
          493.51,
          408.65,
          168.79,
          158.94,
          381.59,
          249.43,
          17.58,
          128.4,
          208.14,
          379,
          148.43,
          446.82,
          8.44,
          257.82,
          185,
          481.41,
          153.93,
          30.48,
          123.58,
          76.72,
          247.28,
          382,
          365.47,
          49.69,
          25.18,
          91.31,
          132.68,
          409.52,
          279.82,
          177.86,
          322.81,
          9.55,
          122.44,
          326.57,
          17.04,
          216.95,
          150.75,
          195.62,
          405.63,
          406.01,
          457.05,
          172.31,
          51.52,
          146.84,
          67.89,
          268.02,
          364.42,
          488.05,
          398.62,
          279.41,
          239.37,
          202.26,
          314.8,
          480.79,
          343.09,
          439.35,
          495.3,
          376.68,
          249.74,
          444.41,
          75.78,
          381.95,
          41.02,
          354.59,
          377.92,
          453.65,
          60.04,
          326.36,
          41.53,
          316.55,
          43.48,
          493.17,
          270.37,
          364.23,
          433.7,
          18.05,
          191.35,
          433.04,
          499.86,
          305.06,
          262.48,
          259.42,
          463.66,
          232.27,
          490.12,
          248.85,
          42.55,
          448.91,
          239.61,
          25.23,
          254.19,
          24.46,
          315.81,
          404.07,
          244.84,
          268.4,
          493.33,
          122.43,
          55.38,
          90.82,
          201.94,
          465.04,
          256.27,
          268.63,
          405.89,
          131.05,
          334.27,
          222.37,
          170.78,
          399.66,
          362.52,
          454.68,
          293.78,
          295.18,
          13.96,
          61.05,
          460.82,
          402.41,
          271.01,
          333.45,
          78.59,
          47.25,
          299.72,
          108.9,
          229.38,
          337.59,
          400.96,
          328.11,
          54.22,
          150.11,
          409.63,
          150.76,
          434.89,
          16.12,
          334.19,
          91.81,
          212.29,
          261.86,
          303.56,
          197.7,
          468.73,
          365.45
         ],
         "xaxis": "x",
         "y": [
          6094,
          4201,
          6042,
          6169,
          5249,
          4835,
          5594,
          4621,
          6073,
          6926,
          6056,
          5196,
          6999,
          7311,
          6176,
          5265,
          5403,
          5029,
          5846,
          7157,
          6969,
          6439,
          5977,
          6363,
          7350,
          4275,
          5710,
          7374,
          4624,
          6536,
          8333,
          4675,
          5948,
          4597,
          7451,
          5939,
          7757,
          6800,
          6909,
          7562,
          5291,
          7643,
          7130,
          7665,
          4587,
          5900,
          6645,
          6343,
          6600,
          5295,
          6998,
          5716,
          5388,
          4906,
          5980,
          5306,
          5434,
          5449,
          7412,
          7811,
          5757,
          6811,
          5651,
          6395,
          6501,
          7214,
          6601,
          5700,
          7370,
          7479,
          4337,
          4597,
          6275,
          6446,
          7867,
          4440,
          4604,
          6814,
          5958,
          6438,
          5118,
          7533,
          4198,
          4477,
          8256,
          6495,
          5806,
          5719,
          5987,
          5907,
          7530,
          7614,
          6018,
          6630,
          6737,
          6690,
          5746,
          6218,
          5484,
          5827,
          6381,
          4391,
          5990,
          6468,
          6094,
          6359,
          6148,
          7160,
          5641,
          4780,
          5306,
          4777,
          5815,
          6207,
          7170,
          6992,
          5337,
          5582,
          7034,
          5958,
          5525,
          5717,
          4203,
          3286,
          6286,
          6824,
          4740,
          6528,
          4999,
          7339,
          6728,
          5507,
          6618,
          6371,
          7343,
          8765,
          5771,
          5682,
          4846,
          4334,
          7135,
          6379,
          6543,
          8361,
          5018,
          6673,
          5750,
          5938,
          4807,
          4857,
          7318,
          6051,
          6892,
          4931
         ],
         "yaxis": "y"
        },
        {
         "hovertemplate": "category=Electronics<br>price=%{x}<br>total_sales=%{y}<extra></extra>",
         "legendgroup": "Electronics",
         "marker": {
          "color": "#FFA15A",
          "symbol": "circle"
         },
         "mode": "markers",
         "name": "Electronics",
         "orientation": "v",
         "showlegend": true,
         "type": "scatter",
         "x": [
          33.75,
          433.76,
          302.55,
          417.06,
          103.84,
          41.9,
          62.36,
          358.06,
          386.63,
          320.02,
          43.11,
          84.8,
          436.37,
          402.82,
          352.99,
          251.14,
          146,
          142.93,
          124.82,
          337.71,
          418.47,
          340.39,
          331.69,
          449.12,
          444.11,
          7.51,
          374.51,
          187.02,
          446.56,
          317.41,
          188.23,
          352.73,
          400.16,
          412.19,
          272.61,
          320.53,
          143.57,
          53.43,
          248.35,
          27.43,
          18.12,
          197.14,
          471.03,
          196.12,
          162.89,
          226.98,
          337.9,
          377.43,
          396.83,
          178.7,
          45.27,
          493.39,
          188.47,
          191.25,
          374.29,
          446.12,
          266.21,
          279.16,
          349.4,
          451.07,
          27.5,
          445.68,
          234.53,
          212.03,
          406.22,
          498.34,
          438.94,
          378.79,
          312.05,
          110.42,
          12.2,
          177.39,
          312.93,
          248.6,
          132.83,
          80.19,
          73.72,
          92.62,
          64.71,
          35.23,
          187.61,
          233.95,
          358.11,
          448.13,
          258.28,
          58.05,
          138.28,
          164.43,
          109.67,
          64.28,
          445.81,
          295.49,
          97.35,
          89.59,
          97.59,
          61.84,
          30.65,
          366.78,
          154.18,
          119.95,
          269.06,
          447.48,
          287.1,
          59.76,
          94.89,
          203.42,
          290.26,
          214.94,
          463.16,
          202.51,
          116.18,
          92.31,
          93.13,
          480.73,
          449.54,
          207.32,
          114.88,
          93.38,
          335.7,
          106.47,
          47.33,
          446.87,
          297.2,
          207.66,
          400.93,
          265.22,
          89.98,
          14.1,
          290.38,
          279.32,
          72.76,
          437.58,
          300.72,
          28.25,
          360.93,
          134.82,
          126.97,
          410.46
         ],
         "xaxis": "x",
         "y": [
          5298,
          4769,
          5677,
          5218,
          5335,
          7330,
          6181,
          4560,
          3539,
          5703,
          7298,
          5364,
          7333,
          7243,
          5556,
          5255,
          5682,
          4833,
          5654,
          7440,
          7135,
          5721,
          6686,
          5375,
          5118,
          7534,
          6141,
          9151,
          8282,
          5494,
          6323,
          3873,
          6782,
          7285,
          4542,
          6893,
          6551,
          4893,
          6194,
          6463,
          6301,
          6017,
          6197,
          5681,
          6475,
          5873,
          7839,
          4575,
          6230,
          5154,
          7885,
          5623,
          7822,
          5828,
          5650,
          6358,
          8085,
          6358,
          8027,
          5637,
          6750,
          6559,
          5646,
          5067,
          5391,
          6754,
          6070,
          5769,
          6316,
          6247,
          6914,
          7506,
          6603,
          5592,
          5759,
          5610,
          7166,
          5374,
          6772,
          6067,
          6525,
          5732,
          6435,
          6028,
          6252,
          4782,
          6295,
          5782,
          5590,
          5159,
          6028,
          5019,
          4762,
          6307,
          6582,
          5801,
          6467,
          4665,
          5492,
          6908,
          5633,
          6236,
          7253,
          5772,
          5663,
          7641,
          5523,
          5764,
          4596,
          5973,
          7442,
          5089,
          4650,
          5682,
          6310,
          7348,
          6666,
          7615,
          6064,
          5715,
          6204,
          5553,
          5207,
          7474,
          8525,
          5954,
          5013,
          8459,
          5953,
          7474,
          5974,
          6226,
          4563,
          4932,
          6221,
          5857,
          5359,
          7675
         ],
         "yaxis": "y"
        },
        {
         "hovertemplate": "category=Health<br>price=%{x}<br>total_sales=%{y}<extra></extra>",
         "legendgroup": "Health",
         "marker": {
          "color": "#19d3f3",
          "symbol": "circle"
         },
         "mode": "markers",
         "name": "Health",
         "orientation": "v",
         "showlegend": true,
         "type": "scatter",
         "x": [
          485.11,
          305.73,
          275.62,
          96.5,
          484.94,
          102.01,
          166.04,
          415.23,
          181.59,
          144.06,
          7.73,
          182.44,
          320.59,
          238.75,
          454.25,
          162.41,
          261.8,
          253.83,
          163.79,
          324.36,
          196.43,
          173.83,
          450.71,
          333.43,
          276.62,
          347.49,
          166.07,
          398.43,
          290.57,
          248.8,
          324.51,
          483.49,
          349.53,
          287.18,
          74.34,
          258.11,
          291.25,
          386.15,
          111.83,
          164.86,
          139.06,
          43.84,
          349.51,
          380.13,
          62.46,
          27.77,
          275.08,
          39.33,
          51.75,
          16.52,
          376.55,
          389.32,
          429.91,
          378.5,
          255.1,
          453.16,
          163.06,
          475.28,
          475.55,
          50.15,
          62.95,
          351.98,
          411.82,
          46.99,
          407.34,
          493.07,
          434.96,
          26.36,
          230,
          311.97,
          179.91,
          158.22,
          85.5,
          27.38,
          193.54,
          421.85,
          140.34,
          472.66,
          127.44,
          262.55,
          426.83,
          278.19,
          178.54,
          452.56,
          201.29,
          123.87,
          176.11,
          335.44,
          346.75,
          400.71,
          188.38,
          375,
          125.02,
          145.47,
          304.86,
          264.63,
          491.28,
          238.43,
          482.69,
          66.53,
          371.85,
          74.19,
          104.81,
          86.01,
          408.21,
          263.92,
          191.59,
          375.07,
          470.22,
          73.94,
          398.04,
          311.94,
          80.08,
          382.42,
          129.64,
          473.91,
          436.7,
          284.74,
          461.64,
          492.5,
          435.6,
          261.82,
          202.09,
          460.33,
          228.96,
          11.48,
          498.45,
          23.09,
          139.02,
          18.41,
          415.96,
          474.48,
          132.65,
          139.79,
          302.26,
          457.63,
          285.37,
          240.64,
          333.52
         ],
         "xaxis": "x",
         "y": [
          5961,
          5511,
          4800,
          5429,
          5656,
          5601,
          5693,
          7049,
          7089,
          6216,
          6143,
          6068,
          5178,
          5198,
          5714,
          2972,
          6521,
          7011,
          6147,
          5383,
          4941,
          4475,
          5357,
          5561,
          4708,
          4884,
          7320,
          6805,
          5038,
          6181,
          8724,
          6252,
          5886,
          6761,
          6025,
          6717,
          5244,
          6849,
          5278,
          6272,
          5381,
          5177,
          6169,
          6295,
          5618,
          6389,
          6258,
          7806,
          7194,
          5695,
          6842,
          5590,
          7355,
          4458,
          4341,
          5845,
          4709,
          6759,
          6550,
          6830,
          5033,
          6245,
          5892,
          6377,
          6464,
          7002,
          4901,
          7474,
          6366,
          5486,
          5704,
          6914,
          6205,
          4808,
          6131,
          4628,
          5736,
          5489,
          5833,
          6282,
          6018,
          5603,
          5471,
          5655,
          5820,
          6616,
          4922,
          6489,
          7055,
          6425,
          5642,
          7121,
          6718,
          6770,
          4175,
          6655,
          7038,
          5887,
          4652,
          5175,
          7481,
          6551,
          5057,
          7915,
          5348,
          8914,
          5753,
          6902,
          7484,
          6415,
          4023,
          6995,
          6985,
          5547,
          5680,
          7145,
          6064,
          5101,
          5477,
          6962,
          3551,
          5636,
          4638,
          5535,
          5480,
          6558,
          6956,
          6010,
          5483,
          4498,
          4965,
          6768,
          6508,
          7522,
          6910,
          6363,
          5934,
          5974,
          6570
         ],
         "yaxis": "y"
        },
        {
         "hovertemplate": "category=Sports<br>price=%{x}<br>total_sales=%{y}<extra></extra>",
         "legendgroup": "Sports",
         "marker": {
          "color": "#FF6692",
          "symbol": "circle"
         },
         "mode": "markers",
         "name": "Sports",
         "orientation": "v",
         "showlegend": true,
         "type": "scatter",
         "x": [
          186.35,
          53.35,
          455.11,
          159.3,
          470.05,
          432.24,
          165.97,
          366.16,
          20.56,
          405.02,
          318.53,
          97.35,
          59.48,
          117.83,
          454.59,
          97.33,
          468.68,
          73.07,
          449.07,
          391.04,
          85.01,
          55.23,
          84.6,
          327.72,
          357.53,
          286.31,
          199.58,
          362.61,
          143.98,
          92.67,
          12.65,
          464.52,
          427.24,
          182.95,
          190.91,
          235.47,
          273.61,
          297.46,
          20.1,
          47.25,
          30.58,
          481.51,
          418.81,
          207.43,
          90.78,
          331.8,
          212.7,
          127.63,
          353.31,
          309.85,
          323,
          323.43,
          453.15,
          101.92,
          40.24,
          423.21,
          349.88,
          316.33,
          368.86,
          144.61,
          317.76,
          395.86,
          277.02,
          223.56,
          311.02,
          190.26,
          281.41,
          32.87,
          63.81,
          293.77,
          115.68,
          481.8,
          485.09,
          144.08,
          142.3,
          98.12,
          293.91,
          343.94,
          455.91,
          475.15,
          79.46,
          299.09,
          237,
          279.94,
          228.02,
          310.97,
          387.3,
          297.01,
          199.16,
          431.87,
          475.01,
          167.73,
          90.3,
          129.96,
          191.76,
          14.94,
          341.16,
          251.73,
          270.87,
          373.99,
          218.67,
          448.9,
          44.72,
          409.45,
          385.9,
          165.22,
          307.26,
          292.71,
          71.54,
          164.57,
          465.12,
          416.16,
          37.92,
          289.36,
          421.71,
          182.62,
          199.26,
          314,
          159.3,
          68.11,
          348.5,
          80.91,
          307.67,
          355.08,
          369.54,
          170.92,
          370.06,
          228.85,
          251.69,
          253.59,
          376.23,
          473.33,
          323.78,
          107.9,
          94.81,
          213.61,
          382.98,
          246.28,
          457.58,
          327.45,
          87.31,
          370.33,
          126.45,
          181.06,
          367.62,
          111.4,
          30.46,
          170.45,
          386.6,
          250.27,
          183.68,
          72.73,
          475.37
         ],
         "xaxis": "x",
         "y": [
          6870,
          6981,
          6667,
          4126,
          7920,
          6182,
          6443,
          6304,
          5718,
          7322,
          6104,
          4929,
          5512,
          5568,
          4292,
          6323,
          3443,
          8775,
          6686,
          4682,
          6505,
          7003,
          5105,
          6816,
          7745,
          6146,
          7345,
          5415,
          6904,
          7046,
          5392,
          6361,
          7621,
          5081,
          4883,
          7184,
          6790,
          7285,
          7203,
          5475,
          6103,
          7051,
          5632,
          6177,
          4113,
          4237,
          5274,
          6564,
          5552,
          5677,
          5889,
          7348,
          5524,
          6124,
          4914,
          6379,
          5468,
          4675,
          5816,
          6137,
          5718,
          6093,
          5112,
          4985,
          6193,
          4464,
          5681,
          5644,
          6305,
          6228,
          6293,
          5803,
          5703,
          6114,
          7077,
          5697,
          6707,
          7102,
          5593,
          4668,
          6003,
          6911,
          6927,
          6104,
          6001,
          6007,
          6626,
          6274,
          5303,
          6019,
          5585,
          4859,
          5030,
          5608,
          8072,
          6303,
          5849,
          6090,
          5969,
          6624,
          6432,
          6287,
          6534,
          5508,
          7020,
          5685,
          5464,
          5925,
          6173,
          5303,
          6507,
          5717,
          5763,
          6159,
          5260,
          6459,
          6795,
          7552,
          6572,
          5032,
          5321,
          7256,
          4669,
          4275,
          7325,
          5981,
          6071,
          5368,
          7011,
          5497,
          6230,
          5463,
          4681,
          4702,
          4555,
          8783,
          6438,
          5663,
          5166,
          6610,
          6426,
          5700,
          5896,
          5133,
          5511,
          4909,
          5092,
          6558,
          5020,
          5965,
          6726,
          5527,
          4546
         ],
         "yaxis": "y"
        }
       ],
       "layout": {
        "legend": {
         "title": {
          "text": "category"
         },
         "tracegroupgap": 0
        },
        "template": {
         "data": {
          "bar": [
           {
            "error_x": {
             "color": "#f2f5fa"
            },
            "error_y": {
             "color": "#f2f5fa"
            },
            "marker": {
             "line": {
              "color": "rgb(17,17,17)",
              "width": 0.5
             },
             "pattern": {
              "fillmode": "overlay",
              "size": 10,
              "solidity": 0.2
             }
            },
            "type": "bar"
           }
          ],
          "barpolar": [
           {
            "marker": {
             "line": {
              "color": "rgb(17,17,17)",
              "width": 0.5
             },
             "pattern": {
              "fillmode": "overlay",
              "size": 10,
              "solidity": 0.2
             }
            },
            "type": "barpolar"
           }
          ],
          "carpet": [
           {
            "aaxis": {
             "endlinecolor": "#A2B1C6",
             "gridcolor": "#506784",
             "linecolor": "#506784",
             "minorgridcolor": "#506784",
             "startlinecolor": "#A2B1C6"
            },
            "baxis": {
             "endlinecolor": "#A2B1C6",
             "gridcolor": "#506784",
             "linecolor": "#506784",
             "minorgridcolor": "#506784",
             "startlinecolor": "#A2B1C6"
            },
            "type": "carpet"
           }
          ],
          "choropleth": [
           {
            "colorbar": {
             "outlinewidth": 0,
             "ticks": ""
            },
            "type": "choropleth"
           }
          ],
          "contour": [
           {
            "colorbar": {
             "outlinewidth": 0,
             "ticks": ""
            },
            "colorscale": [
             [
              0,
              "#0d0887"
             ],
             [
              0.1111111111111111,
              "#46039f"
             ],
             [
              0.2222222222222222,
              "#7201a8"
             ],
             [
              0.3333333333333333,
              "#9c179e"
             ],
             [
              0.4444444444444444,
              "#bd3786"
             ],
             [
              0.5555555555555556,
              "#d8576b"
             ],
             [
              0.6666666666666666,
              "#ed7953"
             ],
             [
              0.7777777777777778,
              "#fb9f3a"
             ],
             [
              0.8888888888888888,
              "#fdca26"
             ],
             [
              1,
              "#f0f921"
             ]
            ],
            "type": "contour"
           }
          ],
          "contourcarpet": [
           {
            "colorbar": {
             "outlinewidth": 0,
             "ticks": ""
            },
            "type": "contourcarpet"
           }
          ],
          "heatmap": [
           {
            "colorbar": {
             "outlinewidth": 0,
             "ticks": ""
            },
            "colorscale": [
             [
              0,
              "#0d0887"
             ],
             [
              0.1111111111111111,
              "#46039f"
             ],
             [
              0.2222222222222222,
              "#7201a8"
             ],
             [
              0.3333333333333333,
              "#9c179e"
             ],
             [
              0.4444444444444444,
              "#bd3786"
             ],
             [
              0.5555555555555556,
              "#d8576b"
             ],
             [
              0.6666666666666666,
              "#ed7953"
             ],
             [
              0.7777777777777778,
              "#fb9f3a"
             ],
             [
              0.8888888888888888,
              "#fdca26"
             ],
             [
              1,
              "#f0f921"
             ]
            ],
            "type": "heatmap"
           }
          ],
          "heatmapgl": [
           {
            "colorbar": {
             "outlinewidth": 0,
             "ticks": ""
            },
            "colorscale": [
             [
              0,
              "#0d0887"
             ],
             [
              0.1111111111111111,
              "#46039f"
             ],
             [
              0.2222222222222222,
              "#7201a8"
             ],
             [
              0.3333333333333333,
              "#9c179e"
             ],
             [
              0.4444444444444444,
              "#bd3786"
             ],
             [
              0.5555555555555556,
              "#d8576b"
             ],
             [
              0.6666666666666666,
              "#ed7953"
             ],
             [
              0.7777777777777778,
              "#fb9f3a"
             ],
             [
              0.8888888888888888,
              "#fdca26"
             ],
             [
              1,
              "#f0f921"
             ]
            ],
            "type": "heatmapgl"
           }
          ],
          "histogram": [
           {
            "marker": {
             "pattern": {
              "fillmode": "overlay",
              "size": 10,
              "solidity": 0.2
             }
            },
            "type": "histogram"
           }
          ],
          "histogram2d": [
           {
            "colorbar": {
             "outlinewidth": 0,
             "ticks": ""
            },
            "colorscale": [
             [
              0,
              "#0d0887"
             ],
             [
              0.1111111111111111,
              "#46039f"
             ],
             [
              0.2222222222222222,
              "#7201a8"
             ],
             [
              0.3333333333333333,
              "#9c179e"
             ],
             [
              0.4444444444444444,
              "#bd3786"
             ],
             [
              0.5555555555555556,
              "#d8576b"
             ],
             [
              0.6666666666666666,
              "#ed7953"
             ],
             [
              0.7777777777777778,
              "#fb9f3a"
             ],
             [
              0.8888888888888888,
              "#fdca26"
             ],
             [
              1,
              "#f0f921"
             ]
            ],
            "type": "histogram2d"
           }
          ],
          "histogram2dcontour": [
           {
            "colorbar": {
             "outlinewidth": 0,
             "ticks": ""
            },
            "colorscale": [
             [
              0,
              "#0d0887"
             ],
             [
              0.1111111111111111,
              "#46039f"
             ],
             [
              0.2222222222222222,
              "#7201a8"
             ],
             [
              0.3333333333333333,
              "#9c179e"
             ],
             [
              0.4444444444444444,
              "#bd3786"
             ],
             [
              0.5555555555555556,
              "#d8576b"
             ],
             [
              0.6666666666666666,
              "#ed7953"
             ],
             [
              0.7777777777777778,
              "#fb9f3a"
             ],
             [
              0.8888888888888888,
              "#fdca26"
             ],
             [
              1,
              "#f0f921"
             ]
            ],
            "type": "histogram2dcontour"
           }
          ],
          "mesh3d": [
           {
            "colorbar": {
             "outlinewidth": 0,
             "ticks": ""
            },
            "type": "mesh3d"
           }
          ],
          "parcoords": [
           {
            "line": {
             "colorbar": {
              "outlinewidth": 0,
              "ticks": ""
             }
            },
            "type": "parcoords"
           }
          ],
          "pie": [
           {
            "automargin": true,
            "type": "pie"
           }
          ],
          "scatter": [
           {
            "marker": {
             "line": {
              "color": "#283442"
             }
            },
            "type": "scatter"
           }
          ],
          "scatter3d": [
           {
            "line": {
             "colorbar": {
              "outlinewidth": 0,
              "ticks": ""
             }
            },
            "marker": {
             "colorbar": {
              "outlinewidth": 0,
              "ticks": ""
             }
            },
            "type": "scatter3d"
           }
          ],
          "scattercarpet": [
           {
            "marker": {
             "colorbar": {
              "outlinewidth": 0,
              "ticks": ""
             }
            },
            "type": "scattercarpet"
           }
          ],
          "scattergeo": [
           {
            "marker": {
             "colorbar": {
              "outlinewidth": 0,
              "ticks": ""
             }
            },
            "type": "scattergeo"
           }
          ],
          "scattergl": [
           {
            "marker": {
             "line": {
              "color": "#283442"
             }
            },
            "type": "scattergl"
           }
          ],
          "scattermapbox": [
           {
            "marker": {
             "colorbar": {
              "outlinewidth": 0,
              "ticks": ""
             }
            },
            "type": "scattermapbox"
           }
          ],
          "scatterpolar": [
           {
            "marker": {
             "colorbar": {
              "outlinewidth": 0,
              "ticks": ""
             }
            },
            "type": "scatterpolar"
           }
          ],
          "scatterpolargl": [
           {
            "marker": {
             "colorbar": {
              "outlinewidth": 0,
              "ticks": ""
             }
            },
            "type": "scatterpolargl"
           }
          ],
          "scatterternary": [
           {
            "marker": {
             "colorbar": {
              "outlinewidth": 0,
              "ticks": ""
             }
            },
            "type": "scatterternary"
           }
          ],
          "surface": [
           {
            "colorbar": {
             "outlinewidth": 0,
             "ticks": ""
            },
            "colorscale": [
             [
              0,
              "#0d0887"
             ],
             [
              0.1111111111111111,
              "#46039f"
             ],
             [
              0.2222222222222222,
              "#7201a8"
             ],
             [
              0.3333333333333333,
              "#9c179e"
             ],
             [
              0.4444444444444444,
              "#bd3786"
             ],
             [
              0.5555555555555556,
              "#d8576b"
             ],
             [
              0.6666666666666666,
              "#ed7953"
             ],
             [
              0.7777777777777778,
              "#fb9f3a"
             ],
             [
              0.8888888888888888,
              "#fdca26"
             ],
             [
              1,
              "#f0f921"
             ]
            ],
            "type": "surface"
           }
          ],
          "table": [
           {
            "cells": {
             "fill": {
              "color": "#506784"
             },
             "line": {
              "color": "rgb(17,17,17)"
             }
            },
            "header": {
             "fill": {
              "color": "#2a3f5f"
             },
             "line": {
              "color": "rgb(17,17,17)"
             }
            },
            "type": "table"
           }
          ]
         },
         "layout": {
          "annotationdefaults": {
           "arrowcolor": "#f2f5fa",
           "arrowhead": 0,
           "arrowwidth": 1
          },
          "autotypenumbers": "strict",
          "coloraxis": {
           "colorbar": {
            "outlinewidth": 0,
            "ticks": ""
           }
          },
          "colorscale": {
           "diverging": [
            [
             0,
             "#8e0152"
            ],
            [
             0.1,
             "#c51b7d"
            ],
            [
             0.2,
             "#de77ae"
            ],
            [
             0.3,
             "#f1b6da"
            ],
            [
             0.4,
             "#fde0ef"
            ],
            [
             0.5,
             "#f7f7f7"
            ],
            [
             0.6,
             "#e6f5d0"
            ],
            [
             0.7,
             "#b8e186"
            ],
            [
             0.8,
             "#7fbc41"
            ],
            [
             0.9,
             "#4d9221"
            ],
            [
             1,
             "#276419"
            ]
           ],
           "sequential": [
            [
             0,
             "#0d0887"
            ],
            [
             0.1111111111111111,
             "#46039f"
            ],
            [
             0.2222222222222222,
             "#7201a8"
            ],
            [
             0.3333333333333333,
             "#9c179e"
            ],
            [
             0.4444444444444444,
             "#bd3786"
            ],
            [
             0.5555555555555556,
             "#d8576b"
            ],
            [
             0.6666666666666666,
             "#ed7953"
            ],
            [
             0.7777777777777778,
             "#fb9f3a"
            ],
            [
             0.8888888888888888,
             "#fdca26"
            ],
            [
             1,
             "#f0f921"
            ]
           ],
           "sequentialminus": [
            [
             0,
             "#0d0887"
            ],
            [
             0.1111111111111111,
             "#46039f"
            ],
            [
             0.2222222222222222,
             "#7201a8"
            ],
            [
             0.3333333333333333,
             "#9c179e"
            ],
            [
             0.4444444444444444,
             "#bd3786"
            ],
            [
             0.5555555555555556,
             "#d8576b"
            ],
            [
             0.6666666666666666,
             "#ed7953"
            ],
            [
             0.7777777777777778,
             "#fb9f3a"
            ],
            [
             0.8888888888888888,
             "#fdca26"
            ],
            [
             1,
             "#f0f921"
            ]
           ]
          },
          "colorway": [
           "#636efa",
           "#EF553B",
           "#00cc96",
           "#ab63fa",
           "#FFA15A",
           "#19d3f3",
           "#FF6692",
           "#B6E880",
           "#FF97FF",
           "#FECB52"
          ],
          "font": {
           "color": "#f2f5fa"
          },
          "geo": {
           "bgcolor": "rgb(17,17,17)",
           "lakecolor": "rgb(17,17,17)",
           "landcolor": "rgb(17,17,17)",
           "showlakes": true,
           "showland": true,
           "subunitcolor": "#506784"
          },
          "hoverlabel": {
           "align": "left"
          },
          "hovermode": "closest",
          "mapbox": {
           "style": "dark"
          },
          "paper_bgcolor": "rgb(17,17,17)",
          "plot_bgcolor": "rgb(17,17,17)",
          "polar": {
           "angularaxis": {
            "gridcolor": "#506784",
            "linecolor": "#506784",
            "ticks": ""
           },
           "bgcolor": "rgb(17,17,17)",
           "radialaxis": {
            "gridcolor": "#506784",
            "linecolor": "#506784",
            "ticks": ""
           }
          },
          "scene": {
           "xaxis": {
            "backgroundcolor": "rgb(17,17,17)",
            "gridcolor": "#506784",
            "gridwidth": 2,
            "linecolor": "#506784",
            "showbackground": true,
            "ticks": "",
            "zerolinecolor": "#C8D4E3"
           },
           "yaxis": {
            "backgroundcolor": "rgb(17,17,17)",
            "gridcolor": "#506784",
            "gridwidth": 2,
            "linecolor": "#506784",
            "showbackground": true,
            "ticks": "",
            "zerolinecolor": "#C8D4E3"
           },
           "zaxis": {
            "backgroundcolor": "rgb(17,17,17)",
            "gridcolor": "#506784",
            "gridwidth": 2,
            "linecolor": "#506784",
            "showbackground": true,
            "ticks": "",
            "zerolinecolor": "#C8D4E3"
           }
          },
          "shapedefaults": {
           "line": {
            "color": "#f2f5fa"
           }
          },
          "sliderdefaults": {
           "bgcolor": "#C8D4E3",
           "bordercolor": "rgb(17,17,17)",
           "borderwidth": 1,
           "tickwidth": 0
          },
          "ternary": {
           "aaxis": {
            "gridcolor": "#506784",
            "linecolor": "#506784",
            "ticks": ""
           },
           "baxis": {
            "gridcolor": "#506784",
            "linecolor": "#506784",
            "ticks": ""
           },
           "bgcolor": "rgb(17,17,17)",
           "caxis": {
            "gridcolor": "#506784",
            "linecolor": "#506784",
            "ticks": ""
           }
          },
          "title": {
           "x": 0.05
          },
          "updatemenudefaults": {
           "bgcolor": "#506784",
           "borderwidth": 0
          },
          "xaxis": {
           "automargin": true,
           "gridcolor": "#283442",
           "linecolor": "#506784",
           "ticks": "",
           "title": {
            "standoff": 15
           },
           "zerolinecolor": "#283442",
           "zerolinewidth": 2
          },
          "yaxis": {
           "automargin": true,
           "gridcolor": "#283442",
           "linecolor": "#506784",
           "ticks": "",
           "title": {
            "standoff": 15
           },
           "zerolinecolor": "#283442",
           "zerolinewidth": 2
          }
         }
        },
        "title": {
         "font": {
          "size": 20
         },
         "text": "Price vs. Total Sales"
        },
        "xaxis": {
         "anchor": "y",
         "domain": [
          0,
          1
         ],
         "title": {
          "text": "Price"
         }
        },
        "yaxis": {
         "anchor": "x",
         "domain": [
          0,
          1
         ],
         "title": {
          "text": "Total Sales"
         }
        }
       }
      }
     },
     "metadata": {},
     "output_type": "display_data"
    },
    {
     "data": {
      "application/vnd.plotly.v1+json": {
       "config": {
        "plotlyServerURL": "https://plot.ly"
       },
       "data": [
        {
         "hovertemplate": "category=Clothing<br>price=%{x}<br>review_score=%{y}<extra></extra>",
         "legendgroup": "Clothing",
         "marker": {
          "color": "#636efa",
          "symbol": "circle"
         },
         "mode": "markers",
         "name": "Clothing",
         "orientation": "v",
         "showlegend": true,
         "type": "scatter",
         "x": [
          190.4,
          355.5,
          95,
          307.87,
          230.75,
          393.66,
          89.41,
          37.2,
          482.99,
          133.1,
          388.69,
          461.33,
          48.8,
          197.4,
          273.63,
          313.53,
          64.2,
          282.83,
          263.75,
          58.41,
          160.61,
          465.2,
          431.06,
          211.62,
          114.94,
          471.74,
          306.73,
          122.63,
          270.21,
          297.49,
          61.17,
          172.82,
          449.78,
          425.37,
          477.19,
          481.99,
          426.31,
          309.43,
          371.68,
          150.33,
          434.2,
          253.25,
          326.73,
          22.79,
          183.29,
          82.44,
          181.21,
          219.76,
          190.43,
          254.05,
          85.65,
          39.93,
          470.41,
          144.52,
          63.49,
          173.7,
          56.05,
          163.42,
          50.19,
          167.69,
          33.49,
          55.06,
          46.33,
          248.85,
          481.28,
          190.56,
          146.43,
          11.02,
          230.55,
          407.83,
          412.16,
          466.7,
          407.39,
          425.58,
          118.18,
          337.49,
          61.21,
          337.43,
          71.34,
          322.23,
          88.62,
          375.39,
          108.63,
          23.16,
          184.73,
          126.75,
          146.12,
          60.46,
          484.89,
          433.43,
          280.6,
          143.59,
          124.99,
          81.41,
          243.16,
          36.37,
          342.34,
          381.31,
          299.84,
          177.69,
          94.71,
          439.21,
          253.85,
          315.72,
          373.25,
          439,
          361.42,
          273.65,
          255.41,
          349.84,
          80.51,
          420.25,
          176.44,
          184.38,
          317.97,
          38.2,
          99.39,
          238.67,
          388.89,
          264.57,
          223.18,
          203.38,
          81.84,
          95.05,
          359.41,
          331.17,
          119.38,
          14.76,
          56.53,
          428.57,
          11.44,
          18.13,
          192.95,
          318.57,
          63.29,
          140.66,
          194.65,
          152.08,
          250.7,
          220.24
         ],
         "xaxis": "x",
         "y": [
          1.7,
          3,
          3.8,
          3.8,
          4.8,
          2.9,
          3.4,
          1.9,
          1.3,
          4.5,
          3.1,
          2.4,
          4.1,
          4.5,
          4,
          1.4,
          4.8,
          3.1,
          1.9,
          2.4,
          4.5,
          1.9,
          2.6,
          3.9,
          3,
          3.7,
          4.2,
          4.5,
          4,
          2.1,
          2.4,
          1.2,
          2.3,
          2.1,
          4.1,
          4.7,
          1.5,
          2.1,
          1.3,
          2.2,
          4.1,
          1.4,
          4.9,
          3.1,
          3.8,
          1.3,
          3.2,
          3.9,
          5,
          4.5,
          3.9,
          2.9,
          2.1,
          3.4,
          1.7,
          2.3,
          1.7,
          3.7,
          4.5,
          1.5,
          4.9,
          3.7,
          3.7,
          4.7,
          5,
          1.2,
          4.9,
          3.3,
          2,
          2.4,
          3.1,
          4.8,
          2.2,
          1.7,
          3.3,
          2,
          4.2,
          3.2,
          3.4,
          5,
          1.8,
          3.9,
          1.2,
          1.4,
          2.2,
          1.8,
          4.3,
          1.3,
          1.7,
          3.8,
          4.4,
          2.9,
          1.6,
          4.9,
          3.2,
          2.8,
          3.6,
          1.6,
          1.2,
          1.2,
          1.5,
          4.5,
          1,
          1,
          3,
          2.9,
          2,
          4.6,
          3,
          1.3,
          4,
          4.1,
          1.2,
          2.4,
          1.9,
          2.1,
          2,
          2.8,
          4.1,
          1.7,
          3.2,
          4.9,
          1.2,
          1.7,
          3.4,
          3,
          3.8,
          3.5,
          4,
          2.6,
          2.4,
          1,
          1.6,
          3.6,
          3,
          1.2,
          4.7,
          2.4,
          4.5,
          3
         ],
         "yaxis": "y"
        },
        {
         "hovertemplate": "category=Home & Kitchen<br>price=%{x}<br>review_score=%{y}<extra></extra>",
         "legendgroup": "Home & Kitchen",
         "marker": {
          "color": "#EF553B",
          "symbol": "circle"
         },
         "mode": "markers",
         "name": "Home & Kitchen",
         "orientation": "v",
         "showlegend": true,
         "type": "scatter",
         "x": [
          475.6,
          264.75,
          149.16,
          405.16,
          155.78,
          343.7,
          222.88,
          22.02,
          332.95,
          447.94,
          139.32,
          74.76,
          387.26,
          386.78,
          41.65,
          36.46,
          216.63,
          256.74,
          118.26,
          448.57,
          216.42,
          172.12,
          164.99,
          492.9,
          187.05,
          318.6,
          13.21,
          347.01,
          439.28,
          267.18,
          51.09,
          318.39,
          46.65,
          305.18,
          330.52,
          101.65,
          468.4,
          495.08,
          439.3,
          445.55,
          313.33,
          222.29,
          128.87,
          370.26,
          307.8,
          331.05,
          14.02,
          408.16,
          402.72,
          404.38,
          465.72,
          414.1,
          448.28,
          197.65,
          10.36,
          46.63,
          214.99,
          10.62,
          236.99,
          263.93,
          315.64,
          475.45,
          487.33,
          493.7,
          419.97,
          282.66,
          204.72,
          221.55,
          68.38,
          95.03,
          100.18,
          48.91,
          107.14,
          226.47,
          167.11,
          395.64,
          48.03,
          68.15,
          324.73,
          287.54,
          181.27,
          80.67,
          84.54,
          132.66,
          171.62,
          208.86,
          398.66,
          234.03,
          450.29,
          453.7,
          62.86,
          21.6,
          79.21,
          233.69,
          466.4,
          297.68,
          32.11,
          7.29,
          170.08,
          457.85,
          292.39,
          106.54,
          37.53,
          189.79,
          125.37,
          293.61,
          174.2,
          137.69,
          313.95,
          447.8,
          138,
          73.98,
          492.28,
          415.72,
          45.99,
          147.9,
          20.44,
          300.44,
          57.77,
          42.19,
          348.87,
          139.71,
          297.16,
          50.33,
          459.07
         ],
         "xaxis": "x",
         "y": [
          3.2,
          3.3,
          1.1,
          3.8,
          2.4,
          1.3,
          2.3,
          2.3,
          3.5,
          4.2,
          4.9,
          2,
          2.2,
          2.5,
          3.7,
          4.5,
          1.7,
          4.7,
          3.8,
          4.8,
          3.2,
          1.9,
          1.3,
          3.5,
          4.3,
          2.3,
          4.9,
          4.1,
          4.7,
          2.2,
          1.3,
          3.5,
          1.1,
          3,
          4.8,
          3.6,
          1.8,
          4.2,
          1,
          3.5,
          3.5,
          1.3,
          1.2,
          2.3,
          4.2,
          2.8,
          1.7,
          2.4,
          2.3,
          2.8,
          4.3,
          3.9,
          2.9,
          4.4,
          4.2,
          1.6,
          4.5,
          3.8,
          3.7,
          2.7,
          1,
          2.6,
          2.5,
          2,
          2.9,
          4.5,
          1.8,
          1.4,
          2.7,
          1.5,
          1.3,
          2.4,
          1.3,
          1.9,
          3.5,
          4.1,
          1.1,
          4.7,
          2.6,
          2.8,
          3.4,
          4.4,
          4.7,
          4.9,
          2.2,
          2.8,
          5,
          4.3,
          2.9,
          4,
          3.1,
          1.6,
          2.3,
          1.3,
          3.9,
          2.2,
          3.5,
          1.5,
          3.5,
          1.5,
          4.7,
          4.7,
          3.9,
          4.3,
          5,
          1.1,
          2.5,
          4.5,
          5,
          3.5,
          3.4,
          3.3,
          3.2,
          3.8,
          1.5,
          3.3,
          2.2,
          4.4,
          2.8,
          2.9,
          1.6,
          3.4,
          1.5,
          3.6,
          4.8
         ],
         "yaxis": "y"
        },
        {
         "hovertemplate": "category=Toys<br>price=%{x}<br>review_score=%{y}<extra></extra>",
         "legendgroup": "Toys",
         "marker": {
          "color": "#00cc96",
          "symbol": "circle"
         },
         "mode": "markers",
         "name": "Toys",
         "orientation": "v",
         "showlegend": true,
         "type": "scatter",
         "x": [
          367.34,
          301.34,
          82.22,
          15.19,
          155.6,
          259.55,
          474.7,
          65.41,
          262.43,
          103.36,
          354.89,
          365.86,
          444.17,
          271.97,
          404.68,
          409.92,
          64.33,
          486.03,
          129.63,
          23.26,
          317.99,
          258.49,
          117.12,
          462.72,
          124.72,
          364.35,
          116.01,
          51.37,
          136.28,
          125.77,
          486.64,
          253.81,
          470.53,
          457.86,
          161.88,
          88.9,
          280.62,
          53.1,
          261.57,
          350.02,
          352.47,
          398.92,
          23.49,
          263.51,
          260.57,
          17.55,
          276.87,
          358.72,
          477.66,
          12.12,
          25.16,
          428.45,
          239.72,
          90.73,
          319.37,
          428.96,
          294.96,
          289.86,
          231.84,
          54.89,
          92.83,
          209.25,
          189.15,
          217.35,
          451.76,
          288.85,
          150.14,
          473.89,
          389.69,
          63.18,
          496.52,
          484.8,
          294.24,
          350.59,
          308.64,
          485.11,
          210.34,
          32.91,
          385.65,
          68.93,
          477.26,
          182.29,
          19.25,
          353.52,
          72.5,
          392.91,
          77.8,
          318.53,
          68.8,
          142.9,
          233.09,
          185.31,
          45.47,
          437.42,
          460.83,
          142.05,
          96.34,
          311.04,
          268.65,
          298.83,
          208.15,
          335.98,
          287.95,
          215.59,
          147.87,
          495.03,
          469.48,
          86.31,
          409.22,
          195.03,
          274.06,
          395.36,
          128,
          174.33,
          411.52,
          423.99,
          201.66,
          118.48,
          322.37,
          176.12,
          305.32,
          467.51,
          228.17,
          66.71,
          176.74,
          74.72,
          212.37,
          210.24,
          284.6,
          282.02,
          431.58,
          17.57,
          82.3,
          122.9,
          362.52,
          201.61,
          448.69,
          133.41,
          278.26,
          220.88,
          74.36,
          215.48,
          273.11,
          418.29,
          107.18,
          10.44,
          450.51,
          299.56,
          345.76,
          400.71,
          225.77
         ],
         "xaxis": "x",
         "y": [
          4.5,
          3.9,
          3.6,
          1.9,
          1.7,
          4.4,
          1.5,
          3.2,
          1.1,
          1.9,
          5,
          2.7,
          5,
          1.5,
          4.6,
          1.3,
          1.3,
          3.4,
          2.4,
          4.5,
          1.5,
          3.5,
          2,
          3.5,
          3.8,
          4.9,
          4.2,
          2.7,
          2.7,
          3.6,
          2.6,
          1.9,
          4.5,
          4.1,
          1.5,
          3.7,
          2.7,
          3.3,
          2.8,
          2.6,
          1.6,
          3,
          1.5,
          1.8,
          3.9,
          3.2,
          2,
          1.6,
          4.9,
          1.9,
          3.6,
          1.8,
          1.3,
          4.5,
          2.4,
          3.3,
          2.7,
          3.4,
          3.5,
          4.9,
          1.5,
          1.3,
          1.7,
          2,
          1.7,
          1.2,
          1.2,
          1.7,
          3,
          2.6,
          3.7,
          4.2,
          2.3,
          3.1,
          4.3,
          2.4,
          2.1,
          4.2,
          2.7,
          3.1,
          3.8,
          2.9,
          2.6,
          2.4,
          4.1,
          1.7,
          1.1,
          5,
          2.6,
          2.3,
          3.1,
          4.2,
          2.3,
          2.3,
          3.7,
          3.6,
          2.9,
          1.7,
          2.6,
          1.5,
          4.2,
          4.3,
          4.7,
          3,
          1.1,
          1.4,
          1.6,
          2.2,
          1.8,
          1.1,
          2,
          3.2,
          1.4,
          2.5,
          2.6,
          4.1,
          4.8,
          3.8,
          4.4,
          3.5,
          2.2,
          3.6,
          1.7,
          2.1,
          4.9,
          3.3,
          3.6,
          2,
          4.4,
          4.7,
          1.5,
          3.9,
          3.2,
          2,
          1.4,
          1.8,
          1.8,
          2.3,
          2.8,
          3.9,
          2.7,
          4.2,
          2.9,
          3.2,
          4.2,
          3.1,
          1.6,
          2,
          3.9,
          4.1,
          2.1
         ],
         "yaxis": "y"
        },
        {
         "hovertemplate": "category=Books<br>price=%{x}<br>review_score=%{y}<extra></extra>",
         "legendgroup": "Books",
         "marker": {
          "color": "#ab63fa",
          "symbol": "circle"
         },
         "mode": "markers",
         "name": "Books",
         "orientation": "v",
         "showlegend": true,
         "type": "scatter",
         "x": [
          82.23,
          110.11,
          95.79,
          218.81,
          74.05,
          149.61,
          298.25,
          27.99,
          250.11,
          300.96,
          27.39,
          402.09,
          493.51,
          408.65,
          168.79,
          158.94,
          381.59,
          249.43,
          17.58,
          128.4,
          208.14,
          379,
          148.43,
          446.82,
          8.44,
          257.82,
          185,
          481.41,
          153.93,
          30.48,
          123.58,
          76.72,
          247.28,
          382,
          365.47,
          49.69,
          25.18,
          91.31,
          132.68,
          409.52,
          279.82,
          177.86,
          322.81,
          9.55,
          122.44,
          326.57,
          17.04,
          216.95,
          150.75,
          195.62,
          405.63,
          406.01,
          457.05,
          172.31,
          51.52,
          146.84,
          67.89,
          268.02,
          364.42,
          488.05,
          398.62,
          279.41,
          239.37,
          202.26,
          314.8,
          480.79,
          343.09,
          439.35,
          495.3,
          376.68,
          249.74,
          444.41,
          75.78,
          381.95,
          41.02,
          354.59,
          377.92,
          453.65,
          60.04,
          326.36,
          41.53,
          316.55,
          43.48,
          493.17,
          270.37,
          364.23,
          433.7,
          18.05,
          191.35,
          433.04,
          499.86,
          305.06,
          262.48,
          259.42,
          463.66,
          232.27,
          490.12,
          248.85,
          42.55,
          448.91,
          239.61,
          25.23,
          254.19,
          24.46,
          315.81,
          404.07,
          244.84,
          268.4,
          493.33,
          122.43,
          55.38,
          90.82,
          201.94,
          465.04,
          256.27,
          268.63,
          405.89,
          131.05,
          334.27,
          222.37,
          170.78,
          399.66,
          362.52,
          454.68,
          293.78,
          295.18,
          13.96,
          61.05,
          460.82,
          402.41,
          271.01,
          333.45,
          78.59,
          47.25,
          299.72,
          108.9,
          229.38,
          337.59,
          400.96,
          328.11,
          54.22,
          150.11,
          409.63,
          150.76,
          434.89,
          16.12,
          334.19,
          91.81,
          212.29,
          261.86,
          303.56,
          197.7,
          468.73,
          365.45
         ],
         "xaxis": "x",
         "y": [
          4.2,
          1.2,
          4.7,
          4.7,
          2.2,
          4.7,
          2.3,
          4.3,
          4.2,
          5,
          2.9,
          1.4,
          2.1,
          1.1,
          2.7,
          4.8,
          3.4,
          1.7,
          4.1,
          1.7,
          2.6,
          4,
          4.3,
          2.1,
          2.5,
          2,
          2.9,
          4.3,
          3.3,
          4.4,
          4.3,
          3.8,
          3.7,
          4.5,
          1.1,
          1.6,
          1,
          3.2,
          1.4,
          3.8,
          1.3,
          4.5,
          4,
          4.1,
          1.9,
          3.6,
          2.9,
          1.5,
          4.2,
          2.9,
          3.8,
          4.4,
          1.2,
          3.8,
          1,
          1.1,
          4.2,
          4.7,
          3.8,
          4.5,
          2.4,
          1.7,
          2.9,
          4,
          1.2,
          3.9,
          3,
          2,
          1.9,
          3.5,
          1.6,
          4.8,
          2.8,
          3.1,
          2.2,
          1.8,
          4.4,
          3.3,
          1.1,
          3.6,
          4.2,
          4.3,
          2.9,
          4.5,
          2.9,
          4.1,
          1.1,
          1,
          3.6,
          3.2,
          3.4,
          1.4,
          4.8,
          3.3,
          3.6,
          1.9,
          2.6,
          3.4,
          3.8,
          3.9,
          3.3,
          4.6,
          1.9,
          4.5,
          3.1,
          3.2,
          4.8,
          4.2,
          3.1,
          3,
          5,
          2.5,
          2.6,
          1.5,
          2.6,
          4.9,
          1.9,
          3.5,
          3.1,
          2.5,
          2,
          4.1,
          2.8,
          4.6,
          3.5,
          3.9,
          1.2,
          1.4,
          1.1,
          1.8,
          3.6,
          2.7,
          4.8,
          1.5,
          3.6,
          4.4,
          3.6,
          4.5,
          1.6,
          1,
          3.9,
          3.5,
          4.8,
          4.5,
          3.8,
          1.4,
          1.9,
          3.4,
          5,
          3.6,
          2.6,
          2.5,
          4.3,
          1.5
         ],
         "yaxis": "y"
        },
        {
         "hovertemplate": "category=Electronics<br>price=%{x}<br>review_score=%{y}<extra></extra>",
         "legendgroup": "Electronics",
         "marker": {
          "color": "#FFA15A",
          "symbol": "circle"
         },
         "mode": "markers",
         "name": "Electronics",
         "orientation": "v",
         "showlegend": true,
         "type": "scatter",
         "x": [
          33.75,
          433.76,
          302.55,
          417.06,
          103.84,
          41.9,
          62.36,
          358.06,
          386.63,
          320.02,
          43.11,
          84.8,
          436.37,
          402.82,
          352.99,
          251.14,
          146,
          142.93,
          124.82,
          337.71,
          418.47,
          340.39,
          331.69,
          449.12,
          444.11,
          7.51,
          374.51,
          187.02,
          446.56,
          317.41,
          188.23,
          352.73,
          400.16,
          412.19,
          272.61,
          320.53,
          143.57,
          53.43,
          248.35,
          27.43,
          18.12,
          197.14,
          471.03,
          196.12,
          162.89,
          226.98,
          337.9,
          377.43,
          396.83,
          178.7,
          45.27,
          493.39,
          188.47,
          191.25,
          374.29,
          446.12,
          266.21,
          279.16,
          349.4,
          451.07,
          27.5,
          445.68,
          234.53,
          212.03,
          406.22,
          498.34,
          438.94,
          378.79,
          312.05,
          110.42,
          12.2,
          177.39,
          312.93,
          248.6,
          132.83,
          80.19,
          73.72,
          92.62,
          64.71,
          35.23,
          187.61,
          233.95,
          358.11,
          448.13,
          258.28,
          58.05,
          138.28,
          164.43,
          109.67,
          64.28,
          445.81,
          295.49,
          97.35,
          89.59,
          97.59,
          61.84,
          30.65,
          366.78,
          154.18,
          119.95,
          269.06,
          447.48,
          287.1,
          59.76,
          94.89,
          203.42,
          290.26,
          214.94,
          463.16,
          202.51,
          116.18,
          92.31,
          93.13,
          480.73,
          449.54,
          207.32,
          114.88,
          93.38,
          335.7,
          106.47,
          47.33,
          446.87,
          297.2,
          207.66,
          400.93,
          265.22,
          89.98,
          14.1,
          290.38,
          279.32,
          72.76,
          437.58,
          300.72,
          28.25,
          360.93,
          134.82,
          126.97,
          410.46
         ],
         "xaxis": "x",
         "y": [
          3.8,
          4.4,
          2,
          4.8,
          4.4,
          2.4,
          4.8,
          3.6,
          1.9,
          4.9,
          1.6,
          1.9,
          3.3,
          1.4,
          3,
          3.7,
          2.1,
          4.5,
          4,
          1.6,
          4.3,
          3.5,
          4.7,
          3.3,
          4,
          2.1,
          3.7,
          4.8,
          4.9,
          2.6,
          4.4,
          2.9,
          2,
          3.3,
          1.2,
          3.2,
          1.9,
          1.1,
          2,
          2.5,
          4.6,
          4.6,
          3.9,
          1.5,
          4.5,
          4.7,
          2.8,
          4.7,
          2.3,
          3.6,
          3.7,
          1.4,
          2.8,
          4.8,
          1.4,
          2.6,
          2.3,
          4,
          1.5,
          2.5,
          2.6,
          2.8,
          3.4,
          3.9,
          4.6,
          3.9,
          1.9,
          4.4,
          4.6,
          1.9,
          2.1,
          2.8,
          4.5,
          3.4,
          3.2,
          3.9,
          3.8,
          1.9,
          1.3,
          5,
          3.8,
          1.8,
          4,
          2.4,
          3.7,
          4.7,
          5,
          4.4,
          3.1,
          1.4,
          4,
          2.1,
          1.5,
          3.6,
          4.1,
          2.5,
          2.7,
          2,
          3.9,
          2.7,
          3,
          1.4,
          2.3,
          2.8,
          3.6,
          3.5,
          2.4,
          2.4,
          1.7,
          4.1,
          4.9,
          4,
          2.8,
          3.5,
          4.4,
          4.4,
          3.3,
          2.8,
          3.2,
          3.9,
          4.1,
          1.8,
          2.2,
          2.5,
          2.4,
          3.4,
          3.7,
          2.1,
          1.3,
          2.3,
          2.8,
          2.3,
          2.7,
          2.7,
          1.7,
          4.8,
          2.7,
          3.9
         ],
         "yaxis": "y"
        },
        {
         "hovertemplate": "category=Health<br>price=%{x}<br>review_score=%{y}<extra></extra>",
         "legendgroup": "Health",
         "marker": {
          "color": "#19d3f3",
          "symbol": "circle"
         },
         "mode": "markers",
         "name": "Health",
         "orientation": "v",
         "showlegend": true,
         "type": "scatter",
         "x": [
          485.11,
          305.73,
          275.62,
          96.5,
          484.94,
          102.01,
          166.04,
          415.23,
          181.59,
          144.06,
          7.73,
          182.44,
          320.59,
          238.75,
          454.25,
          162.41,
          261.8,
          253.83,
          163.79,
          324.36,
          196.43,
          173.83,
          450.71,
          333.43,
          276.62,
          347.49,
          166.07,
          398.43,
          290.57,
          248.8,
          324.51,
          483.49,
          349.53,
          287.18,
          74.34,
          258.11,
          291.25,
          386.15,
          111.83,
          164.86,
          139.06,
          43.84,
          349.51,
          380.13,
          62.46,
          27.77,
          275.08,
          39.33,
          51.75,
          16.52,
          376.55,
          389.32,
          429.91,
          378.5,
          255.1,
          453.16,
          163.06,
          475.28,
          475.55,
          50.15,
          62.95,
          351.98,
          411.82,
          46.99,
          407.34,
          493.07,
          434.96,
          26.36,
          230,
          311.97,
          179.91,
          158.22,
          85.5,
          27.38,
          193.54,
          421.85,
          140.34,
          472.66,
          127.44,
          262.55,
          426.83,
          278.19,
          178.54,
          452.56,
          201.29,
          123.87,
          176.11,
          335.44,
          346.75,
          400.71,
          188.38,
          375,
          125.02,
          145.47,
          304.86,
          264.63,
          491.28,
          238.43,
          482.69,
          66.53,
          371.85,
          74.19,
          104.81,
          86.01,
          408.21,
          263.92,
          191.59,
          375.07,
          470.22,
          73.94,
          398.04,
          311.94,
          80.08,
          382.42,
          129.64,
          473.91,
          436.7,
          284.74,
          461.64,
          492.5,
          435.6,
          261.82,
          202.09,
          460.33,
          228.96,
          11.48,
          498.45,
          23.09,
          139.02,
          18.41,
          415.96,
          474.48,
          132.65,
          139.79,
          302.26,
          457.63,
          285.37,
          240.64,
          333.52
         ],
         "xaxis": "x",
         "y": [
          5,
          1.1,
          4.5,
          1.1,
          4.5,
          2.6,
          3.5,
          4.1,
          2.7,
          2.7,
          1.2,
          1.9,
          1.7,
          1.9,
          5,
          4.4,
          4.4,
          3.6,
          4.3,
          3.5,
          1.4,
          4.9,
          2.4,
          2.8,
          2.7,
          2.8,
          1.3,
          4.6,
          1.9,
          1.1,
          4.9,
          1.1,
          3,
          1.3,
          2.2,
          2.9,
          2.3,
          1.7,
          1.4,
          4.2,
          4.3,
          4.6,
          3.6,
          3.9,
          5,
          4.9,
          3.5,
          2,
          4.4,
          3.1,
          4.9,
          3.1,
          2.7,
          3.8,
          1.1,
          3.3,
          1.8,
          1.4,
          2.1,
          1.2,
          4.5,
          1.1,
          3.8,
          4.9,
          4.5,
          3.8,
          2.6,
          4.5,
          3.2,
          2.5,
          3.7,
          1.1,
          2.6,
          1.8,
          4.7,
          1.4,
          2.2,
          1.5,
          3.7,
          1.2,
          3.4,
          4.3,
          4.3,
          3.5,
          3.9,
          1.5,
          1.4,
          2.1,
          3.2,
          3.6,
          3.2,
          3.1,
          1.6,
          3.2,
          4.7,
          4.2,
          2.2,
          4.1,
          3.8,
          4.9,
          1.4,
          3,
          4.3,
          3.5,
          3.5,
          2.7,
          2.7,
          4.1,
          1.9,
          4.9,
          4.2,
          4.8,
          2.8,
          3.9,
          2.8,
          3.1,
          1.3,
          1.3,
          1,
          3.6,
          1.3,
          4.9,
          4.1,
          3.1,
          3.4,
          2.5,
          1.8,
          4,
          1.9,
          2.2,
          4.2,
          3.4,
          1.3,
          4.2,
          1.4,
          3.9,
          2.3,
          1.1,
          1.1
         ],
         "yaxis": "y"
        },
        {
         "hovertemplate": "category=Sports<br>price=%{x}<br>review_score=%{y}<extra></extra>",
         "legendgroup": "Sports",
         "marker": {
          "color": "#FF6692",
          "symbol": "circle"
         },
         "mode": "markers",
         "name": "Sports",
         "orientation": "v",
         "showlegend": true,
         "type": "scatter",
         "x": [
          186.35,
          53.35,
          455.11,
          159.3,
          470.05,
          432.24,
          165.97,
          366.16,
          20.56,
          405.02,
          318.53,
          97.35,
          59.48,
          117.83,
          454.59,
          97.33,
          468.68,
          73.07,
          449.07,
          391.04,
          85.01,
          55.23,
          84.6,
          327.72,
          357.53,
          286.31,
          199.58,
          362.61,
          143.98,
          92.67,
          12.65,
          464.52,
          427.24,
          182.95,
          190.91,
          235.47,
          273.61,
          297.46,
          20.1,
          47.25,
          30.58,
          481.51,
          418.81,
          207.43,
          90.78,
          331.8,
          212.7,
          127.63,
          353.31,
          309.85,
          323,
          323.43,
          453.15,
          101.92,
          40.24,
          423.21,
          349.88,
          316.33,
          368.86,
          144.61,
          317.76,
          395.86,
          277.02,
          223.56,
          311.02,
          190.26,
          281.41,
          32.87,
          63.81,
          293.77,
          115.68,
          481.8,
          485.09,
          144.08,
          142.3,
          98.12,
          293.91,
          343.94,
          455.91,
          475.15,
          79.46,
          299.09,
          237,
          279.94,
          228.02,
          310.97,
          387.3,
          297.01,
          199.16,
          431.87,
          475.01,
          167.73,
          90.3,
          129.96,
          191.76,
          14.94,
          341.16,
          251.73,
          270.87,
          373.99,
          218.67,
          448.9,
          44.72,
          409.45,
          385.9,
          165.22,
          307.26,
          292.71,
          71.54,
          164.57,
          465.12,
          416.16,
          37.92,
          289.36,
          421.71,
          182.62,
          199.26,
          314,
          159.3,
          68.11,
          348.5,
          80.91,
          307.67,
          355.08,
          369.54,
          170.92,
          370.06,
          228.85,
          251.69,
          253.59,
          376.23,
          473.33,
          323.78,
          107.9,
          94.81,
          213.61,
          382.98,
          246.28,
          457.58,
          327.45,
          87.31,
          370.33,
          126.45,
          181.06,
          367.62,
          111.4,
          30.46,
          170.45,
          386.6,
          250.27,
          183.68,
          72.73,
          475.37
         ],
         "xaxis": "x",
         "y": [
          4.9,
          3.9,
          3.5,
          1.9,
          4.8,
          4.1,
          2.9,
          3.5,
          1.2,
          3.1,
          3.4,
          4.5,
          4.2,
          3.6,
          3.8,
          3,
          4,
          3.2,
          4.9,
          1.5,
          1.1,
          3.7,
          5,
          1.7,
          3.8,
          1.6,
          2.1,
          2.5,
          4.5,
          1.7,
          4,
          3.5,
          3.5,
          3.4,
          3.2,
          1.4,
          2.4,
          1.3,
          2.6,
          3.8,
          1.1,
          4.3,
          2.8,
          3.1,
          3.9,
          4.5,
          3.6,
          3,
          3.7,
          2.7,
          4.5,
          1.8,
          4.6,
          1.7,
          2,
          2.8,
          2.6,
          4.9,
          3.6,
          4.1,
          3.1,
          3,
          4.9,
          1,
          3,
          3.7,
          3.5,
          1.9,
          3.6,
          3.6,
          4.5,
          4.1,
          4,
          3.8,
          1.9,
          1.3,
          3.5,
          2.5,
          3.3,
          3.4,
          4.7,
          1.2,
          2,
          2.1,
          1.7,
          4.9,
          3.5,
          2.7,
          3.7,
          1.9,
          1.4,
          3,
          1.3,
          2.8,
          4.7,
          3.2,
          4.3,
          3.8,
          2.2,
          2.4,
          1.4,
          4.5,
          4.5,
          2.4,
          3.4,
          1.7,
          1.3,
          1.5,
          3,
          3.6,
          5,
          1.2,
          2.2,
          3.8,
          1.2,
          1.5,
          2.8,
          1.5,
          4.4,
          4.6,
          1.2,
          1.6,
          3.7,
          4.8,
          4.1,
          2.5,
          4.2,
          2.2,
          4.2,
          4.5,
          4.3,
          3.9,
          3,
          3.2,
          4,
          4,
          2.6,
          1,
          4.3,
          4.1,
          3.5,
          4.1,
          4.4,
          3.4,
          2.1,
          3.1,
          2.7,
          1.7,
          4.2,
          1.3,
          4,
          1.3,
          1.2
         ],
         "yaxis": "y"
        }
       ],
       "layout": {
        "legend": {
         "title": {
          "text": "category"
         },
         "tracegroupgap": 0
        },
        "template": {
         "data": {
          "bar": [
           {
            "error_x": {
             "color": "#f2f5fa"
            },
            "error_y": {
             "color": "#f2f5fa"
            },
            "marker": {
             "line": {
              "color": "rgb(17,17,17)",
              "width": 0.5
             },
             "pattern": {
              "fillmode": "overlay",
              "size": 10,
              "solidity": 0.2
             }
            },
            "type": "bar"
           }
          ],
          "barpolar": [
           {
            "marker": {
             "line": {
              "color": "rgb(17,17,17)",
              "width": 0.5
             },
             "pattern": {
              "fillmode": "overlay",
              "size": 10,
              "solidity": 0.2
             }
            },
            "type": "barpolar"
           }
          ],
          "carpet": [
           {
            "aaxis": {
             "endlinecolor": "#A2B1C6",
             "gridcolor": "#506784",
             "linecolor": "#506784",
             "minorgridcolor": "#506784",
             "startlinecolor": "#A2B1C6"
            },
            "baxis": {
             "endlinecolor": "#A2B1C6",
             "gridcolor": "#506784",
             "linecolor": "#506784",
             "minorgridcolor": "#506784",
             "startlinecolor": "#A2B1C6"
            },
            "type": "carpet"
           }
          ],
          "choropleth": [
           {
            "colorbar": {
             "outlinewidth": 0,
             "ticks": ""
            },
            "type": "choropleth"
           }
          ],
          "contour": [
           {
            "colorbar": {
             "outlinewidth": 0,
             "ticks": ""
            },
            "colorscale": [
             [
              0,
              "#0d0887"
             ],
             [
              0.1111111111111111,
              "#46039f"
             ],
             [
              0.2222222222222222,
              "#7201a8"
             ],
             [
              0.3333333333333333,
              "#9c179e"
             ],
             [
              0.4444444444444444,
              "#bd3786"
             ],
             [
              0.5555555555555556,
              "#d8576b"
             ],
             [
              0.6666666666666666,
              "#ed7953"
             ],
             [
              0.7777777777777778,
              "#fb9f3a"
             ],
             [
              0.8888888888888888,
              "#fdca26"
             ],
             [
              1,
              "#f0f921"
             ]
            ],
            "type": "contour"
           }
          ],
          "contourcarpet": [
           {
            "colorbar": {
             "outlinewidth": 0,
             "ticks": ""
            },
            "type": "contourcarpet"
           }
          ],
          "heatmap": [
           {
            "colorbar": {
             "outlinewidth": 0,
             "ticks": ""
            },
            "colorscale": [
             [
              0,
              "#0d0887"
             ],
             [
              0.1111111111111111,
              "#46039f"
             ],
             [
              0.2222222222222222,
              "#7201a8"
             ],
             [
              0.3333333333333333,
              "#9c179e"
             ],
             [
              0.4444444444444444,
              "#bd3786"
             ],
             [
              0.5555555555555556,
              "#d8576b"
             ],
             [
              0.6666666666666666,
              "#ed7953"
             ],
             [
              0.7777777777777778,
              "#fb9f3a"
             ],
             [
              0.8888888888888888,
              "#fdca26"
             ],
             [
              1,
              "#f0f921"
             ]
            ],
            "type": "heatmap"
           }
          ],
          "heatmapgl": [
           {
            "colorbar": {
             "outlinewidth": 0,
             "ticks": ""
            },
            "colorscale": [
             [
              0,
              "#0d0887"
             ],
             [
              0.1111111111111111,
              "#46039f"
             ],
             [
              0.2222222222222222,
              "#7201a8"
             ],
             [
              0.3333333333333333,
              "#9c179e"
             ],
             [
              0.4444444444444444,
              "#bd3786"
             ],
             [
              0.5555555555555556,
              "#d8576b"
             ],
             [
              0.6666666666666666,
              "#ed7953"
             ],
             [
              0.7777777777777778,
              "#fb9f3a"
             ],
             [
              0.8888888888888888,
              "#fdca26"
             ],
             [
              1,
              "#f0f921"
             ]
            ],
            "type": "heatmapgl"
           }
          ],
          "histogram": [
           {
            "marker": {
             "pattern": {
              "fillmode": "overlay",
              "size": 10,
              "solidity": 0.2
             }
            },
            "type": "histogram"
           }
          ],
          "histogram2d": [
           {
            "colorbar": {
             "outlinewidth": 0,
             "ticks": ""
            },
            "colorscale": [
             [
              0,
              "#0d0887"
             ],
             [
              0.1111111111111111,
              "#46039f"
             ],
             [
              0.2222222222222222,
              "#7201a8"
             ],
             [
              0.3333333333333333,
              "#9c179e"
             ],
             [
              0.4444444444444444,
              "#bd3786"
             ],
             [
              0.5555555555555556,
              "#d8576b"
             ],
             [
              0.6666666666666666,
              "#ed7953"
             ],
             [
              0.7777777777777778,
              "#fb9f3a"
             ],
             [
              0.8888888888888888,
              "#fdca26"
             ],
             [
              1,
              "#f0f921"
             ]
            ],
            "type": "histogram2d"
           }
          ],
          "histogram2dcontour": [
           {
            "colorbar": {
             "outlinewidth": 0,
             "ticks": ""
            },
            "colorscale": [
             [
              0,
              "#0d0887"
             ],
             [
              0.1111111111111111,
              "#46039f"
             ],
             [
              0.2222222222222222,
              "#7201a8"
             ],
             [
              0.3333333333333333,
              "#9c179e"
             ],
             [
              0.4444444444444444,
              "#bd3786"
             ],
             [
              0.5555555555555556,
              "#d8576b"
             ],
             [
              0.6666666666666666,
              "#ed7953"
             ],
             [
              0.7777777777777778,
              "#fb9f3a"
             ],
             [
              0.8888888888888888,
              "#fdca26"
             ],
             [
              1,
              "#f0f921"
             ]
            ],
            "type": "histogram2dcontour"
           }
          ],
          "mesh3d": [
           {
            "colorbar": {
             "outlinewidth": 0,
             "ticks": ""
            },
            "type": "mesh3d"
           }
          ],
          "parcoords": [
           {
            "line": {
             "colorbar": {
              "outlinewidth": 0,
              "ticks": ""
             }
            },
            "type": "parcoords"
           }
          ],
          "pie": [
           {
            "automargin": true,
            "type": "pie"
           }
          ],
          "scatter": [
           {
            "marker": {
             "line": {
              "color": "#283442"
             }
            },
            "type": "scatter"
           }
          ],
          "scatter3d": [
           {
            "line": {
             "colorbar": {
              "outlinewidth": 0,
              "ticks": ""
             }
            },
            "marker": {
             "colorbar": {
              "outlinewidth": 0,
              "ticks": ""
             }
            },
            "type": "scatter3d"
           }
          ],
          "scattercarpet": [
           {
            "marker": {
             "colorbar": {
              "outlinewidth": 0,
              "ticks": ""
             }
            },
            "type": "scattercarpet"
           }
          ],
          "scattergeo": [
           {
            "marker": {
             "colorbar": {
              "outlinewidth": 0,
              "ticks": ""
             }
            },
            "type": "scattergeo"
           }
          ],
          "scattergl": [
           {
            "marker": {
             "line": {
              "color": "#283442"
             }
            },
            "type": "scattergl"
           }
          ],
          "scattermapbox": [
           {
            "marker": {
             "colorbar": {
              "outlinewidth": 0,
              "ticks": ""
             }
            },
            "type": "scattermapbox"
           }
          ],
          "scatterpolar": [
           {
            "marker": {
             "colorbar": {
              "outlinewidth": 0,
              "ticks": ""
             }
            },
            "type": "scatterpolar"
           }
          ],
          "scatterpolargl": [
           {
            "marker": {
             "colorbar": {
              "outlinewidth": 0,
              "ticks": ""
             }
            },
            "type": "scatterpolargl"
           }
          ],
          "scatterternary": [
           {
            "marker": {
             "colorbar": {
              "outlinewidth": 0,
              "ticks": ""
             }
            },
            "type": "scatterternary"
           }
          ],
          "surface": [
           {
            "colorbar": {
             "outlinewidth": 0,
             "ticks": ""
            },
            "colorscale": [
             [
              0,
              "#0d0887"
             ],
             [
              0.1111111111111111,
              "#46039f"
             ],
             [
              0.2222222222222222,
              "#7201a8"
             ],
             [
              0.3333333333333333,
              "#9c179e"
             ],
             [
              0.4444444444444444,
              "#bd3786"
             ],
             [
              0.5555555555555556,
              "#d8576b"
             ],
             [
              0.6666666666666666,
              "#ed7953"
             ],
             [
              0.7777777777777778,
              "#fb9f3a"
             ],
             [
              0.8888888888888888,
              "#fdca26"
             ],
             [
              1,
              "#f0f921"
             ]
            ],
            "type": "surface"
           }
          ],
          "table": [
           {
            "cells": {
             "fill": {
              "color": "#506784"
             },
             "line": {
              "color": "rgb(17,17,17)"
             }
            },
            "header": {
             "fill": {
              "color": "#2a3f5f"
             },
             "line": {
              "color": "rgb(17,17,17)"
             }
            },
            "type": "table"
           }
          ]
         },
         "layout": {
          "annotationdefaults": {
           "arrowcolor": "#f2f5fa",
           "arrowhead": 0,
           "arrowwidth": 1
          },
          "autotypenumbers": "strict",
          "coloraxis": {
           "colorbar": {
            "outlinewidth": 0,
            "ticks": ""
           }
          },
          "colorscale": {
           "diverging": [
            [
             0,
             "#8e0152"
            ],
            [
             0.1,
             "#c51b7d"
            ],
            [
             0.2,
             "#de77ae"
            ],
            [
             0.3,
             "#f1b6da"
            ],
            [
             0.4,
             "#fde0ef"
            ],
            [
             0.5,
             "#f7f7f7"
            ],
            [
             0.6,
             "#e6f5d0"
            ],
            [
             0.7,
             "#b8e186"
            ],
            [
             0.8,
             "#7fbc41"
            ],
            [
             0.9,
             "#4d9221"
            ],
            [
             1,
             "#276419"
            ]
           ],
           "sequential": [
            [
             0,
             "#0d0887"
            ],
            [
             0.1111111111111111,
             "#46039f"
            ],
            [
             0.2222222222222222,
             "#7201a8"
            ],
            [
             0.3333333333333333,
             "#9c179e"
            ],
            [
             0.4444444444444444,
             "#bd3786"
            ],
            [
             0.5555555555555556,
             "#d8576b"
            ],
            [
             0.6666666666666666,
             "#ed7953"
            ],
            [
             0.7777777777777778,
             "#fb9f3a"
            ],
            [
             0.8888888888888888,
             "#fdca26"
            ],
            [
             1,
             "#f0f921"
            ]
           ],
           "sequentialminus": [
            [
             0,
             "#0d0887"
            ],
            [
             0.1111111111111111,
             "#46039f"
            ],
            [
             0.2222222222222222,
             "#7201a8"
            ],
            [
             0.3333333333333333,
             "#9c179e"
            ],
            [
             0.4444444444444444,
             "#bd3786"
            ],
            [
             0.5555555555555556,
             "#d8576b"
            ],
            [
             0.6666666666666666,
             "#ed7953"
            ],
            [
             0.7777777777777778,
             "#fb9f3a"
            ],
            [
             0.8888888888888888,
             "#fdca26"
            ],
            [
             1,
             "#f0f921"
            ]
           ]
          },
          "colorway": [
           "#636efa",
           "#EF553B",
           "#00cc96",
           "#ab63fa",
           "#FFA15A",
           "#19d3f3",
           "#FF6692",
           "#B6E880",
           "#FF97FF",
           "#FECB52"
          ],
          "font": {
           "color": "#f2f5fa"
          },
          "geo": {
           "bgcolor": "rgb(17,17,17)",
           "lakecolor": "rgb(17,17,17)",
           "landcolor": "rgb(17,17,17)",
           "showlakes": true,
           "showland": true,
           "subunitcolor": "#506784"
          },
          "hoverlabel": {
           "align": "left"
          },
          "hovermode": "closest",
          "mapbox": {
           "style": "dark"
          },
          "paper_bgcolor": "rgb(17,17,17)",
          "plot_bgcolor": "rgb(17,17,17)",
          "polar": {
           "angularaxis": {
            "gridcolor": "#506784",
            "linecolor": "#506784",
            "ticks": ""
           },
           "bgcolor": "rgb(17,17,17)",
           "radialaxis": {
            "gridcolor": "#506784",
            "linecolor": "#506784",
            "ticks": ""
           }
          },
          "scene": {
           "xaxis": {
            "backgroundcolor": "rgb(17,17,17)",
            "gridcolor": "#506784",
            "gridwidth": 2,
            "linecolor": "#506784",
            "showbackground": true,
            "ticks": "",
            "zerolinecolor": "#C8D4E3"
           },
           "yaxis": {
            "backgroundcolor": "rgb(17,17,17)",
            "gridcolor": "#506784",
            "gridwidth": 2,
            "linecolor": "#506784",
            "showbackground": true,
            "ticks": "",
            "zerolinecolor": "#C8D4E3"
           },
           "zaxis": {
            "backgroundcolor": "rgb(17,17,17)",
            "gridcolor": "#506784",
            "gridwidth": 2,
            "linecolor": "#506784",
            "showbackground": true,
            "ticks": "",
            "zerolinecolor": "#C8D4E3"
           }
          },
          "shapedefaults": {
           "line": {
            "color": "#f2f5fa"
           }
          },
          "sliderdefaults": {
           "bgcolor": "#C8D4E3",
           "bordercolor": "rgb(17,17,17)",
           "borderwidth": 1,
           "tickwidth": 0
          },
          "ternary": {
           "aaxis": {
            "gridcolor": "#506784",
            "linecolor": "#506784",
            "ticks": ""
           },
           "baxis": {
            "gridcolor": "#506784",
            "linecolor": "#506784",
            "ticks": ""
           },
           "bgcolor": "rgb(17,17,17)",
           "caxis": {
            "gridcolor": "#506784",
            "linecolor": "#506784",
            "ticks": ""
           }
          },
          "title": {
           "x": 0.05
          },
          "updatemenudefaults": {
           "bgcolor": "#506784",
           "borderwidth": 0
          },
          "xaxis": {
           "automargin": true,
           "gridcolor": "#283442",
           "linecolor": "#506784",
           "ticks": "",
           "title": {
            "standoff": 15
           },
           "zerolinecolor": "#283442",
           "zerolinewidth": 2
          },
          "yaxis": {
           "automargin": true,
           "gridcolor": "#283442",
           "linecolor": "#506784",
           "ticks": "",
           "title": {
            "standoff": 15
           },
           "zerolinecolor": "#283442",
           "zerolinewidth": 2
          }
         }
        },
        "title": {
         "font": {
          "size": 20
         },
         "text": "Price vs. Review Score"
        },
        "xaxis": {
         "anchor": "y",
         "domain": [
          0,
          1
         ],
         "title": {
          "text": "Price"
         }
        },
        "yaxis": {
         "anchor": "x",
         "domain": [
          0,
          1
         ],
         "title": {
          "text": "Review Score"
         }
        }
       }
      }
     },
     "metadata": {},
     "output_type": "display_data"
    }
   ],
   "source": [
    "fig = px.scatter(df, x='price', y='total_sales', color='category', title='Price vs. Total Sales',\n",
    "                 color_continuous_scale='Viridis')\n",
    "\n",
    "fig.update_layout(\n",
    "    title_font_size=20,\n",
    "    xaxis_title=\"Price\",\n",
    "    yaxis_title=\"Total Sales\",\n",
    "    template=\"plotly_dark\"\n",
    ")\n",
    "\n",
    "fig.show()\n",
    "\n",
    "# Scatter plot: price vs. review_score with Viridis color palette\n",
    "fig = px.scatter(df, x='price', y='review_score', color='category', title='Price vs. Review Score',\n",
    "                 color_continuous_scale='Viridis')\n",
    "\n",
    "fig.update_layout(\n",
    "    title_font_size=20,\n",
    "    xaxis_title=\"Price\",\n",
    "    yaxis_title=\"Review Score\",\n",
    "    template=\"plotly_dark\"\n",
    ")\n",
    "\n",
    "fig.show()"
   ]
  },
  {
   "cell_type": "code",
   "execution_count": 23,
   "id": "fb20b030",
   "metadata": {},
   "outputs": [
    {
     "data": {
      "application/vnd.plotly.v1+json": {
       "config": {
        "plotlyServerURL": "https://plot.ly"
       },
       "data": [
        {
         "hovertemplate": "month=%{x}<br>total_sales=%{y}<extra></extra>",
         "legendgroup": "",
         "line": {
          "color": "#636EFA",
          "dash": "solid",
          "shape": "spline"
         },
         "marker": {
          "symbol": "circle"
         },
         "mode": "lines+markers",
         "name": "",
         "orientation": "v",
         "showlegend": false,
         "type": "scatter",
         "x": [
          1,
          2,
          3,
          4,
          5,
          6,
          7,
          8,
          9,
          10,
          11,
          12
         ],
         "xaxis": "x",
         "y": [
          498306,
          507661,
          506739,
          503823,
          487194,
          491653,
          507011,
          504569,
          491934,
          514798,
          505838,
          500386
         ],
         "yaxis": "y"
        }
       ],
       "layout": {
        "legend": {
         "tracegroupgap": 0
        },
        "plot_bgcolor": "rgba(0,0,0,0)",
        "template": {
         "data": {
          "bar": [
           {
            "error_x": {
             "color": "#f2f5fa"
            },
            "error_y": {
             "color": "#f2f5fa"
            },
            "marker": {
             "line": {
              "color": "rgb(17,17,17)",
              "width": 0.5
             },
             "pattern": {
              "fillmode": "overlay",
              "size": 10,
              "solidity": 0.2
             }
            },
            "type": "bar"
           }
          ],
          "barpolar": [
           {
            "marker": {
             "line": {
              "color": "rgb(17,17,17)",
              "width": 0.5
             },
             "pattern": {
              "fillmode": "overlay",
              "size": 10,
              "solidity": 0.2
             }
            },
            "type": "barpolar"
           }
          ],
          "carpet": [
           {
            "aaxis": {
             "endlinecolor": "#A2B1C6",
             "gridcolor": "#506784",
             "linecolor": "#506784",
             "minorgridcolor": "#506784",
             "startlinecolor": "#A2B1C6"
            },
            "baxis": {
             "endlinecolor": "#A2B1C6",
             "gridcolor": "#506784",
             "linecolor": "#506784",
             "minorgridcolor": "#506784",
             "startlinecolor": "#A2B1C6"
            },
            "type": "carpet"
           }
          ],
          "choropleth": [
           {
            "colorbar": {
             "outlinewidth": 0,
             "ticks": ""
            },
            "type": "choropleth"
           }
          ],
          "contour": [
           {
            "colorbar": {
             "outlinewidth": 0,
             "ticks": ""
            },
            "colorscale": [
             [
              0,
              "#0d0887"
             ],
             [
              0.1111111111111111,
              "#46039f"
             ],
             [
              0.2222222222222222,
              "#7201a8"
             ],
             [
              0.3333333333333333,
              "#9c179e"
             ],
             [
              0.4444444444444444,
              "#bd3786"
             ],
             [
              0.5555555555555556,
              "#d8576b"
             ],
             [
              0.6666666666666666,
              "#ed7953"
             ],
             [
              0.7777777777777778,
              "#fb9f3a"
             ],
             [
              0.8888888888888888,
              "#fdca26"
             ],
             [
              1,
              "#f0f921"
             ]
            ],
            "type": "contour"
           }
          ],
          "contourcarpet": [
           {
            "colorbar": {
             "outlinewidth": 0,
             "ticks": ""
            },
            "type": "contourcarpet"
           }
          ],
          "heatmap": [
           {
            "colorbar": {
             "outlinewidth": 0,
             "ticks": ""
            },
            "colorscale": [
             [
              0,
              "#0d0887"
             ],
             [
              0.1111111111111111,
              "#46039f"
             ],
             [
              0.2222222222222222,
              "#7201a8"
             ],
             [
              0.3333333333333333,
              "#9c179e"
             ],
             [
              0.4444444444444444,
              "#bd3786"
             ],
             [
              0.5555555555555556,
              "#d8576b"
             ],
             [
              0.6666666666666666,
              "#ed7953"
             ],
             [
              0.7777777777777778,
              "#fb9f3a"
             ],
             [
              0.8888888888888888,
              "#fdca26"
             ],
             [
              1,
              "#f0f921"
             ]
            ],
            "type": "heatmap"
           }
          ],
          "heatmapgl": [
           {
            "colorbar": {
             "outlinewidth": 0,
             "ticks": ""
            },
            "colorscale": [
             [
              0,
              "#0d0887"
             ],
             [
              0.1111111111111111,
              "#46039f"
             ],
             [
              0.2222222222222222,
              "#7201a8"
             ],
             [
              0.3333333333333333,
              "#9c179e"
             ],
             [
              0.4444444444444444,
              "#bd3786"
             ],
             [
              0.5555555555555556,
              "#d8576b"
             ],
             [
              0.6666666666666666,
              "#ed7953"
             ],
             [
              0.7777777777777778,
              "#fb9f3a"
             ],
             [
              0.8888888888888888,
              "#fdca26"
             ],
             [
              1,
              "#f0f921"
             ]
            ],
            "type": "heatmapgl"
           }
          ],
          "histogram": [
           {
            "marker": {
             "pattern": {
              "fillmode": "overlay",
              "size": 10,
              "solidity": 0.2
             }
            },
            "type": "histogram"
           }
          ],
          "histogram2d": [
           {
            "colorbar": {
             "outlinewidth": 0,
             "ticks": ""
            },
            "colorscale": [
             [
              0,
              "#0d0887"
             ],
             [
              0.1111111111111111,
              "#46039f"
             ],
             [
              0.2222222222222222,
              "#7201a8"
             ],
             [
              0.3333333333333333,
              "#9c179e"
             ],
             [
              0.4444444444444444,
              "#bd3786"
             ],
             [
              0.5555555555555556,
              "#d8576b"
             ],
             [
              0.6666666666666666,
              "#ed7953"
             ],
             [
              0.7777777777777778,
              "#fb9f3a"
             ],
             [
              0.8888888888888888,
              "#fdca26"
             ],
             [
              1,
              "#f0f921"
             ]
            ],
            "type": "histogram2d"
           }
          ],
          "histogram2dcontour": [
           {
            "colorbar": {
             "outlinewidth": 0,
             "ticks": ""
            },
            "colorscale": [
             [
              0,
              "#0d0887"
             ],
             [
              0.1111111111111111,
              "#46039f"
             ],
             [
              0.2222222222222222,
              "#7201a8"
             ],
             [
              0.3333333333333333,
              "#9c179e"
             ],
             [
              0.4444444444444444,
              "#bd3786"
             ],
             [
              0.5555555555555556,
              "#d8576b"
             ],
             [
              0.6666666666666666,
              "#ed7953"
             ],
             [
              0.7777777777777778,
              "#fb9f3a"
             ],
             [
              0.8888888888888888,
              "#fdca26"
             ],
             [
              1,
              "#f0f921"
             ]
            ],
            "type": "histogram2dcontour"
           }
          ],
          "mesh3d": [
           {
            "colorbar": {
             "outlinewidth": 0,
             "ticks": ""
            },
            "type": "mesh3d"
           }
          ],
          "parcoords": [
           {
            "line": {
             "colorbar": {
              "outlinewidth": 0,
              "ticks": ""
             }
            },
            "type": "parcoords"
           }
          ],
          "pie": [
           {
            "automargin": true,
            "type": "pie"
           }
          ],
          "scatter": [
           {
            "marker": {
             "line": {
              "color": "#283442"
             }
            },
            "type": "scatter"
           }
          ],
          "scatter3d": [
           {
            "line": {
             "colorbar": {
              "outlinewidth": 0,
              "ticks": ""
             }
            },
            "marker": {
             "colorbar": {
              "outlinewidth": 0,
              "ticks": ""
             }
            },
            "type": "scatter3d"
           }
          ],
          "scattercarpet": [
           {
            "marker": {
             "colorbar": {
              "outlinewidth": 0,
              "ticks": ""
             }
            },
            "type": "scattercarpet"
           }
          ],
          "scattergeo": [
           {
            "marker": {
             "colorbar": {
              "outlinewidth": 0,
              "ticks": ""
             }
            },
            "type": "scattergeo"
           }
          ],
          "scattergl": [
           {
            "marker": {
             "line": {
              "color": "#283442"
             }
            },
            "type": "scattergl"
           }
          ],
          "scattermapbox": [
           {
            "marker": {
             "colorbar": {
              "outlinewidth": 0,
              "ticks": ""
             }
            },
            "type": "scattermapbox"
           }
          ],
          "scatterpolar": [
           {
            "marker": {
             "colorbar": {
              "outlinewidth": 0,
              "ticks": ""
             }
            },
            "type": "scatterpolar"
           }
          ],
          "scatterpolargl": [
           {
            "marker": {
             "colorbar": {
              "outlinewidth": 0,
              "ticks": ""
             }
            },
            "type": "scatterpolargl"
           }
          ],
          "scatterternary": [
           {
            "marker": {
             "colorbar": {
              "outlinewidth": 0,
              "ticks": ""
             }
            },
            "type": "scatterternary"
           }
          ],
          "surface": [
           {
            "colorbar": {
             "outlinewidth": 0,
             "ticks": ""
            },
            "colorscale": [
             [
              0,
              "#0d0887"
             ],
             [
              0.1111111111111111,
              "#46039f"
             ],
             [
              0.2222222222222222,
              "#7201a8"
             ],
             [
              0.3333333333333333,
              "#9c179e"
             ],
             [
              0.4444444444444444,
              "#bd3786"
             ],
             [
              0.5555555555555556,
              "#d8576b"
             ],
             [
              0.6666666666666666,
              "#ed7953"
             ],
             [
              0.7777777777777778,
              "#fb9f3a"
             ],
             [
              0.8888888888888888,
              "#fdca26"
             ],
             [
              1,
              "#f0f921"
             ]
            ],
            "type": "surface"
           }
          ],
          "table": [
           {
            "cells": {
             "fill": {
              "color": "#506784"
             },
             "line": {
              "color": "rgb(17,17,17)"
             }
            },
            "header": {
             "fill": {
              "color": "#2a3f5f"
             },
             "line": {
              "color": "rgb(17,17,17)"
             }
            },
            "type": "table"
           }
          ]
         },
         "layout": {
          "annotationdefaults": {
           "arrowcolor": "#f2f5fa",
           "arrowhead": 0,
           "arrowwidth": 1
          },
          "autotypenumbers": "strict",
          "coloraxis": {
           "colorbar": {
            "outlinewidth": 0,
            "ticks": ""
           }
          },
          "colorscale": {
           "diverging": [
            [
             0,
             "#8e0152"
            ],
            [
             0.1,
             "#c51b7d"
            ],
            [
             0.2,
             "#de77ae"
            ],
            [
             0.3,
             "#f1b6da"
            ],
            [
             0.4,
             "#fde0ef"
            ],
            [
             0.5,
             "#f7f7f7"
            ],
            [
             0.6,
             "#e6f5d0"
            ],
            [
             0.7,
             "#b8e186"
            ],
            [
             0.8,
             "#7fbc41"
            ],
            [
             0.9,
             "#4d9221"
            ],
            [
             1,
             "#276419"
            ]
           ],
           "sequential": [
            [
             0,
             "#0d0887"
            ],
            [
             0.1111111111111111,
             "#46039f"
            ],
            [
             0.2222222222222222,
             "#7201a8"
            ],
            [
             0.3333333333333333,
             "#9c179e"
            ],
            [
             0.4444444444444444,
             "#bd3786"
            ],
            [
             0.5555555555555556,
             "#d8576b"
            ],
            [
             0.6666666666666666,
             "#ed7953"
            ],
            [
             0.7777777777777778,
             "#fb9f3a"
            ],
            [
             0.8888888888888888,
             "#fdca26"
            ],
            [
             1,
             "#f0f921"
            ]
           ],
           "sequentialminus": [
            [
             0,
             "#0d0887"
            ],
            [
             0.1111111111111111,
             "#46039f"
            ],
            [
             0.2222222222222222,
             "#7201a8"
            ],
            [
             0.3333333333333333,
             "#9c179e"
            ],
            [
             0.4444444444444444,
             "#bd3786"
            ],
            [
             0.5555555555555556,
             "#d8576b"
            ],
            [
             0.6666666666666666,
             "#ed7953"
            ],
            [
             0.7777777777777778,
             "#fb9f3a"
            ],
            [
             0.8888888888888888,
             "#fdca26"
            ],
            [
             1,
             "#f0f921"
            ]
           ]
          },
          "colorway": [
           "#636efa",
           "#EF553B",
           "#00cc96",
           "#ab63fa",
           "#FFA15A",
           "#19d3f3",
           "#FF6692",
           "#B6E880",
           "#FF97FF",
           "#FECB52"
          ],
          "font": {
           "color": "#f2f5fa"
          },
          "geo": {
           "bgcolor": "rgb(17,17,17)",
           "lakecolor": "rgb(17,17,17)",
           "landcolor": "rgb(17,17,17)",
           "showlakes": true,
           "showland": true,
           "subunitcolor": "#506784"
          },
          "hoverlabel": {
           "align": "left"
          },
          "hovermode": "closest",
          "mapbox": {
           "style": "dark"
          },
          "paper_bgcolor": "rgb(17,17,17)",
          "plot_bgcolor": "rgb(17,17,17)",
          "polar": {
           "angularaxis": {
            "gridcolor": "#506784",
            "linecolor": "#506784",
            "ticks": ""
           },
           "bgcolor": "rgb(17,17,17)",
           "radialaxis": {
            "gridcolor": "#506784",
            "linecolor": "#506784",
            "ticks": ""
           }
          },
          "scene": {
           "xaxis": {
            "backgroundcolor": "rgb(17,17,17)",
            "gridcolor": "#506784",
            "gridwidth": 2,
            "linecolor": "#506784",
            "showbackground": true,
            "ticks": "",
            "zerolinecolor": "#C8D4E3"
           },
           "yaxis": {
            "backgroundcolor": "rgb(17,17,17)",
            "gridcolor": "#506784",
            "gridwidth": 2,
            "linecolor": "#506784",
            "showbackground": true,
            "ticks": "",
            "zerolinecolor": "#C8D4E3"
           },
           "zaxis": {
            "backgroundcolor": "rgb(17,17,17)",
            "gridcolor": "#506784",
            "gridwidth": 2,
            "linecolor": "#506784",
            "showbackground": true,
            "ticks": "",
            "zerolinecolor": "#C8D4E3"
           }
          },
          "shapedefaults": {
           "line": {
            "color": "#f2f5fa"
           }
          },
          "sliderdefaults": {
           "bgcolor": "#C8D4E3",
           "bordercolor": "rgb(17,17,17)",
           "borderwidth": 1,
           "tickwidth": 0
          },
          "ternary": {
           "aaxis": {
            "gridcolor": "#506784",
            "linecolor": "#506784",
            "ticks": ""
           },
           "baxis": {
            "gridcolor": "#506784",
            "linecolor": "#506784",
            "ticks": ""
           },
           "bgcolor": "rgb(17,17,17)",
           "caxis": {
            "gridcolor": "#506784",
            "linecolor": "#506784",
            "ticks": ""
           }
          },
          "title": {
           "x": 0.05
          },
          "updatemenudefaults": {
           "bgcolor": "#506784",
           "borderwidth": 0
          },
          "xaxis": {
           "automargin": true,
           "gridcolor": "#283442",
           "linecolor": "#506784",
           "ticks": "",
           "title": {
            "standoff": 15
           },
           "zerolinecolor": "#283442",
           "zerolinewidth": 2
          },
          "yaxis": {
           "automargin": true,
           "gridcolor": "#283442",
           "linecolor": "#506784",
           "ticks": "",
           "title": {
            "standoff": 15
           },
           "zerolinecolor": "#283442",
           "zerolinewidth": 2
          }
         }
        },
        "title": {
         "font": {
          "size": 20
         },
         "text": "Monthly Sales Trends"
        },
        "xaxis": {
         "anchor": "y",
         "domain": [
          0,
          1
         ],
         "title": {
          "text": "Month"
         }
        },
        "yaxis": {
         "anchor": "x",
         "domain": [
          0,
          1
         ],
         "title": {
          "text": "Total Sales"
         }
        }
       }
      }
     },
     "metadata": {},
     "output_type": "display_data"
    }
   ],
   "source": [
    "monthly_sales = df.loc[:, 'sales_month_1':'sales_month_12'].sum().reset_index()\n",
    "monthly_sales.columns = ['month', 'total_sales']\n",
    "monthly_sales['month'] = monthly_sales['month'].apply(lambda x: x.split('_')[-1]).astype(int)\n",
    "\n",
    "# Create the line plot with the Plotly color palette\n",
    "fig = px.line(monthly_sales, x='month', y='total_sales', title='Monthly Sales Trends',\n",
    "              markers=True, line_shape='spline', color_discrete_sequence=px.colors.qualitative.Plotly)\n",
    "\n",
    "fig.update_layout(\n",
    "    title_font_size=20,\n",
    "    xaxis_title=\"Month\",\n",
    "    yaxis_title=\"Total Sales\",\n",
    "    template=\"plotly_dark\",\n",
    "    plot_bgcolor='rgba(0,0,0,0)'\n",
    ")\n",
    "\n",
    "fig.show()\n"
   ]
  },
  {
   "cell_type": "code",
   "execution_count": 24,
   "id": "951c34d9",
   "metadata": {},
   "outputs": [
    {
     "data": {
      "application/vnd.plotly.v1+json": {
       "config": {
        "plotlyServerURL": "https://plot.ly"
       },
       "data": [
        {
         "hovertemplate": "<b>%{hovertext}</b><br><br>category=Clothing<br>Summer Sales=%{x}<br>Winter Sales=%{y}<br>price=%{marker.size}<extra></extra>",
         "hovertext": [
          "Product_1",
          "Product_10",
          "Product_15",
          "Product_21",
          "Product_25",
          "Product_26",
          "Product_32",
          "Product_33",
          "Product_35",
          "Product_45",
          "Product_52",
          "Product_56",
          "Product_57",
          "Product_61",
          "Product_66",
          "Product_82",
          "Product_91",
          "Product_94",
          "Product_97",
          "Product_100",
          "Product_103",
          "Product_113",
          "Product_128",
          "Product_131",
          "Product_132",
          "Product_135",
          "Product_147",
          "Product_159",
          "Product_164",
          "Product_170",
          "Product_182",
          "Product_195",
          "Product_204",
          "Product_220",
          "Product_242",
          "Product_249",
          "Product_253",
          "Product_261",
          "Product_266",
          "Product_270",
          "Product_273",
          "Product_276",
          "Product_278",
          "Product_286",
          "Product_294",
          "Product_319",
          "Product_331",
          "Product_344",
          "Product_349",
          "Product_351",
          "Product_354",
          "Product_355",
          "Product_359",
          "Product_380",
          "Product_381",
          "Product_395",
          "Product_401",
          "Product_405",
          "Product_410",
          "Product_418",
          "Product_425",
          "Product_434",
          "Product_450",
          "Product_456",
          "Product_465",
          "Product_466",
          "Product_467",
          "Product_471",
          "Product_491",
          "Product_504",
          "Product_508",
          "Product_513",
          "Product_531",
          "Product_537",
          "Product_543",
          "Product_544",
          "Product_547",
          "Product_548",
          "Product_557",
          "Product_592",
          "Product_601",
          "Product_620",
          "Product_622",
          "Product_629",
          "Product_658",
          "Product_667",
          "Product_670",
          "Product_677",
          "Product_679",
          "Product_680",
          "Product_686",
          "Product_688",
          "Product_694",
          "Product_699",
          "Product_700",
          "Product_705",
          "Product_710",
          "Product_711",
          "Product_712",
          "Product_715",
          "Product_722",
          "Product_736",
          "Product_744",
          "Product_753",
          "Product_764",
          "Product_768",
          "Product_779",
          "Product_782",
          "Product_793",
          "Product_799",
          "Product_802",
          "Product_812",
          "Product_827",
          "Product_838",
          "Product_840",
          "Product_851",
          "Product_856",
          "Product_858",
          "Product_861",
          "Product_863",
          "Product_864",
          "Product_865",
          "Product_867",
          "Product_868",
          "Product_877",
          "Product_878",
          "Product_881",
          "Product_883",
          "Product_884",
          "Product_892",
          "Product_899",
          "Product_902",
          "Product_910",
          "Product_929",
          "Product_939",
          "Product_941",
          "Product_956",
          "Product_968",
          "Product_979",
          "Product_988"
         ],
         "legendgroup": "Clothing",
         "marker": {
          "color": "rgb(102, 197, 204)",
          "line": {
           "color": "black",
           "width": 2
          },
          "size": [
           190.4,
           355.5,
           95,
           307.87,
           230.75,
           393.66,
           89.41,
           37.2,
           482.99,
           133.1,
           388.69,
           461.33,
           48.8,
           197.4,
           273.63,
           313.53,
           64.2,
           282.83,
           263.75,
           58.41,
           160.61,
           465.2,
           431.06,
           211.62,
           114.94,
           471.74,
           306.73,
           122.63,
           270.21,
           297.49,
           61.17,
           172.82,
           449.78,
           425.37,
           477.19,
           481.99,
           426.31,
           309.43,
           371.68,
           150.33,
           434.2,
           253.25,
           326.73,
           22.79,
           183.29,
           82.44,
           181.21,
           219.76,
           190.43,
           254.05,
           85.65,
           39.93,
           470.41,
           144.52,
           63.49,
           173.7,
           56.05,
           163.42,
           50.19,
           167.69,
           33.49,
           55.06,
           46.33,
           248.85,
           481.28,
           190.56,
           146.43,
           11.02,
           230.55,
           407.83,
           412.16,
           466.7,
           407.39,
           425.58,
           118.18,
           337.49,
           61.21,
           337.43,
           71.34,
           322.23,
           88.62,
           375.39,
           108.63,
           23.16,
           184.73,
           126.75,
           146.12,
           60.46,
           484.89,
           433.43,
           280.6,
           143.59,
           124.99,
           81.41,
           243.16,
           36.37,
           342.34,
           381.31,
           299.84,
           177.69,
           94.71,
           439.21,
           253.85,
           315.72,
           373.25,
           439,
           361.42,
           273.65,
           255.41,
           349.84,
           80.51,
           420.25,
           176.44,
           184.38,
           317.97,
           38.2,
           99.39,
           238.67,
           388.89,
           264.57,
           223.18,
           203.38,
           81.84,
           95.05,
           359.41,
           331.17,
           119.38,
           14.76,
           56.53,
           428.57,
           11.44,
           18.13,
           192.95,
           318.57,
           63.29,
           140.66,
           194.65,
           152.08,
           250.7,
           220.24
          ],
          "sizemode": "area",
          "sizeref": 0.13885,
          "symbol": "circle"
         },
         "mode": "markers",
         "name": "Clothing",
         "orientation": "v",
         "showlegend": true,
         "type": "scatter",
         "x": [
          1953,
          1606,
          1511,
          2440,
          2658,
          1200,
          1854,
          2092,
          373,
          2066,
          1161,
          847,
          942,
          2338,
          1420,
          1388,
          2055,
          515,
          604,
          1469,
          1418,
          1311,
          1043,
          1544,
          1098,
          1643,
          1294,
          359,
          2204,
          328,
          955,
          861,
          1544,
          2549,
          1374,
          1148,
          1178,
          1258,
          1238,
          1624,
          941,
          1829,
          1803,
          2231,
          1222,
          1761,
          855,
          1743,
          1232,
          993,
          2367,
          2049,
          605,
          1509,
          1362,
          1223,
          1019,
          1251,
          1731,
          1188,
          816,
          2156,
          2185,
          1858,
          683,
          1458,
          1006,
          1284,
          1589,
          1821,
          1228,
          1938,
          1213,
          1690,
          1461,
          718,
          1437,
          1398,
          855,
          1500,
          2346,
          971,
          1756,
          2200,
          1211,
          1314,
          372,
          1302,
          1471,
          1058,
          2701,
          475,
          1427,
          625,
          1245,
          2484,
          1566,
          2380,
          1044,
          1682,
          2229,
          2120,
          1092,
          1561,
          891,
          1961,
          1315,
          1138,
          1565,
          1272,
          2008,
          583,
          723,
          1495,
          1252,
          742,
          1991,
          1708,
          1610,
          1050,
          1190,
          1303,
          2074,
          1725,
          1924,
          2371,
          2443,
          1666,
          1888,
          2319,
          1141,
          544,
          1272,
          1071,
          1665,
          1789,
          1618,
          2391,
          622,
          1027
         ],
         "xaxis": "x",
         "y": [
          0,
          0,
          0,
          0,
          0,
          0,
          0,
          0,
          0,
          0,
          0,
          0,
          0,
          0,
          0,
          0,
          0,
          0,
          0,
          0,
          0,
          0,
          0,
          0,
          0,
          0,
          0,
          0,
          0,
          0,
          0,
          0,
          0,
          0,
          0,
          0,
          0,
          0,
          0,
          0,
          0,
          0,
          0,
          0,
          0,
          0,
          0,
          0,
          0,
          0,
          0,
          0,
          0,
          0,
          0,
          0,
          0,
          0,
          0,
          0,
          0,
          0,
          0,
          0,
          0,
          0,
          0,
          0,
          0,
          0,
          0,
          0,
          0,
          0,
          0,
          0,
          0,
          0,
          0,
          0,
          0,
          0,
          0,
          0,
          0,
          0,
          0,
          0,
          0,
          0,
          0,
          0,
          0,
          0,
          0,
          0,
          0,
          0,
          0,
          0,
          0,
          0,
          0,
          0,
          0,
          0,
          0,
          0,
          0,
          0,
          0,
          0,
          0,
          0,
          0,
          0,
          0,
          0,
          0,
          0,
          0,
          0,
          0,
          0,
          0,
          0,
          0,
          0,
          0,
          0,
          0,
          0,
          0,
          0,
          0,
          0,
          0,
          0,
          0,
          0
         ],
         "yaxis": "y"
        },
        {
         "hovertemplate": "<b>%{hovertext}</b><br><br>category=Home & Kitchen<br>Summer Sales=%{x}<br>Winter Sales=%{y}<br>price=%{marker.size}<extra></extra>",
         "hovertext": [
          "Product_2",
          "Product_18",
          "Product_20",
          "Product_36",
          "Product_37",
          "Product_39",
          "Product_40",
          "Product_43",
          "Product_46",
          "Product_54",
          "Product_62",
          "Product_67",
          "Product_71",
          "Product_77",
          "Product_78",
          "Product_84",
          "Product_98",
          "Product_104",
          "Product_109",
          "Product_122",
          "Product_126",
          "Product_134",
          "Product_136",
          "Product_155",
          "Product_161",
          "Product_163",
          "Product_172",
          "Product_177",
          "Product_184",
          "Product_189",
          "Product_191",
          "Product_194",
          "Product_202",
          "Product_205",
          "Product_221",
          "Product_235",
          "Product_257",
          "Product_262",
          "Product_265",
          "Product_281",
          "Product_299",
          "Product_311",
          "Product_320",
          "Product_326",
          "Product_328",
          "Product_353",
          "Product_372",
          "Product_379",
          "Product_386",
          "Product_390",
          "Product_396",
          "Product_404",
          "Product_406",
          "Product_407",
          "Product_408",
          "Product_435",
          "Product_453",
          "Product_457",
          "Product_458",
          "Product_480",
          "Product_484",
          "Product_489",
          "Product_499",
          "Product_519",
          "Product_525",
          "Product_554",
          "Product_556",
          "Product_568",
          "Product_589",
          "Product_593",
          "Product_599",
          "Product_604",
          "Product_607",
          "Product_636",
          "Product_644",
          "Product_649",
          "Product_651",
          "Product_656",
          "Product_659",
          "Product_660",
          "Product_661",
          "Product_666",
          "Product_668",
          "Product_682",
          "Product_703",
          "Product_714",
          "Product_728",
          "Product_741",
          "Product_746",
          "Product_749",
          "Product_751",
          "Product_765",
          "Product_776",
          "Product_789",
          "Product_797",
          "Product_817",
          "Product_819",
          "Product_822",
          "Product_823",
          "Product_837",
          "Product_839",
          "Product_855",
          "Product_860",
          "Product_871",
          "Product_890",
          "Product_904",
          "Product_908",
          "Product_912",
          "Product_913",
          "Product_923",
          "Product_927",
          "Product_931",
          "Product_933",
          "Product_944",
          "Product_961",
          "Product_965",
          "Product_975",
          "Product_980",
          "Product_983",
          "Product_984",
          "Product_992",
          "Product_993",
          "Product_994",
          "Product_996",
          "Product_997"
         ],
         "legendgroup": "Home & Kitchen",
         "marker": {
          "color": "rgb(246, 207, 113)",
          "line": {
           "color": "black",
           "width": 2
          },
          "size": [
           475.6,
           264.75,
           149.16,
           405.16,
           155.78,
           343.7,
           222.88,
           22.02,
           332.95,
           447.94,
           139.32,
           74.76,
           387.26,
           386.78,
           41.65,
           36.46,
           216.63,
           256.74,
           118.26,
           448.57,
           216.42,
           172.12,
           164.99,
           492.9,
           187.05,
           318.6,
           13.21,
           347.01,
           439.28,
           267.18,
           51.09,
           318.39,
           46.65,
           305.18,
           330.52,
           101.65,
           468.4,
           495.08,
           439.3,
           445.55,
           313.33,
           222.29,
           128.87,
           370.26,
           307.8,
           331.05,
           14.02,
           408.16,
           402.72,
           404.38,
           465.72,
           414.1,
           448.28,
           197.65,
           10.36,
           46.63,
           214.99,
           10.62,
           236.99,
           263.93,
           315.64,
           475.45,
           487.33,
           493.7,
           419.97,
           282.66,
           204.72,
           221.55,
           68.38,
           95.03,
           100.18,
           48.91,
           107.14,
           226.47,
           167.11,
           395.64,
           48.03,
           68.15,
           324.73,
           287.54,
           181.27,
           80.67,
           84.54,
           132.66,
           171.62,
           208.86,
           398.66,
           234.03,
           450.29,
           453.7,
           62.86,
           21.6,
           79.21,
           233.69,
           466.4,
           297.68,
           32.11,
           7.29,
           170.08,
           457.85,
           292.39,
           106.54,
           37.53,
           189.79,
           125.37,
           293.61,
           174.2,
           137.69,
           313.95,
           447.8,
           138,
           73.98,
           492.28,
           415.72,
           45.99,
           147.9,
           20.44,
           300.44,
           57.77,
           42.19,
           348.87,
           139.71,
           297.16,
           50.33,
           459.07
          ],
          "sizemode": "area",
          "sizeref": 0.13885,
          "symbol": "circle"
         },
         "mode": "markers",
         "name": "Home & Kitchen",
         "orientation": "v",
         "showlegend": true,
         "type": "scatter",
         "x": [
          1174,
          968,
          1998,
          1908,
          1456,
          2210,
          1178,
          622,
          1312,
          1096,
          1025,
          574,
          2323,
          1337,
          1919,
          2458,
          1456,
          2066,
          1576,
          1440,
          1317,
          1501,
          489,
          592,
          2418,
          2458,
          1518,
          2074,
          1870,
          942,
          1397,
          2267,
          491,
          1544,
          2599,
          1303,
          1366,
          1392,
          2161,
          1326,
          1553,
          1019,
          2468,
          1297,
          590,
          1820,
          1468,
          2221,
          792,
          1584,
          1217,
          1118,
          1621,
          1019,
          1214,
          972,
          1638,
          1407,
          1751,
          1081,
          677,
          1772,
          1884,
          1198,
          1833,
          1136,
          1650,
          1811,
          1492,
          1596,
          2352,
          1667,
          1243,
          1626,
          2157,
          1646,
          1446,
          956,
          718,
          1080,
          2354,
          873,
          2056,
          1134,
          689,
          66,
          982,
          1848,
          2392,
          859,
          2406,
          2081,
          1868,
          1479,
          2087,
          2225,
          1522,
          1577,
          1211,
          976,
          2689,
          905,
          1267,
          1979,
          1780,
          1725,
          2106,
          1537,
          1858,
          1267,
          1161,
          1993,
          1742,
          2074,
          1495,
          1465,
          1132,
          1052,
          2137,
          1115,
          891,
          1575,
          1196,
          1407,
          1196
         ],
         "xaxis": "x",
         "y": [
          0,
          0,
          0,
          0,
          0,
          0,
          0,
          0,
          0,
          0,
          0,
          0,
          0,
          0,
          0,
          0,
          0,
          0,
          0,
          0,
          0,
          0,
          0,
          0,
          0,
          0,
          0,
          0,
          0,
          0,
          0,
          0,
          0,
          0,
          0,
          0,
          0,
          0,
          0,
          0,
          0,
          0,
          0,
          0,
          0,
          0,
          0,
          0,
          0,
          0,
          0,
          0,
          0,
          0,
          0,
          0,
          0,
          0,
          0,
          0,
          0,
          0,
          0,
          0,
          0,
          0,
          0,
          0,
          0,
          0,
          0,
          0,
          0,
          0,
          0,
          0,
          0,
          0,
          0,
          0,
          0,
          0,
          0,
          0,
          0,
          0,
          0,
          0,
          0,
          0,
          0,
          0,
          0,
          0,
          0,
          0,
          0,
          0,
          0,
          0,
          0,
          0,
          0,
          0,
          0,
          0,
          0,
          0,
          0,
          0,
          0,
          0,
          0,
          0,
          0,
          0,
          0,
          0,
          0,
          0,
          0,
          0,
          0,
          0,
          0
         ],
         "yaxis": "y"
        },
        {
         "hovertemplate": "<b>%{hovertext}</b><br><br>category=Toys<br>Summer Sales=%{x}<br>Winter Sales=%{y}<br>price=%{marker.size}<extra></extra>",
         "hovertext": [
          "Product_3",
          "Product_4",
          "Product_6",
          "Product_11",
          "Product_17",
          "Product_28",
          "Product_34",
          "Product_41",
          "Product_48",
          "Product_72",
          "Product_75",
          "Product_76",
          "Product_89",
          "Product_120",
          "Product_121",
          "Product_127",
          "Product_133",
          "Product_140",
          "Product_142",
          "Product_146",
          "Product_162",
          "Product_173",
          "Product_174",
          "Product_183",
          "Product_190",
          "Product_197",
          "Product_214",
          "Product_223",
          "Product_225",
          "Product_226",
          "Product_227",
          "Product_232",
          "Product_241",
          "Product_243",
          "Product_254",
          "Product_255",
          "Product_256",
          "Product_260",
          "Product_264",
          "Product_267",
          "Product_279",
          "Product_280",
          "Product_292",
          "Product_296",
          "Product_307",
          "Product_313",
          "Product_321",
          "Product_322",
          "Product_325",
          "Product_333",
          "Product_336",
          "Product_337",
          "Product_339",
          "Product_343",
          "Product_347",
          "Product_352",
          "Product_358",
          "Product_360",
          "Product_363",
          "Product_371",
          "Product_388",
          "Product_392",
          "Product_393",
          "Product_398",
          "Product_402",
          "Product_414",
          "Product_417",
          "Product_446",
          "Product_451",
          "Product_461",
          "Product_476",
          "Product_479",
          "Product_485",
          "Product_501",
          "Product_511",
          "Product_523",
          "Product_527",
          "Product_529",
          "Product_535",
          "Product_540",
          "Product_541",
          "Product_546",
          "Product_558",
          "Product_561",
          "Product_563",
          "Product_572",
          "Product_577",
          "Product_585",
          "Product_588",
          "Product_602",
          "Product_606",
          "Product_608",
          "Product_614",
          "Product_615",
          "Product_616",
          "Product_618",
          "Product_621",
          "Product_625",
          "Product_637",
          "Product_647",
          "Product_675",
          "Product_684",
          "Product_687",
          "Product_692",
          "Product_697",
          "Product_706",
          "Product_721",
          "Product_731",
          "Product_738",
          "Product_747",
          "Product_748",
          "Product_760",
          "Product_763",
          "Product_769",
          "Product_770",
          "Product_772",
          "Product_774",
          "Product_777",
          "Product_780",
          "Product_784",
          "Product_804",
          "Product_807",
          "Product_809",
          "Product_813",
          "Product_828",
          "Product_833",
          "Product_836",
          "Product_846",
          "Product_859",
          "Product_866",
          "Product_869",
          "Product_875",
          "Product_876",
          "Product_888",
          "Product_891",
          "Product_894",
          "Product_898",
          "Product_909",
          "Product_915",
          "Product_916",
          "Product_920",
          "Product_925",
          "Product_928",
          "Product_932",
          "Product_945",
          "Product_946",
          "Product_948",
          "Product_977",
          "Product_987",
          "Product_991",
          "Product_1000"
         ],
         "legendgroup": "Toys",
         "marker": {
          "color": "rgb(248, 156, 116)",
          "line": {
           "color": "black",
           "width": 2
          },
          "size": [
           367.34,
           301.34,
           82.22,
           15.19,
           155.6,
           259.55,
           474.7,
           65.41,
           262.43,
           103.36,
           354.89,
           365.86,
           444.17,
           271.97,
           404.68,
           409.92,
           64.33,
           486.03,
           129.63,
           23.26,
           317.99,
           258.49,
           117.12,
           462.72,
           124.72,
           364.35,
           116.01,
           51.37,
           136.28,
           125.77,
           486.64,
           253.81,
           470.53,
           457.86,
           161.88,
           88.9,
           280.62,
           53.1,
           261.57,
           350.02,
           352.47,
           398.92,
           23.49,
           263.51,
           260.57,
           17.55,
           276.87,
           358.72,
           477.66,
           12.12,
           25.16,
           428.45,
           239.72,
           90.73,
           319.37,
           428.96,
           294.96,
           289.86,
           231.84,
           54.89,
           92.83,
           209.25,
           189.15,
           217.35,
           451.76,
           288.85,
           150.14,
           473.89,
           389.69,
           63.18,
           496.52,
           484.8,
           294.24,
           350.59,
           308.64,
           485.11,
           210.34,
           32.91,
           385.65,
           68.93,
           477.26,
           182.29,
           19.25,
           353.52,
           72.5,
           392.91,
           77.8,
           318.53,
           68.8,
           142.9,
           233.09,
           185.31,
           45.47,
           437.42,
           460.83,
           142.05,
           96.34,
           311.04,
           268.65,
           298.83,
           208.15,
           335.98,
           287.95,
           215.59,
           147.87,
           495.03,
           469.48,
           86.31,
           409.22,
           195.03,
           274.06,
           395.36,
           128,
           174.33,
           411.52,
           423.99,
           201.66,
           118.48,
           322.37,
           176.12,
           305.32,
           467.51,
           228.17,
           66.71,
           176.74,
           74.72,
           212.37,
           210.24,
           284.6,
           282.02,
           431.58,
           17.57,
           82.3,
           122.9,
           362.52,
           201.61,
           448.69,
           133.41,
           278.26,
           220.88,
           74.36,
           215.48,
           273.11,
           418.29,
           107.18,
           10.44,
           450.51,
           299.56,
           345.76,
           400.71,
           225.77
          ],
          "sizemode": "area",
          "sizeref": 0.13885,
          "symbol": "circle"
         },
         "mode": "markers",
         "name": "Toys",
         "orientation": "v",
         "showlegend": true,
         "type": "scatter",
         "x": [
          1527,
          2024,
          1838,
          2204,
          637,
          1582,
          1678,
          2435,
          1377,
          1160,
          1994,
          2261,
          1166,
          2266,
          1052,
          1004,
          1212,
          1263,
          1616,
          2176,
          1567,
          703,
          1696,
          1321,
          2128,
          1311,
          1165,
          1535,
          1953,
          2142,
          1635,
          1665,
          1660,
          558,
          1104,
          532,
          250,
          1297,
          1930,
          2171,
          688,
          1879,
          1189,
          2215,
          1107,
          1592,
          1933,
          1319,
          1456,
          1228,
          1789,
          2035,
          2154,
          1969,
          1897,
          1811,
          1084,
          2166,
          1646,
          1531,
          1390,
          1132,
          1315,
          1731,
          1249,
          1468,
          1606,
          863,
          948,
          1483,
          1753,
          832,
          1110,
          1879,
          1221,
          2466,
          1471,
          1374,
          795,
          1347,
          1438,
          1619,
          2900,
          1543,
          1577,
          1129,
          2033,
          1593,
          1672,
          963,
          1185,
          1686,
          1568,
          1569,
          1552,
          940,
          1065,
          876,
          2626,
          1438,
          1682,
          1972,
          1764,
          722,
          1152,
          946,
          2144,
          2382,
          1256,
          1615,
          1558,
          1632,
          1480,
          1274,
          1899,
          1372,
          851,
          1682,
          2536,
          1882,
          1353,
          1121,
          2523,
          1393,
          2087,
          1930,
          1825,
          1316,
          1922,
          1170,
          1912,
          1911,
          1462,
          1282,
          1477,
          2102,
          1654,
          1370,
          1290,
          1554,
          1768,
          1106,
          1458,
          1848,
          1821,
          1324,
          1678,
          1782,
          1638,
          1879,
          1752
         ],
         "xaxis": "x",
         "y": [
          0,
          0,
          0,
          0,
          0,
          0,
          0,
          0,
          0,
          0,
          0,
          0,
          0,
          0,
          0,
          0,
          0,
          0,
          0,
          0,
          0,
          0,
          0,
          0,
          0,
          0,
          0,
          0,
          0,
          0,
          0,
          0,
          0,
          0,
          0,
          0,
          0,
          0,
          0,
          0,
          0,
          0,
          0,
          0,
          0,
          0,
          0,
          0,
          0,
          0,
          0,
          0,
          0,
          0,
          0,
          0,
          0,
          0,
          0,
          0,
          0,
          0,
          0,
          0,
          0,
          0,
          0,
          0,
          0,
          0,
          0,
          0,
          0,
          0,
          0,
          0,
          0,
          0,
          0,
          0,
          0,
          0,
          0,
          0,
          0,
          0,
          0,
          0,
          0,
          0,
          0,
          0,
          0,
          0,
          0,
          0,
          0,
          0,
          0,
          0,
          0,
          0,
          0,
          0,
          0,
          0,
          0,
          0,
          0,
          0,
          0,
          0,
          0,
          0,
          0,
          0,
          0,
          0,
          0,
          0,
          0,
          0,
          0,
          0,
          0,
          0,
          0,
          0,
          0,
          0,
          0,
          0,
          0,
          0,
          0,
          0,
          0,
          0,
          0,
          0,
          0,
          0,
          0,
          0,
          0,
          0,
          0,
          0,
          0,
          0,
          0
         ],
         "yaxis": "y"
        },
        {
         "hovertemplate": "<b>%{hovertext}</b><br><br>category=Books<br>Summer Sales=%{x}<br>Winter Sales=%{y}<br>price=%{marker.size}<extra></extra>",
         "hovertext": [
          "Product_5",
          "Product_14",
          "Product_16",
          "Product_19",
          "Product_22",
          "Product_23",
          "Product_29",
          "Product_30",
          "Product_42",
          "Product_55",
          "Product_59",
          "Product_68",
          "Product_70",
          "Product_74",
          "Product_83",
          "Product_85",
          "Product_93",
          "Product_96",
          "Product_99",
          "Product_106",
          "Product_107",
          "Product_108",
          "Product_111",
          "Product_119",
          "Product_129",
          "Product_130",
          "Product_139",
          "Product_141",
          "Product_144",
          "Product_149",
          "Product_152",
          "Product_153",
          "Product_154",
          "Product_158",
          "Product_160",
          "Product_165",
          "Product_169",
          "Product_176",
          "Product_185",
          "Product_187",
          "Product_188",
          "Product_196",
          "Product_201",
          "Product_206",
          "Product_216",
          "Product_219",
          "Product_238",
          "Product_247",
          "Product_251",
          "Product_252",
          "Product_271",
          "Product_272",
          "Product_274",
          "Product_282",
          "Product_284",
          "Product_289",
          "Product_295",
          "Product_302",
          "Product_305",
          "Product_306",
          "Product_309",
          "Product_327",
          "Product_342",
          "Product_345",
          "Product_350",
          "Product_367",
          "Product_374",
          "Product_384",
          "Product_391",
          "Product_399",
          "Product_424",
          "Product_428",
          "Product_431",
          "Product_432",
          "Product_437",
          "Product_439",
          "Product_448",
          "Product_454",
          "Product_455",
          "Product_462",
          "Product_477",
          "Product_481",
          "Product_498",
          "Product_500",
          "Product_502",
          "Product_510",
          "Product_514",
          "Product_516",
          "Product_517",
          "Product_530",
          "Product_532",
          "Product_542",
          "Product_551",
          "Product_571",
          "Product_578",
          "Product_581",
          "Product_582",
          "Product_583",
          "Product_587",
          "Product_595",
          "Product_596",
          "Product_600",
          "Product_609",
          "Product_611",
          "Product_613",
          "Product_619",
          "Product_624",
          "Product_634",
          "Product_662",
          "Product_664",
          "Product_665",
          "Product_671",
          "Product_678",
          "Product_685",
          "Product_693",
          "Product_701",
          "Product_708",
          "Product_709",
          "Product_733",
          "Product_739",
          "Product_754",
          "Product_775",
          "Product_778",
          "Product_786",
          "Product_787",
          "Product_792",
          "Product_795",
          "Product_810",
          "Product_814",
          "Product_821",
          "Product_825",
          "Product_842",
          "Product_845",
          "Product_847",
          "Product_850",
          "Product_853",
          "Product_862",
          "Product_882",
          "Product_885",
          "Product_887",
          "Product_889",
          "Product_897",
          "Product_907",
          "Product_917",
          "Product_921",
          "Product_926",
          "Product_952",
          "Product_953",
          "Product_955",
          "Product_957",
          "Product_962",
          "Product_964",
          "Product_972",
          "Product_985"
         ],
         "legendgroup": "Books",
         "marker": {
          "color": "rgb(220, 176, 242)",
          "line": {
           "color": "black",
           "width": 2
          },
          "size": [
           82.23,
           110.11,
           95.79,
           218.81,
           74.05,
           149.61,
           298.25,
           27.99,
           250.11,
           300.96,
           27.39,
           402.09,
           493.51,
           408.65,
           168.79,
           158.94,
           381.59,
           249.43,
           17.58,
           128.4,
           208.14,
           379,
           148.43,
           446.82,
           8.44,
           257.82,
           185,
           481.41,
           153.93,
           30.48,
           123.58,
           76.72,
           247.28,
           382,
           365.47,
           49.69,
           25.18,
           91.31,
           132.68,
           409.52,
           279.82,
           177.86,
           322.81,
           9.55,
           122.44,
           326.57,
           17.04,
           216.95,
           150.75,
           195.62,
           405.63,
           406.01,
           457.05,
           172.31,
           51.52,
           146.84,
           67.89,
           268.02,
           364.42,
           488.05,
           398.62,
           279.41,
           239.37,
           202.26,
           314.8,
           480.79,
           343.09,
           439.35,
           495.3,
           376.68,
           249.74,
           444.41,
           75.78,
           381.95,
           41.02,
           354.59,
           377.92,
           453.65,
           60.04,
           326.36,
           41.53,
           316.55,
           43.48,
           493.17,
           270.37,
           364.23,
           433.7,
           18.05,
           191.35,
           433.04,
           499.86,
           305.06,
           262.48,
           259.42,
           463.66,
           232.27,
           490.12,
           248.85,
           42.55,
           448.91,
           239.61,
           25.23,
           254.19,
           24.46,
           315.81,
           404.07,
           244.84,
           268.4,
           493.33,
           122.43,
           55.38,
           90.82,
           201.94,
           465.04,
           256.27,
           268.63,
           405.89,
           131.05,
           334.27,
           222.37,
           170.78,
           399.66,
           362.52,
           454.68,
           293.78,
           295.18,
           13.96,
           61.05,
           460.82,
           402.41,
           271.01,
           333.45,
           78.59,
           47.25,
           299.72,
           108.9,
           229.38,
           337.59,
           400.96,
           328.11,
           54.22,
           150.11,
           409.63,
           150.76,
           434.89,
           16.12,
           334.19,
           91.81,
           212.29,
           261.86,
           303.56,
           197.7,
           468.73,
           365.45
          ],
          "sizemode": "area",
          "sizeref": 0.13885,
          "symbol": "circle"
         },
         "mode": "markers",
         "name": "Books",
         "orientation": "v",
         "showlegend": true,
         "type": "scatter",
         "x": [
          962,
          1239,
          1807,
          826,
          1350,
          1076,
          1453,
          704,
          1226,
          1652,
          1632,
          1862,
          1753,
          1116,
          1605,
          1351,
          769,
          669,
          1371,
          2328,
          1757,
          1775,
          1465,
          2040,
          2102,
          559,
          1524,
          2042,
          1402,
          1689,
          2647,
          1804,
          1452,
          1207,
          1872,
          1183,
          1522,
          1731,
          2002,
          2033,
          1297,
          1659,
          1861,
          1932,
          1921,
          1144,
          988,
          1236,
          1850,
          412,
          1580,
          1263,
          1998,
          460,
          2357,
          1628,
          1118,
          1178,
          2019,
          1170,
          1284,
          1417,
          1634,
          2040,
          1484,
          1225,
          2123,
          1833,
          2413,
          2004,
          1770,
          913,
          1388,
          1356,
          2806,
          935,
          555,
          1824,
          1174,
          1431,
          1111,
          1550,
          1279,
          1261,
          2053,
          2150,
          1803,
          900,
          1295,
          2025,
          2377,
          1818,
          1815,
          2306,
          2013,
          2190,
          1112,
          1260,
          1267,
          1445,
          1999,
          563,
          1290,
          2763,
          1754,
          896,
          1435,
          2269,
          1328,
          794,
          1452,
          1048,
          1176,
          755,
          877,
          1191,
          887,
          1181,
          2254,
          1173,
          1674,
          1164,
          1418,
          716,
          1435,
          1867,
          2059,
          1237,
          434,
          1301,
          2084,
          1308,
          2088,
          1831,
          1723,
          2395,
          1017,
          1968,
          864,
          1804,
          1924,
          1477,
          857,
          2049,
          1863,
          1458,
          1268,
          2256,
          1347,
          1189,
          1977,
          1212,
          1410,
          1838
         ],
         "xaxis": "x",
         "y": [
          0,
          0,
          0,
          0,
          0,
          0,
          0,
          0,
          0,
          0,
          0,
          0,
          0,
          0,
          0,
          0,
          0,
          0,
          0,
          0,
          0,
          0,
          0,
          0,
          0,
          0,
          0,
          0,
          0,
          0,
          0,
          0,
          0,
          0,
          0,
          0,
          0,
          0,
          0,
          0,
          0,
          0,
          0,
          0,
          0,
          0,
          0,
          0,
          0,
          0,
          0,
          0,
          0,
          0,
          0,
          0,
          0,
          0,
          0,
          0,
          0,
          0,
          0,
          0,
          0,
          0,
          0,
          0,
          0,
          0,
          0,
          0,
          0,
          0,
          0,
          0,
          0,
          0,
          0,
          0,
          0,
          0,
          0,
          0,
          0,
          0,
          0,
          0,
          0,
          0,
          0,
          0,
          0,
          0,
          0,
          0,
          0,
          0,
          0,
          0,
          0,
          0,
          0,
          0,
          0,
          0,
          0,
          0,
          0,
          0,
          0,
          0,
          0,
          0,
          0,
          0,
          0,
          0,
          0,
          0,
          0,
          0,
          0,
          0,
          0,
          0,
          0,
          0,
          0,
          0,
          0,
          0,
          0,
          0,
          0,
          0,
          0,
          0,
          0,
          0,
          0,
          0,
          0,
          0,
          0,
          0,
          0,
          0,
          0,
          0,
          0,
          0,
          0,
          0
         ],
         "yaxis": "y"
        },
        {
         "hovertemplate": "<b>%{hovertext}</b><br><br>category=Electronics<br>Summer Sales=%{x}<br>Winter Sales=%{y}<br>price=%{marker.size}<extra></extra>",
         "hovertext": [
          "Product_7",
          "Product_8",
          "Product_9",
          "Product_13",
          "Product_27",
          "Product_69",
          "Product_80",
          "Product_92",
          "Product_95",
          "Product_102",
          "Product_110",
          "Product_112",
          "Product_116",
          "Product_117",
          "Product_138",
          "Product_143",
          "Product_145",
          "Product_150",
          "Product_156",
          "Product_157",
          "Product_166",
          "Product_171",
          "Product_186",
          "Product_192",
          "Product_199",
          "Product_209",
          "Product_218",
          "Product_224",
          "Product_229",
          "Product_230",
          "Product_244",
          "Product_268",
          "Product_277",
          "Product_293",
          "Product_303",
          "Product_304",
          "Product_324",
          "Product_340",
          "Product_341",
          "Product_348",
          "Product_357",
          "Product_361",
          "Product_365",
          "Product_366",
          "Product_376",
          "Product_416",
          "Product_419",
          "Product_420",
          "Product_421",
          "Product_429",
          "Product_440",
          "Product_442",
          "Product_444",
          "Product_449",
          "Product_463",
          "Product_474",
          "Product_475",
          "Product_478",
          "Product_482",
          "Product_486",
          "Product_487",
          "Product_490",
          "Product_495",
          "Product_512",
          "Product_518",
          "Product_533",
          "Product_555",
          "Product_559",
          "Product_560",
          "Product_562",
          "Product_564",
          "Product_570",
          "Product_574",
          "Product_579",
          "Product_580",
          "Product_590",
          "Product_591",
          "Product_603",
          "Product_605",
          "Product_617",
          "Product_626",
          "Product_627",
          "Product_631",
          "Product_632",
          "Product_633",
          "Product_635",
          "Product_639",
          "Product_642",
          "Product_643",
          "Product_645",
          "Product_646",
          "Product_653",
          "Product_669",
          "Product_683",
          "Product_690",
          "Product_695",
          "Product_702",
          "Product_720",
          "Product_742",
          "Product_745",
          "Product_758",
          "Product_759",
          "Product_766",
          "Product_771",
          "Product_785",
          "Product_788",
          "Product_803",
          "Product_805",
          "Product_808",
          "Product_818",
          "Product_831",
          "Product_834",
          "Product_843",
          "Product_844",
          "Product_854",
          "Product_874",
          "Product_880",
          "Product_886",
          "Product_895",
          "Product_896",
          "Product_900",
          "Product_906",
          "Product_911",
          "Product_914",
          "Product_924",
          "Product_934",
          "Product_935",
          "Product_937",
          "Product_940",
          "Product_942",
          "Product_947",
          "Product_949",
          "Product_950",
          "Product_958",
          "Product_967",
          "Product_976",
          "Product_989",
          "Product_990"
         ],
         "legendgroup": "Electronics",
         "marker": {
          "color": "rgb(135, 197, 95)",
          "line": {
           "color": "black",
           "width": 2
          },
          "size": [
           33.75,
           433.76,
           302.55,
           417.06,
           103.84,
           41.9,
           62.36,
           358.06,
           386.63,
           320.02,
           43.11,
           84.8,
           436.37,
           402.82,
           352.99,
           251.14,
           146,
           142.93,
           124.82,
           337.71,
           418.47,
           340.39,
           331.69,
           449.12,
           444.11,
           7.51,
           374.51,
           187.02,
           446.56,
           317.41,
           188.23,
           352.73,
           400.16,
           412.19,
           272.61,
           320.53,
           143.57,
           53.43,
           248.35,
           27.43,
           18.12,
           197.14,
           471.03,
           196.12,
           162.89,
           226.98,
           337.9,
           377.43,
           396.83,
           178.7,
           45.27,
           493.39,
           188.47,
           191.25,
           374.29,
           446.12,
           266.21,
           279.16,
           349.4,
           451.07,
           27.5,
           445.68,
           234.53,
           212.03,
           406.22,
           498.34,
           438.94,
           378.79,
           312.05,
           110.42,
           12.2,
           177.39,
           312.93,
           248.6,
           132.83,
           80.19,
           73.72,
           92.62,
           64.71,
           35.23,
           187.61,
           233.95,
           358.11,
           448.13,
           258.28,
           58.05,
           138.28,
           164.43,
           109.67,
           64.28,
           445.81,
           295.49,
           97.35,
           89.59,
           97.59,
           61.84,
           30.65,
           366.78,
           154.18,
           119.95,
           269.06,
           447.48,
           287.1,
           59.76,
           94.89,
           203.42,
           290.26,
           214.94,
           463.16,
           202.51,
           116.18,
           92.31,
           93.13,
           480.73,
           449.54,
           207.32,
           114.88,
           93.38,
           335.7,
           106.47,
           47.33,
           446.87,
           297.2,
           207.66,
           400.93,
           265.22,
           89.98,
           14.1,
           290.38,
           279.32,
           72.76,
           437.58,
           300.72,
           28.25,
           360.93,
           134.82,
           126.97,
           410.46
          ],
          "sizemode": "area",
          "sizeref": 0.13885,
          "symbol": "circle"
         },
         "mode": "markers",
         "name": "Electronics",
         "orientation": "v",
         "showlegend": true,
         "type": "scatter",
         "x": [
          2561,
          937,
          1119,
          1344,
          931,
          1543,
          1929,
          1353,
          1274,
          1497,
          1516,
          530,
          1693,
          2292,
          1668,
          1723,
          2191,
          1616,
          1595,
          2138,
          2157,
          922,
          1320,
          984,
          881,
          2775,
          1259,
          2246,
          1964,
          2189,
          1782,
          645,
          1347,
          1598,
          1262,
          496,
          1426,
          996,
          2221,
          1551,
          1297,
          743,
          1669,
          1305,
          1916,
          838,
          1787,
          898,
          2309,
          1520,
          1609,
          986,
          2156,
          783,
          585,
          736,
          2424,
          924,
          2074,
          1246,
          1578,
          1120,
          1452,
          1372,
          1468,
          1366,
          1410,
          1017,
          1479,
          1551,
          1805,
          2451,
          1807,
          1555,
          1617,
          263,
          1966,
          1456,
          1534,
          786,
          2057,
          1067,
          2482,
          1213,
          1771,
          625,
          1544,
          2274,
          1616,
          1599,
          1472,
          1589,
          2227,
          962,
          1104,
          1603,
          1204,
          1504,
          860,
          1567,
          990,
          1537,
          2183,
          1100,
          1442,
          1219,
          1575,
          1493,
          827,
          1305,
          1626,
          1619,
          990,
          1093,
          2414,
          2089,
          2021,
          1637,
          1700,
          1394,
          1011,
          1337,
          1671,
          1974,
          2277,
          1618,
          1492,
          1499,
          1488,
          2403,
          1034,
          1841,
          1203,
          2195,
          1086,
          1563,
          1856,
          1566
         ],
         "xaxis": "x",
         "y": [
          0,
          0,
          0,
          0,
          0,
          0,
          0,
          0,
          0,
          0,
          0,
          0,
          0,
          0,
          0,
          0,
          0,
          0,
          0,
          0,
          0,
          0,
          0,
          0,
          0,
          0,
          0,
          0,
          0,
          0,
          0,
          0,
          0,
          0,
          0,
          0,
          0,
          0,
          0,
          0,
          0,
          0,
          0,
          0,
          0,
          0,
          0,
          0,
          0,
          0,
          0,
          0,
          0,
          0,
          0,
          0,
          0,
          0,
          0,
          0,
          0,
          0,
          0,
          0,
          0,
          0,
          0,
          0,
          0,
          0,
          0,
          0,
          0,
          0,
          0,
          0,
          0,
          0,
          0,
          0,
          0,
          0,
          0,
          0,
          0,
          0,
          0,
          0,
          0,
          0,
          0,
          0,
          0,
          0,
          0,
          0,
          0,
          0,
          0,
          0,
          0,
          0,
          0,
          0,
          0,
          0,
          0,
          0,
          0,
          0,
          0,
          0,
          0,
          0,
          0,
          0,
          0,
          0,
          0,
          0,
          0,
          0,
          0,
          0,
          0,
          0,
          0,
          0,
          0,
          0,
          0,
          0,
          0,
          0,
          0,
          0,
          0,
          0
         ],
         "yaxis": "y"
        },
        {
         "hovertemplate": "<b>%{hovertext}</b><br><br>category=Health<br>Summer Sales=%{x}<br>Winter Sales=%{y}<br>price=%{marker.size}<extra></extra>",
         "hovertext": [
          "Product_12",
          "Product_31",
          "Product_49",
          "Product_50",
          "Product_51",
          "Product_58",
          "Product_60",
          "Product_63",
          "Product_64",
          "Product_65",
          "Product_73",
          "Product_79",
          "Product_88",
          "Product_90",
          "Product_105",
          "Product_123",
          "Product_137",
          "Product_148",
          "Product_167",
          "Product_175",
          "Product_178",
          "Product_181",
          "Product_193",
          "Product_208",
          "Product_211",
          "Product_212",
          "Product_217",
          "Product_231",
          "Product_233",
          "Product_234",
          "Product_239",
          "Product_248",
          "Product_258",
          "Product_259",
          "Product_263",
          "Product_275",
          "Product_285",
          "Product_297",
          "Product_298",
          "Product_308",
          "Product_310",
          "Product_312",
          "Product_316",
          "Product_332",
          "Product_334",
          "Product_335",
          "Product_364",
          "Product_370",
          "Product_373",
          "Product_378",
          "Product_389",
          "Product_394",
          "Product_397",
          "Product_400",
          "Product_403",
          "Product_409",
          "Product_411",
          "Product_412",
          "Product_413",
          "Product_423",
          "Product_430",
          "Product_436",
          "Product_438",
          "Product_441",
          "Product_445",
          "Product_447",
          "Product_468",
          "Product_473",
          "Product_483",
          "Product_492",
          "Product_496",
          "Product_503",
          "Product_506",
          "Product_515",
          "Product_522",
          "Product_524",
          "Product_528",
          "Product_536",
          "Product_538",
          "Product_549",
          "Product_552",
          "Product_553",
          "Product_565",
          "Product_569",
          "Product_573",
          "Product_586",
          "Product_594",
          "Product_597",
          "Product_610",
          "Product_612",
          "Product_623",
          "Product_628",
          "Product_638",
          "Product_657",
          "Product_663",
          "Product_674",
          "Product_676",
          "Product_713",
          "Product_718",
          "Product_719",
          "Product_724",
          "Product_727",
          "Product_729",
          "Product_730",
          "Product_732",
          "Product_734",
          "Product_740",
          "Product_743",
          "Product_752",
          "Product_755",
          "Product_756",
          "Product_757",
          "Product_761",
          "Product_767",
          "Product_783",
          "Product_790",
          "Product_796",
          "Product_798",
          "Product_800",
          "Product_811",
          "Product_815",
          "Product_816",
          "Product_824",
          "Product_826",
          "Product_832",
          "Product_841",
          "Product_848",
          "Product_857",
          "Product_872",
          "Product_879",
          "Product_893",
          "Product_918",
          "Product_930",
          "Product_936",
          "Product_951",
          "Product_954",
          "Product_969",
          "Product_970",
          "Product_971"
         ],
         "legendgroup": "Health",
         "marker": {
          "color": "rgb(158, 185, 243)",
          "line": {
           "color": "black",
           "width": 2
          },
          "size": [
           485.11,
           305.73,
           275.62,
           96.5,
           484.94,
           102.01,
           166.04,
           415.23,
           181.59,
           144.06,
           7.73,
           182.44,
           320.59,
           238.75,
           454.25,
           162.41,
           261.8,
           253.83,
           163.79,
           324.36,
           196.43,
           173.83,
           450.71,
           333.43,
           276.62,
           347.49,
           166.07,
           398.43,
           290.57,
           248.8,
           324.51,
           483.49,
           349.53,
           287.18,
           74.34,
           258.11,
           291.25,
           386.15,
           111.83,
           164.86,
           139.06,
           43.84,
           349.51,
           380.13,
           62.46,
           27.77,
           275.08,
           39.33,
           51.75,
           16.52,
           376.55,
           389.32,
           429.91,
           378.5,
           255.1,
           453.16,
           163.06,
           475.28,
           475.55,
           50.15,
           62.95,
           351.98,
           411.82,
           46.99,
           407.34,
           493.07,
           434.96,
           26.36,
           230,
           311.97,
           179.91,
           158.22,
           85.5,
           27.38,
           193.54,
           421.85,
           140.34,
           472.66,
           127.44,
           262.55,
           426.83,
           278.19,
           178.54,
           452.56,
           201.29,
           123.87,
           176.11,
           335.44,
           346.75,
           400.71,
           188.38,
           375,
           125.02,
           145.47,
           304.86,
           264.63,
           491.28,
           238.43,
           482.69,
           66.53,
           371.85,
           74.19,
           104.81,
           86.01,
           408.21,
           263.92,
           191.59,
           375.07,
           470.22,
           73.94,
           398.04,
           311.94,
           80.08,
           382.42,
           129.64,
           473.91,
           436.7,
           284.74,
           461.64,
           492.5,
           435.6,
           261.82,
           202.09,
           460.33,
           228.96,
           11.48,
           498.45,
           23.09,
           139.02,
           18.41,
           415.96,
           474.48,
           132.65,
           139.79,
           302.26,
           457.63,
           285.37,
           240.64,
           333.52
          ],
          "sizemode": "area",
          "sizeref": 0.13885,
          "symbol": "circle"
         },
         "mode": "markers",
         "name": "Health",
         "orientation": "v",
         "showlegend": true,
         "type": "scatter",
         "x": [
          1436,
          1141,
          1065,
          1397,
          1713,
          1112,
          1439,
          2310,
          1063,
          1584,
          1700,
          1215,
          1977,
          1423,
          1656,
          1011,
          2464,
          1176,
          1504,
          991,
          1290,
          1185,
          1763,
          680,
          1311,
          1272,
          2251,
          1801,
          1056,
          1739,
          2411,
          1072,
          1152,
          1734,
          1683,
          1332,
          1307,
          1961,
          1510,
          1827,
          1512,
          572,
          2190,
          997,
          1025,
          1777,
          1098,
          2135,
          1593,
          837,
          2042,
          1578,
          1053,
          733,
          938,
          1060,
          1596,
          2642,
          1680,
          2086,
          1709,
          1684,
          1271,
          1312,
          2153,
          1080,
          1663,
          1934,
          1639,
          1276,
          1352,
          1277,
          1000,
          1083,
          1123,
          726,
          1119,
          1413,
          2169,
          1632,
          1211,
          1322,
          1601,
          1164,
          1916,
          1913,
          1443,
          1287,
          1337,
          2246,
          1857,
          2022,
          1542,
          1433,
          1689,
          2349,
          1614,
          611,
          1752,
          1812,
          1931,
          1283,
          1224,
          1731,
          1024,
          1798,
          1598,
          1796,
          1288,
          1667,
          1052,
          1964,
          1300,
          1242,
          888,
          2298,
          726,
          1068,
          1731,
          1831,
          528,
          1575,
          970,
          1278,
          1431,
          2085,
          1543,
          2033,
          1928,
          1007,
          1219,
          2104,
          2178,
          1820,
          1490,
          1363,
          1298,
          2183,
          1241
         ],
         "xaxis": "x",
         "y": [
          0,
          0,
          0,
          0,
          0,
          0,
          0,
          0,
          0,
          0,
          0,
          0,
          0,
          0,
          0,
          0,
          0,
          0,
          0,
          0,
          0,
          0,
          0,
          0,
          0,
          0,
          0,
          0,
          0,
          0,
          0,
          0,
          0,
          0,
          0,
          0,
          0,
          0,
          0,
          0,
          0,
          0,
          0,
          0,
          0,
          0,
          0,
          0,
          0,
          0,
          0,
          0,
          0,
          0,
          0,
          0,
          0,
          0,
          0,
          0,
          0,
          0,
          0,
          0,
          0,
          0,
          0,
          0,
          0,
          0,
          0,
          0,
          0,
          0,
          0,
          0,
          0,
          0,
          0,
          0,
          0,
          0,
          0,
          0,
          0,
          0,
          0,
          0,
          0,
          0,
          0,
          0,
          0,
          0,
          0,
          0,
          0,
          0,
          0,
          0,
          0,
          0,
          0,
          0,
          0,
          0,
          0,
          0,
          0,
          0,
          0,
          0,
          0,
          0,
          0,
          0,
          0,
          0,
          0,
          0,
          0,
          0,
          0,
          0,
          0,
          0,
          0,
          0,
          0,
          0,
          0,
          0,
          0,
          0,
          0,
          0,
          0,
          0,
          0
         ],
         "yaxis": "y"
        },
        {
         "hovertemplate": "<b>%{hovertext}</b><br><br>category=Sports<br>Summer Sales=%{x}<br>Winter Sales=%{y}<br>price=%{marker.size}<extra></extra>",
         "hovertext": [
          "Product_24",
          "Product_38",
          "Product_44",
          "Product_47",
          "Product_53",
          "Product_81",
          "Product_86",
          "Product_87",
          "Product_101",
          "Product_114",
          "Product_115",
          "Product_118",
          "Product_124",
          "Product_125",
          "Product_151",
          "Product_168",
          "Product_179",
          "Product_180",
          "Product_198",
          "Product_200",
          "Product_203",
          "Product_207",
          "Product_210",
          "Product_213",
          "Product_215",
          "Product_222",
          "Product_228",
          "Product_236",
          "Product_237",
          "Product_240",
          "Product_245",
          "Product_246",
          "Product_250",
          "Product_269",
          "Product_283",
          "Product_287",
          "Product_288",
          "Product_290",
          "Product_291",
          "Product_300",
          "Product_301",
          "Product_314",
          "Product_315",
          "Product_317",
          "Product_318",
          "Product_323",
          "Product_329",
          "Product_330",
          "Product_338",
          "Product_346",
          "Product_356",
          "Product_362",
          "Product_368",
          "Product_369",
          "Product_375",
          "Product_377",
          "Product_382",
          "Product_383",
          "Product_385",
          "Product_387",
          "Product_415",
          "Product_422",
          "Product_426",
          "Product_427",
          "Product_433",
          "Product_443",
          "Product_452",
          "Product_459",
          "Product_460",
          "Product_464",
          "Product_469",
          "Product_470",
          "Product_472",
          "Product_488",
          "Product_493",
          "Product_494",
          "Product_497",
          "Product_505",
          "Product_507",
          "Product_509",
          "Product_520",
          "Product_521",
          "Product_526",
          "Product_534",
          "Product_539",
          "Product_545",
          "Product_550",
          "Product_566",
          "Product_567",
          "Product_575",
          "Product_576",
          "Product_584",
          "Product_598",
          "Product_630",
          "Product_640",
          "Product_641",
          "Product_648",
          "Product_650",
          "Product_652",
          "Product_654",
          "Product_655",
          "Product_672",
          "Product_673",
          "Product_681",
          "Product_689",
          "Product_691",
          "Product_696",
          "Product_698",
          "Product_704",
          "Product_707",
          "Product_716",
          "Product_717",
          "Product_723",
          "Product_725",
          "Product_726",
          "Product_735",
          "Product_737",
          "Product_750",
          "Product_762",
          "Product_773",
          "Product_781",
          "Product_791",
          "Product_794",
          "Product_801",
          "Product_806",
          "Product_820",
          "Product_829",
          "Product_830",
          "Product_835",
          "Product_849",
          "Product_852",
          "Product_870",
          "Product_873",
          "Product_901",
          "Product_903",
          "Product_905",
          "Product_919",
          "Product_922",
          "Product_938",
          "Product_943",
          "Product_959",
          "Product_960",
          "Product_963",
          "Product_966",
          "Product_973",
          "Product_974",
          "Product_978",
          "Product_981",
          "Product_982",
          "Product_986",
          "Product_995",
          "Product_998",
          "Product_999"
         ],
         "legendgroup": "Sports",
         "marker": {
          "color": "rgb(254, 136, 177)",
          "line": {
           "color": "black",
           "width": 2
          },
          "size": [
           186.35,
           53.35,
           455.11,
           159.3,
           470.05,
           432.24,
           165.97,
           366.16,
           20.56,
           405.02,
           318.53,
           97.35,
           59.48,
           117.83,
           454.59,
           97.33,
           468.68,
           73.07,
           449.07,
           391.04,
           85.01,
           55.23,
           84.6,
           327.72,
           357.53,
           286.31,
           199.58,
           362.61,
           143.98,
           92.67,
           12.65,
           464.52,
           427.24,
           182.95,
           190.91,
           235.47,
           273.61,
           297.46,
           20.1,
           47.25,
           30.58,
           481.51,
           418.81,
           207.43,
           90.78,
           331.8,
           212.7,
           127.63,
           353.31,
           309.85,
           323,
           323.43,
           453.15,
           101.92,
           40.24,
           423.21,
           349.88,
           316.33,
           368.86,
           144.61,
           317.76,
           395.86,
           277.02,
           223.56,
           311.02,
           190.26,
           281.41,
           32.87,
           63.81,
           293.77,
           115.68,
           481.8,
           485.09,
           144.08,
           142.3,
           98.12,
           293.91,
           343.94,
           455.91,
           475.15,
           79.46,
           299.09,
           237,
           279.94,
           228.02,
           310.97,
           387.3,
           297.01,
           199.16,
           431.87,
           475.01,
           167.73,
           90.3,
           129.96,
           191.76,
           14.94,
           341.16,
           251.73,
           270.87,
           373.99,
           218.67,
           448.9,
           44.72,
           409.45,
           385.9,
           165.22,
           307.26,
           292.71,
           71.54,
           164.57,
           465.12,
           416.16,
           37.92,
           289.36,
           421.71,
           182.62,
           199.26,
           314,
           159.3,
           68.11,
           348.5,
           80.91,
           307.67,
           355.08,
           369.54,
           170.92,
           370.06,
           228.85,
           251.69,
           253.59,
           376.23,
           473.33,
           323.78,
           107.9,
           94.81,
           213.61,
           382.98,
           246.28,
           457.58,
           327.45,
           87.31,
           370.33,
           126.45,
           181.06,
           367.62,
           111.4,
           30.46,
           170.45,
           386.6,
           250.27,
           183.68,
           72.73,
           475.37
          ],
          "sizemode": "area",
          "sizeref": 0.13885,
          "symbol": "circle"
         },
         "mode": "markers",
         "name": "Sports",
         "orientation": "v",
         "showlegend": true,
         "type": "scatter",
         "x": [
          1678,
          2080,
          1684,
          432,
          2520,
          1615,
          2190,
          1255,
          1638,
          1990,
          1125,
          1343,
          1522,
          1719,
          581,
          2360,
          356,
          2354,
          1590,
          1579,
          2195,
          2272,
          1823,
          1173,
          1400,
          750,
          2216,
          1316,
          1661,
          1375,
          1378,
          631,
          1406,
          1673,
          1279,
          1777,
          1967,
          1818,
          1730,
          1847,
          1195,
          1418,
          1773,
          1808,
          877,
          1071,
          961,
          2214,
          1023,
          1682,
          1047,
          2095,
          732,
          1806,
          550,
          1623,
          1318,
          1107,
          1474,
          1843,
          1546,
          1239,
          1678,
          1217,
          1669,
          1202,
          1432,
          1362,
          1143,
          2140,
          2012,
          1854,
          1396,
          1856,
          1260,
          2266,
          2238,
          1728,
          1090,
          601,
          1144,
          2189,
          1471,
          1763,
          888,
          1504,
          2006,
          1454,
          661,
          1456,
          1253,
          1311,
          1728,
          1151,
          2316,
          1564,
          1898,
          1882,
          1797,
          909,
          1169,
          1001,
          1999,
          1553,
          1461,
          1570,
          416,
          1829,
          1896,
          1694,
          1644,
          1617,
          1048,
          1765,
          731,
          1130,
          964,
          2413,
          1791,
          1685,
          1063,
          1872,
          1237,
          1286,
          1680,
          900,
          1244,
          1434,
          1914,
          2387,
          1467,
          1324,
          1865,
          923,
          941,
          2094,
          1565,
          1223,
          655,
          1311,
          2137,
          1692,
          1417,
          629,
          734,
          892,
          1383,
          1636,
          494,
          1912,
          1157,
          1477,
          1125
         ],
         "xaxis": "x",
         "y": [
          0,
          0,
          0,
          0,
          0,
          0,
          0,
          0,
          0,
          0,
          0,
          0,
          0,
          0,
          0,
          0,
          0,
          0,
          0,
          0,
          0,
          0,
          0,
          0,
          0,
          0,
          0,
          0,
          0,
          0,
          0,
          0,
          0,
          0,
          0,
          0,
          0,
          0,
          0,
          0,
          0,
          0,
          0,
          0,
          0,
          0,
          0,
          0,
          0,
          0,
          0,
          0,
          0,
          0,
          0,
          0,
          0,
          0,
          0,
          0,
          0,
          0,
          0,
          0,
          0,
          0,
          0,
          0,
          0,
          0,
          0,
          0,
          0,
          0,
          0,
          0,
          0,
          0,
          0,
          0,
          0,
          0,
          0,
          0,
          0,
          0,
          0,
          0,
          0,
          0,
          0,
          0,
          0,
          0,
          0,
          0,
          0,
          0,
          0,
          0,
          0,
          0,
          0,
          0,
          0,
          0,
          0,
          0,
          0,
          0,
          0,
          0,
          0,
          0,
          0,
          0,
          0,
          0,
          0,
          0,
          0,
          0,
          0,
          0,
          0,
          0,
          0,
          0,
          0,
          0,
          0,
          0,
          0,
          0,
          0,
          0,
          0,
          0,
          0,
          0,
          0,
          0,
          0,
          0,
          0,
          0,
          0,
          0,
          0,
          0,
          0,
          0,
          0
         ],
         "yaxis": "y"
        }
       ],
       "layout": {
        "font": {
         "color": "white",
         "family": "Arial",
         "size": 16
        },
        "legend": {
         "itemsizing": "constant",
         "title": {
          "text": "category"
         },
         "tracegroupgap": 0
        },
        "margin": {
         "b": 100,
         "l": 50,
         "pad": 4,
         "r": 50,
         "t": 100
        },
        "plot_bgcolor": "rgba(0,0,0,0)",
        "template": {
         "data": {
          "bar": [
           {
            "error_x": {
             "color": "#f2f5fa"
            },
            "error_y": {
             "color": "#f2f5fa"
            },
            "marker": {
             "line": {
              "color": "rgb(17,17,17)",
              "width": 0.5
             },
             "pattern": {
              "fillmode": "overlay",
              "size": 10,
              "solidity": 0.2
             }
            },
            "type": "bar"
           }
          ],
          "barpolar": [
           {
            "marker": {
             "line": {
              "color": "rgb(17,17,17)",
              "width": 0.5
             },
             "pattern": {
              "fillmode": "overlay",
              "size": 10,
              "solidity": 0.2
             }
            },
            "type": "barpolar"
           }
          ],
          "carpet": [
           {
            "aaxis": {
             "endlinecolor": "#A2B1C6",
             "gridcolor": "#506784",
             "linecolor": "#506784",
             "minorgridcolor": "#506784",
             "startlinecolor": "#A2B1C6"
            },
            "baxis": {
             "endlinecolor": "#A2B1C6",
             "gridcolor": "#506784",
             "linecolor": "#506784",
             "minorgridcolor": "#506784",
             "startlinecolor": "#A2B1C6"
            },
            "type": "carpet"
           }
          ],
          "choropleth": [
           {
            "colorbar": {
             "outlinewidth": 0,
             "ticks": ""
            },
            "type": "choropleth"
           }
          ],
          "contour": [
           {
            "colorbar": {
             "outlinewidth": 0,
             "ticks": ""
            },
            "colorscale": [
             [
              0,
              "#0d0887"
             ],
             [
              0.1111111111111111,
              "#46039f"
             ],
             [
              0.2222222222222222,
              "#7201a8"
             ],
             [
              0.3333333333333333,
              "#9c179e"
             ],
             [
              0.4444444444444444,
              "#bd3786"
             ],
             [
              0.5555555555555556,
              "#d8576b"
             ],
             [
              0.6666666666666666,
              "#ed7953"
             ],
             [
              0.7777777777777778,
              "#fb9f3a"
             ],
             [
              0.8888888888888888,
              "#fdca26"
             ],
             [
              1,
              "#f0f921"
             ]
            ],
            "type": "contour"
           }
          ],
          "contourcarpet": [
           {
            "colorbar": {
             "outlinewidth": 0,
             "ticks": ""
            },
            "type": "contourcarpet"
           }
          ],
          "heatmap": [
           {
            "colorbar": {
             "outlinewidth": 0,
             "ticks": ""
            },
            "colorscale": [
             [
              0,
              "#0d0887"
             ],
             [
              0.1111111111111111,
              "#46039f"
             ],
             [
              0.2222222222222222,
              "#7201a8"
             ],
             [
              0.3333333333333333,
              "#9c179e"
             ],
             [
              0.4444444444444444,
              "#bd3786"
             ],
             [
              0.5555555555555556,
              "#d8576b"
             ],
             [
              0.6666666666666666,
              "#ed7953"
             ],
             [
              0.7777777777777778,
              "#fb9f3a"
             ],
             [
              0.8888888888888888,
              "#fdca26"
             ],
             [
              1,
              "#f0f921"
             ]
            ],
            "type": "heatmap"
           }
          ],
          "heatmapgl": [
           {
            "colorbar": {
             "outlinewidth": 0,
             "ticks": ""
            },
            "colorscale": [
             [
              0,
              "#0d0887"
             ],
             [
              0.1111111111111111,
              "#46039f"
             ],
             [
              0.2222222222222222,
              "#7201a8"
             ],
             [
              0.3333333333333333,
              "#9c179e"
             ],
             [
              0.4444444444444444,
              "#bd3786"
             ],
             [
              0.5555555555555556,
              "#d8576b"
             ],
             [
              0.6666666666666666,
              "#ed7953"
             ],
             [
              0.7777777777777778,
              "#fb9f3a"
             ],
             [
              0.8888888888888888,
              "#fdca26"
             ],
             [
              1,
              "#f0f921"
             ]
            ],
            "type": "heatmapgl"
           }
          ],
          "histogram": [
           {
            "marker": {
             "pattern": {
              "fillmode": "overlay",
              "size": 10,
              "solidity": 0.2
             }
            },
            "type": "histogram"
           }
          ],
          "histogram2d": [
           {
            "colorbar": {
             "outlinewidth": 0,
             "ticks": ""
            },
            "colorscale": [
             [
              0,
              "#0d0887"
             ],
             [
              0.1111111111111111,
              "#46039f"
             ],
             [
              0.2222222222222222,
              "#7201a8"
             ],
             [
              0.3333333333333333,
              "#9c179e"
             ],
             [
              0.4444444444444444,
              "#bd3786"
             ],
             [
              0.5555555555555556,
              "#d8576b"
             ],
             [
              0.6666666666666666,
              "#ed7953"
             ],
             [
              0.7777777777777778,
              "#fb9f3a"
             ],
             [
              0.8888888888888888,
              "#fdca26"
             ],
             [
              1,
              "#f0f921"
             ]
            ],
            "type": "histogram2d"
           }
          ],
          "histogram2dcontour": [
           {
            "colorbar": {
             "outlinewidth": 0,
             "ticks": ""
            },
            "colorscale": [
             [
              0,
              "#0d0887"
             ],
             [
              0.1111111111111111,
              "#46039f"
             ],
             [
              0.2222222222222222,
              "#7201a8"
             ],
             [
              0.3333333333333333,
              "#9c179e"
             ],
             [
              0.4444444444444444,
              "#bd3786"
             ],
             [
              0.5555555555555556,
              "#d8576b"
             ],
             [
              0.6666666666666666,
              "#ed7953"
             ],
             [
              0.7777777777777778,
              "#fb9f3a"
             ],
             [
              0.8888888888888888,
              "#fdca26"
             ],
             [
              1,
              "#f0f921"
             ]
            ],
            "type": "histogram2dcontour"
           }
          ],
          "mesh3d": [
           {
            "colorbar": {
             "outlinewidth": 0,
             "ticks": ""
            },
            "type": "mesh3d"
           }
          ],
          "parcoords": [
           {
            "line": {
             "colorbar": {
              "outlinewidth": 0,
              "ticks": ""
             }
            },
            "type": "parcoords"
           }
          ],
          "pie": [
           {
            "automargin": true,
            "type": "pie"
           }
          ],
          "scatter": [
           {
            "marker": {
             "line": {
              "color": "#283442"
             }
            },
            "type": "scatter"
           }
          ],
          "scatter3d": [
           {
            "line": {
             "colorbar": {
              "outlinewidth": 0,
              "ticks": ""
             }
            },
            "marker": {
             "colorbar": {
              "outlinewidth": 0,
              "ticks": ""
             }
            },
            "type": "scatter3d"
           }
          ],
          "scattercarpet": [
           {
            "marker": {
             "colorbar": {
              "outlinewidth": 0,
              "ticks": ""
             }
            },
            "type": "scattercarpet"
           }
          ],
          "scattergeo": [
           {
            "marker": {
             "colorbar": {
              "outlinewidth": 0,
              "ticks": ""
             }
            },
            "type": "scattergeo"
           }
          ],
          "scattergl": [
           {
            "marker": {
             "line": {
              "color": "#283442"
             }
            },
            "type": "scattergl"
           }
          ],
          "scattermapbox": [
           {
            "marker": {
             "colorbar": {
              "outlinewidth": 0,
              "ticks": ""
             }
            },
            "type": "scattermapbox"
           }
          ],
          "scatterpolar": [
           {
            "marker": {
             "colorbar": {
              "outlinewidth": 0,
              "ticks": ""
             }
            },
            "type": "scatterpolar"
           }
          ],
          "scatterpolargl": [
           {
            "marker": {
             "colorbar": {
              "outlinewidth": 0,
              "ticks": ""
             }
            },
            "type": "scatterpolargl"
           }
          ],
          "scatterternary": [
           {
            "marker": {
             "colorbar": {
              "outlinewidth": 0,
              "ticks": ""
             }
            },
            "type": "scatterternary"
           }
          ],
          "surface": [
           {
            "colorbar": {
             "outlinewidth": 0,
             "ticks": ""
            },
            "colorscale": [
             [
              0,
              "#0d0887"
             ],
             [
              0.1111111111111111,
              "#46039f"
             ],
             [
              0.2222222222222222,
              "#7201a8"
             ],
             [
              0.3333333333333333,
              "#9c179e"
             ],
             [
              0.4444444444444444,
              "#bd3786"
             ],
             [
              0.5555555555555556,
              "#d8576b"
             ],
             [
              0.6666666666666666,
              "#ed7953"
             ],
             [
              0.7777777777777778,
              "#fb9f3a"
             ],
             [
              0.8888888888888888,
              "#fdca26"
             ],
             [
              1,
              "#f0f921"
             ]
            ],
            "type": "surface"
           }
          ],
          "table": [
           {
            "cells": {
             "fill": {
              "color": "#506784"
             },
             "line": {
              "color": "rgb(17,17,17)"
             }
            },
            "header": {
             "fill": {
              "color": "#2a3f5f"
             },
             "line": {
              "color": "rgb(17,17,17)"
             }
            },
            "type": "table"
           }
          ]
         },
         "layout": {
          "annotationdefaults": {
           "arrowcolor": "#f2f5fa",
           "arrowhead": 0,
           "arrowwidth": 1
          },
          "autotypenumbers": "strict",
          "coloraxis": {
           "colorbar": {
            "outlinewidth": 0,
            "ticks": ""
           }
          },
          "colorscale": {
           "diverging": [
            [
             0,
             "#8e0152"
            ],
            [
             0.1,
             "#c51b7d"
            ],
            [
             0.2,
             "#de77ae"
            ],
            [
             0.3,
             "#f1b6da"
            ],
            [
             0.4,
             "#fde0ef"
            ],
            [
             0.5,
             "#f7f7f7"
            ],
            [
             0.6,
             "#e6f5d0"
            ],
            [
             0.7,
             "#b8e186"
            ],
            [
             0.8,
             "#7fbc41"
            ],
            [
             0.9,
             "#4d9221"
            ],
            [
             1,
             "#276419"
            ]
           ],
           "sequential": [
            [
             0,
             "#0d0887"
            ],
            [
             0.1111111111111111,
             "#46039f"
            ],
            [
             0.2222222222222222,
             "#7201a8"
            ],
            [
             0.3333333333333333,
             "#9c179e"
            ],
            [
             0.4444444444444444,
             "#bd3786"
            ],
            [
             0.5555555555555556,
             "#d8576b"
            ],
            [
             0.6666666666666666,
             "#ed7953"
            ],
            [
             0.7777777777777778,
             "#fb9f3a"
            ],
            [
             0.8888888888888888,
             "#fdca26"
            ],
            [
             1,
             "#f0f921"
            ]
           ],
           "sequentialminus": [
            [
             0,
             "#0d0887"
            ],
            [
             0.1111111111111111,
             "#46039f"
            ],
            [
             0.2222222222222222,
             "#7201a8"
            ],
            [
             0.3333333333333333,
             "#9c179e"
            ],
            [
             0.4444444444444444,
             "#bd3786"
            ],
            [
             0.5555555555555556,
             "#d8576b"
            ],
            [
             0.6666666666666666,
             "#ed7953"
            ],
            [
             0.7777777777777778,
             "#fb9f3a"
            ],
            [
             0.8888888888888888,
             "#fdca26"
            ],
            [
             1,
             "#f0f921"
            ]
           ]
          },
          "colorway": [
           "#636efa",
           "#EF553B",
           "#00cc96",
           "#ab63fa",
           "#FFA15A",
           "#19d3f3",
           "#FF6692",
           "#B6E880",
           "#FF97FF",
           "#FECB52"
          ],
          "font": {
           "color": "#f2f5fa"
          },
          "geo": {
           "bgcolor": "rgb(17,17,17)",
           "lakecolor": "rgb(17,17,17)",
           "landcolor": "rgb(17,17,17)",
           "showlakes": true,
           "showland": true,
           "subunitcolor": "#506784"
          },
          "hoverlabel": {
           "align": "left"
          },
          "hovermode": "closest",
          "mapbox": {
           "style": "dark"
          },
          "paper_bgcolor": "rgb(17,17,17)",
          "plot_bgcolor": "rgb(17,17,17)",
          "polar": {
           "angularaxis": {
            "gridcolor": "#506784",
            "linecolor": "#506784",
            "ticks": ""
           },
           "bgcolor": "rgb(17,17,17)",
           "radialaxis": {
            "gridcolor": "#506784",
            "linecolor": "#506784",
            "ticks": ""
           }
          },
          "scene": {
           "xaxis": {
            "backgroundcolor": "rgb(17,17,17)",
            "gridcolor": "#506784",
            "gridwidth": 2,
            "linecolor": "#506784",
            "showbackground": true,
            "ticks": "",
            "zerolinecolor": "#C8D4E3"
           },
           "yaxis": {
            "backgroundcolor": "rgb(17,17,17)",
            "gridcolor": "#506784",
            "gridwidth": 2,
            "linecolor": "#506784",
            "showbackground": true,
            "ticks": "",
            "zerolinecolor": "#C8D4E3"
           },
           "zaxis": {
            "backgroundcolor": "rgb(17,17,17)",
            "gridcolor": "#506784",
            "gridwidth": 2,
            "linecolor": "#506784",
            "showbackground": true,
            "ticks": "",
            "zerolinecolor": "#C8D4E3"
           }
          },
          "shapedefaults": {
           "line": {
            "color": "#f2f5fa"
           }
          },
          "sliderdefaults": {
           "bgcolor": "#C8D4E3",
           "bordercolor": "rgb(17,17,17)",
           "borderwidth": 1,
           "tickwidth": 0
          },
          "ternary": {
           "aaxis": {
            "gridcolor": "#506784",
            "linecolor": "#506784",
            "ticks": ""
           },
           "baxis": {
            "gridcolor": "#506784",
            "linecolor": "#506784",
            "ticks": ""
           },
           "bgcolor": "rgb(17,17,17)",
           "caxis": {
            "gridcolor": "#506784",
            "linecolor": "#506784",
            "ticks": ""
           }
          },
          "title": {
           "x": 0.05
          },
          "updatemenudefaults": {
           "bgcolor": "#506784",
           "borderwidth": 0
          },
          "xaxis": {
           "automargin": true,
           "gridcolor": "#283442",
           "linecolor": "#506784",
           "ticks": "",
           "title": {
            "standoff": 15
           },
           "zerolinecolor": "#283442",
           "zerolinewidth": 2
          },
          "yaxis": {
           "automargin": true,
           "gridcolor": "#283442",
           "linecolor": "#506784",
           "ticks": "",
           "title": {
            "standoff": 15
           },
           "zerolinecolor": "#283442",
           "zerolinewidth": 2
          }
         }
        },
        "title": {
         "font": {
          "size": 24
         },
         "text": "Summer vs. Winter Sales"
        },
        "xaxis": {
         "anchor": "y",
         "domain": [
          0,
          1
         ],
         "linecolor": "white",
         "linewidth": 2,
         "showgrid": false,
         "title": {
          "text": "Summer Sales"
         }
        },
        "yaxis": {
         "anchor": "x",
         "domain": [
          0,
          1
         ],
         "linecolor": "white",
         "linewidth": 2,
         "showgrid": false,
         "title": {
          "text": "Winter Sales"
         }
        }
       }
      }
     },
     "metadata": {},
     "output_type": "display_data"
    },
    {
     "data": {
      "text/html": [
       "<div>\n",
       "<style scoped>\n",
       "    .dataframe tbody tr th:only-of-type {\n",
       "        vertical-align: middle;\n",
       "    }\n",
       "\n",
       "    .dataframe tbody tr th {\n",
       "        vertical-align: top;\n",
       "    }\n",
       "\n",
       "    .dataframe thead th {\n",
       "        text-align: right;\n",
       "    }\n",
       "</style>\n",
       "<table border=\"1\" class=\"dataframe\">\n",
       "  <thead>\n",
       "    <tr style=\"text-align: right;\">\n",
       "      <th></th>\n",
       "      <th>product_name</th>\n",
       "      <th>summer_sales</th>\n",
       "      <th>winter_sales</th>\n",
       "    </tr>\n",
       "  </thead>\n",
       "  <tbody>\n",
       "    <tr>\n",
       "      <th>557</th>\n",
       "      <td>Product_558</td>\n",
       "      <td>2900</td>\n",
       "      <td>0.0</td>\n",
       "    </tr>\n",
       "  </tbody>\n",
       "</table>\n",
       "</div>"
      ],
      "text/plain": [
       "    product_name  summer_sales  winter_sales\n",
       "557  Product_558          2900           0.0"
      ]
     },
     "execution_count": 24,
     "metadata": {},
     "output_type": "execute_result"
    }
   ],
   "source": [
    "# Define summer and winter months\n",
    "summer_sales = df.loc[:, 'sales_month_6':'sales_month_8'].sum(axis=1)\n",
    "winter_sales = df.loc[:, 'sales_month_12':'sales_month_2'].sum(axis=1)\n",
    "\n",
    "# Add summer and winter sales to DataFrame\n",
    "df['summer_sales'] = summer_sales\n",
    "df['winter_sales'] = winter_sales\n",
    "\n",
    "# Create a bubble plot for summer vs. winter sales with an upgraded color palette\n",
    "fig = px.scatter(df, x='summer_sales', y='winter_sales', size='price',\n",
    "                 color='category', hover_name='product_name',\n",
    "                 title='Summer vs. Winter Sales',\n",
    "                 labels={'summer_sales': 'Summer Sales', 'winter_sales': 'Winter Sales'},\n",
    "                 color_discrete_sequence=px.colors.qualitative.Pastel,  # Beautiful pastel color palette\n",
    "                 size_max=60)\n",
    "\n",
    "fig.update_layout(\n",
    "    title_font_size=24,\n",
    "    xaxis_title=\"Summer Sales\",\n",
    "    yaxis_title=\"Winter Sales\",\n",
    "    template=\"plotly_dark\",\n",
    "    plot_bgcolor='rgba(0,0,0,0)',\n",
    "    xaxis=dict(showgrid=False, linecolor='white', linewidth=2),\n",
    "    yaxis=dict(showgrid=False, linecolor='white', linewidth=2),\n",
    "    font=dict(family=\"Arial\", size=16, color=\"white\"),\n",
    "    margin=dict(l=50, r=50, b=100, t=100, pad=4)\n",
    ")\n",
    "fig.update_traces(marker=dict(line=dict(width=2, color='black')))\n",
    "\n",
    "fig.show()\n",
    "\n",
    "# Find the products with the highest sales in both seasons\n",
    "highest_summer_winter_sales_product = df[\n",
    "    (df['summer_sales'] == df['summer_sales'].max()) & \n",
    "    (df['winter_sales'] == df['winter_sales'].max())\n",
    "]\n",
    "\n",
    "highest_summer_winter_sales_product[['product_name', 'summer_sales', 'winter_sales']]"
   ]
  },
  {
   "cell_type": "code",
   "execution_count": 25,
   "id": "34e88823",
   "metadata": {},
   "outputs": [
    {
     "data": {
      "application/vnd.plotly.v1+json": {
       "config": {
        "plotlyServerURL": "https://plot.ly"
       },
       "data": [
        {
         "alignmentgroup": "True",
         "hovertemplate": "Product Name=%{x}<br>Price=%{marker.color}<extra></extra>",
         "legendgroup": "",
         "marker": {
          "color": [
           499.86,
           498.45,
           498.34,
           496.52,
           495.3,
           495.08,
           495.03,
           493.7,
           493.51,
           493.39
          ],
          "coloraxis": "coloraxis",
          "line": {
           "color": "black",
           "width": 2
          },
          "opacity": 0.9,
          "pattern": {
           "shape": ""
          }
         },
         "name": "",
         "offsetgroup": "",
         "orientation": "v",
         "showlegend": false,
         "text": [
          499.86,
          498.45,
          498.34,
          496.52,
          495.3,
          495.08,
          495.03,
          493.7,
          493.51,
          493.39
         ],
         "textfont": {
          "size": 15
         },
         "textposition": "outside",
         "texttemplate": "%{text:.2s}",
         "type": "bar",
         "x": [
          "Product_532",
          "Product_848",
          "Product_533",
          "Product_476",
          "Product_391",
          "Product_262",
          "Product_706",
          "Product_519",
          "Product_70",
          "Product_442"
         ],
         "xaxis": "x",
         "y": [
          499.86,
          498.45,
          498.34,
          496.52,
          495.3,
          495.08,
          495.03,
          493.7,
          493.51,
          493.39
         ],
         "yaxis": "y"
        }
       ],
       "layout": {
        "barmode": "relative",
        "coloraxis": {
         "colorbar": {
          "title": {
           "text": "Price"
          }
         },
         "colorscale": [
          [
           0,
           "rgb(150,0,90)"
          ],
          [
           0.125,
           "rgb(0,0,200)"
          ],
          [
           0.25,
           "rgb(0,25,255)"
          ],
          [
           0.375,
           "rgb(0,152,255)"
          ],
          [
           0.5,
           "rgb(44,255,150)"
          ],
          [
           0.625,
           "rgb(151,255,0)"
          ],
          [
           0.75,
           "rgb(255,234,0)"
          ],
          [
           0.875,
           "rgb(255,111,0)"
          ],
          [
           1,
           "rgb(255,0,0)"
          ]
         ]
        },
        "font": {
         "color": "white",
         "family": "Arial",
         "size": 15
        },
        "legend": {
         "tracegroupgap": 0
        },
        "margin": {
         "b": 100,
         "l": 50,
         "pad": 4,
         "r": 50,
         "t": 100
        },
        "paper_bgcolor": "rgba(0,0,0,0)",
        "plot_bgcolor": "rgba(0,0,0,0)",
        "template": {
         "data": {
          "bar": [
           {
            "error_x": {
             "color": "#f2f5fa"
            },
            "error_y": {
             "color": "#f2f5fa"
            },
            "marker": {
             "line": {
              "color": "rgb(17,17,17)",
              "width": 0.5
             },
             "pattern": {
              "fillmode": "overlay",
              "size": 10,
              "solidity": 0.2
             }
            },
            "type": "bar"
           }
          ],
          "barpolar": [
           {
            "marker": {
             "line": {
              "color": "rgb(17,17,17)",
              "width": 0.5
             },
             "pattern": {
              "fillmode": "overlay",
              "size": 10,
              "solidity": 0.2
             }
            },
            "type": "barpolar"
           }
          ],
          "carpet": [
           {
            "aaxis": {
             "endlinecolor": "#A2B1C6",
             "gridcolor": "#506784",
             "linecolor": "#506784",
             "minorgridcolor": "#506784",
             "startlinecolor": "#A2B1C6"
            },
            "baxis": {
             "endlinecolor": "#A2B1C6",
             "gridcolor": "#506784",
             "linecolor": "#506784",
             "minorgridcolor": "#506784",
             "startlinecolor": "#A2B1C6"
            },
            "type": "carpet"
           }
          ],
          "choropleth": [
           {
            "colorbar": {
             "outlinewidth": 0,
             "ticks": ""
            },
            "type": "choropleth"
           }
          ],
          "contour": [
           {
            "colorbar": {
             "outlinewidth": 0,
             "ticks": ""
            },
            "colorscale": [
             [
              0,
              "#0d0887"
             ],
             [
              0.1111111111111111,
              "#46039f"
             ],
             [
              0.2222222222222222,
              "#7201a8"
             ],
             [
              0.3333333333333333,
              "#9c179e"
             ],
             [
              0.4444444444444444,
              "#bd3786"
             ],
             [
              0.5555555555555556,
              "#d8576b"
             ],
             [
              0.6666666666666666,
              "#ed7953"
             ],
             [
              0.7777777777777778,
              "#fb9f3a"
             ],
             [
              0.8888888888888888,
              "#fdca26"
             ],
             [
              1,
              "#f0f921"
             ]
            ],
            "type": "contour"
           }
          ],
          "contourcarpet": [
           {
            "colorbar": {
             "outlinewidth": 0,
             "ticks": ""
            },
            "type": "contourcarpet"
           }
          ],
          "heatmap": [
           {
            "colorbar": {
             "outlinewidth": 0,
             "ticks": ""
            },
            "colorscale": [
             [
              0,
              "#0d0887"
             ],
             [
              0.1111111111111111,
              "#46039f"
             ],
             [
              0.2222222222222222,
              "#7201a8"
             ],
             [
              0.3333333333333333,
              "#9c179e"
             ],
             [
              0.4444444444444444,
              "#bd3786"
             ],
             [
              0.5555555555555556,
              "#d8576b"
             ],
             [
              0.6666666666666666,
              "#ed7953"
             ],
             [
              0.7777777777777778,
              "#fb9f3a"
             ],
             [
              0.8888888888888888,
              "#fdca26"
             ],
             [
              1,
              "#f0f921"
             ]
            ],
            "type": "heatmap"
           }
          ],
          "heatmapgl": [
           {
            "colorbar": {
             "outlinewidth": 0,
             "ticks": ""
            },
            "colorscale": [
             [
              0,
              "#0d0887"
             ],
             [
              0.1111111111111111,
              "#46039f"
             ],
             [
              0.2222222222222222,
              "#7201a8"
             ],
             [
              0.3333333333333333,
              "#9c179e"
             ],
             [
              0.4444444444444444,
              "#bd3786"
             ],
             [
              0.5555555555555556,
              "#d8576b"
             ],
             [
              0.6666666666666666,
              "#ed7953"
             ],
             [
              0.7777777777777778,
              "#fb9f3a"
             ],
             [
              0.8888888888888888,
              "#fdca26"
             ],
             [
              1,
              "#f0f921"
             ]
            ],
            "type": "heatmapgl"
           }
          ],
          "histogram": [
           {
            "marker": {
             "pattern": {
              "fillmode": "overlay",
              "size": 10,
              "solidity": 0.2
             }
            },
            "type": "histogram"
           }
          ],
          "histogram2d": [
           {
            "colorbar": {
             "outlinewidth": 0,
             "ticks": ""
            },
            "colorscale": [
             [
              0,
              "#0d0887"
             ],
             [
              0.1111111111111111,
              "#46039f"
             ],
             [
              0.2222222222222222,
              "#7201a8"
             ],
             [
              0.3333333333333333,
              "#9c179e"
             ],
             [
              0.4444444444444444,
              "#bd3786"
             ],
             [
              0.5555555555555556,
              "#d8576b"
             ],
             [
              0.6666666666666666,
              "#ed7953"
             ],
             [
              0.7777777777777778,
              "#fb9f3a"
             ],
             [
              0.8888888888888888,
              "#fdca26"
             ],
             [
              1,
              "#f0f921"
             ]
            ],
            "type": "histogram2d"
           }
          ],
          "histogram2dcontour": [
           {
            "colorbar": {
             "outlinewidth": 0,
             "ticks": ""
            },
            "colorscale": [
             [
              0,
              "#0d0887"
             ],
             [
              0.1111111111111111,
              "#46039f"
             ],
             [
              0.2222222222222222,
              "#7201a8"
             ],
             [
              0.3333333333333333,
              "#9c179e"
             ],
             [
              0.4444444444444444,
              "#bd3786"
             ],
             [
              0.5555555555555556,
              "#d8576b"
             ],
             [
              0.6666666666666666,
              "#ed7953"
             ],
             [
              0.7777777777777778,
              "#fb9f3a"
             ],
             [
              0.8888888888888888,
              "#fdca26"
             ],
             [
              1,
              "#f0f921"
             ]
            ],
            "type": "histogram2dcontour"
           }
          ],
          "mesh3d": [
           {
            "colorbar": {
             "outlinewidth": 0,
             "ticks": ""
            },
            "type": "mesh3d"
           }
          ],
          "parcoords": [
           {
            "line": {
             "colorbar": {
              "outlinewidth": 0,
              "ticks": ""
             }
            },
            "type": "parcoords"
           }
          ],
          "pie": [
           {
            "automargin": true,
            "type": "pie"
           }
          ],
          "scatter": [
           {
            "marker": {
             "line": {
              "color": "#283442"
             }
            },
            "type": "scatter"
           }
          ],
          "scatter3d": [
           {
            "line": {
             "colorbar": {
              "outlinewidth": 0,
              "ticks": ""
             }
            },
            "marker": {
             "colorbar": {
              "outlinewidth": 0,
              "ticks": ""
             }
            },
            "type": "scatter3d"
           }
          ],
          "scattercarpet": [
           {
            "marker": {
             "colorbar": {
              "outlinewidth": 0,
              "ticks": ""
             }
            },
            "type": "scattercarpet"
           }
          ],
          "scattergeo": [
           {
            "marker": {
             "colorbar": {
              "outlinewidth": 0,
              "ticks": ""
             }
            },
            "type": "scattergeo"
           }
          ],
          "scattergl": [
           {
            "marker": {
             "line": {
              "color": "#283442"
             }
            },
            "type": "scattergl"
           }
          ],
          "scattermapbox": [
           {
            "marker": {
             "colorbar": {
              "outlinewidth": 0,
              "ticks": ""
             }
            },
            "type": "scattermapbox"
           }
          ],
          "scatterpolar": [
           {
            "marker": {
             "colorbar": {
              "outlinewidth": 0,
              "ticks": ""
             }
            },
            "type": "scatterpolar"
           }
          ],
          "scatterpolargl": [
           {
            "marker": {
             "colorbar": {
              "outlinewidth": 0,
              "ticks": ""
             }
            },
            "type": "scatterpolargl"
           }
          ],
          "scatterternary": [
           {
            "marker": {
             "colorbar": {
              "outlinewidth": 0,
              "ticks": ""
             }
            },
            "type": "scatterternary"
           }
          ],
          "surface": [
           {
            "colorbar": {
             "outlinewidth": 0,
             "ticks": ""
            },
            "colorscale": [
             [
              0,
              "#0d0887"
             ],
             [
              0.1111111111111111,
              "#46039f"
             ],
             [
              0.2222222222222222,
              "#7201a8"
             ],
             [
              0.3333333333333333,
              "#9c179e"
             ],
             [
              0.4444444444444444,
              "#bd3786"
             ],
             [
              0.5555555555555556,
              "#d8576b"
             ],
             [
              0.6666666666666666,
              "#ed7953"
             ],
             [
              0.7777777777777778,
              "#fb9f3a"
             ],
             [
              0.8888888888888888,
              "#fdca26"
             ],
             [
              1,
              "#f0f921"
             ]
            ],
            "type": "surface"
           }
          ],
          "table": [
           {
            "cells": {
             "fill": {
              "color": "#506784"
             },
             "line": {
              "color": "rgb(17,17,17)"
             }
            },
            "header": {
             "fill": {
              "color": "#2a3f5f"
             },
             "line": {
              "color": "rgb(17,17,17)"
             }
            },
            "type": "table"
           }
          ]
         },
         "layout": {
          "annotationdefaults": {
           "arrowcolor": "#f2f5fa",
           "arrowhead": 0,
           "arrowwidth": 1
          },
          "autotypenumbers": "strict",
          "coloraxis": {
           "colorbar": {
            "outlinewidth": 0,
            "ticks": ""
           }
          },
          "colorscale": {
           "diverging": [
            [
             0,
             "#8e0152"
            ],
            [
             0.1,
             "#c51b7d"
            ],
            [
             0.2,
             "#de77ae"
            ],
            [
             0.3,
             "#f1b6da"
            ],
            [
             0.4,
             "#fde0ef"
            ],
            [
             0.5,
             "#f7f7f7"
            ],
            [
             0.6,
             "#e6f5d0"
            ],
            [
             0.7,
             "#b8e186"
            ],
            [
             0.8,
             "#7fbc41"
            ],
            [
             0.9,
             "#4d9221"
            ],
            [
             1,
             "#276419"
            ]
           ],
           "sequential": [
            [
             0,
             "#0d0887"
            ],
            [
             0.1111111111111111,
             "#46039f"
            ],
            [
             0.2222222222222222,
             "#7201a8"
            ],
            [
             0.3333333333333333,
             "#9c179e"
            ],
            [
             0.4444444444444444,
             "#bd3786"
            ],
            [
             0.5555555555555556,
             "#d8576b"
            ],
            [
             0.6666666666666666,
             "#ed7953"
            ],
            [
             0.7777777777777778,
             "#fb9f3a"
            ],
            [
             0.8888888888888888,
             "#fdca26"
            ],
            [
             1,
             "#f0f921"
            ]
           ],
           "sequentialminus": [
            [
             0,
             "#0d0887"
            ],
            [
             0.1111111111111111,
             "#46039f"
            ],
            [
             0.2222222222222222,
             "#7201a8"
            ],
            [
             0.3333333333333333,
             "#9c179e"
            ],
            [
             0.4444444444444444,
             "#bd3786"
            ],
            [
             0.5555555555555556,
             "#d8576b"
            ],
            [
             0.6666666666666666,
             "#ed7953"
            ],
            [
             0.7777777777777778,
             "#fb9f3a"
            ],
            [
             0.8888888888888888,
             "#fdca26"
            ],
            [
             1,
             "#f0f921"
            ]
           ]
          },
          "colorway": [
           "#636efa",
           "#EF553B",
           "#00cc96",
           "#ab63fa",
           "#FFA15A",
           "#19d3f3",
           "#FF6692",
           "#B6E880",
           "#FF97FF",
           "#FECB52"
          ],
          "font": {
           "color": "#f2f5fa"
          },
          "geo": {
           "bgcolor": "rgb(17,17,17)",
           "lakecolor": "rgb(17,17,17)",
           "landcolor": "rgb(17,17,17)",
           "showlakes": true,
           "showland": true,
           "subunitcolor": "#506784"
          },
          "hoverlabel": {
           "align": "left"
          },
          "hovermode": "closest",
          "mapbox": {
           "style": "dark"
          },
          "paper_bgcolor": "rgb(17,17,17)",
          "plot_bgcolor": "rgb(17,17,17)",
          "polar": {
           "angularaxis": {
            "gridcolor": "#506784",
            "linecolor": "#506784",
            "ticks": ""
           },
           "bgcolor": "rgb(17,17,17)",
           "radialaxis": {
            "gridcolor": "#506784",
            "linecolor": "#506784",
            "ticks": ""
           }
          },
          "scene": {
           "xaxis": {
            "backgroundcolor": "rgb(17,17,17)",
            "gridcolor": "#506784",
            "gridwidth": 2,
            "linecolor": "#506784",
            "showbackground": true,
            "ticks": "",
            "zerolinecolor": "#C8D4E3"
           },
           "yaxis": {
            "backgroundcolor": "rgb(17,17,17)",
            "gridcolor": "#506784",
            "gridwidth": 2,
            "linecolor": "#506784",
            "showbackground": true,
            "ticks": "",
            "zerolinecolor": "#C8D4E3"
           },
           "zaxis": {
            "backgroundcolor": "rgb(17,17,17)",
            "gridcolor": "#506784",
            "gridwidth": 2,
            "linecolor": "#506784",
            "showbackground": true,
            "ticks": "",
            "zerolinecolor": "#C8D4E3"
           }
          },
          "shapedefaults": {
           "line": {
            "color": "#f2f5fa"
           }
          },
          "sliderdefaults": {
           "bgcolor": "#C8D4E3",
           "bordercolor": "rgb(17,17,17)",
           "borderwidth": 1,
           "tickwidth": 0
          },
          "ternary": {
           "aaxis": {
            "gridcolor": "#506784",
            "linecolor": "#506784",
            "ticks": ""
           },
           "baxis": {
            "gridcolor": "#506784",
            "linecolor": "#506784",
            "ticks": ""
           },
           "bgcolor": "rgb(17,17,17)",
           "caxis": {
            "gridcolor": "#506784",
            "linecolor": "#506784",
            "ticks": ""
           }
          },
          "title": {
           "x": 0.05
          },
          "updatemenudefaults": {
           "bgcolor": "#506784",
           "borderwidth": 0
          },
          "xaxis": {
           "automargin": true,
           "gridcolor": "#283442",
           "linecolor": "#506784",
           "ticks": "",
           "title": {
            "standoff": 15
           },
           "zerolinecolor": "#283442",
           "zerolinewidth": 2
          },
          "yaxis": {
           "automargin": true,
           "gridcolor": "#283442",
           "linecolor": "#506784",
           "ticks": "",
           "title": {
            "standoff": 15
           },
           "zerolinecolor": "#283442",
           "zerolinewidth": 2
          }
         }
        },
        "title": {
         "font": {
          "color": "#FFD700",
          "size": 30
         },
         "text": "Top 10 High-Priced Products",
         "x": 0.5
        },
        "xaxis": {
         "anchor": "y",
         "domain": [
          0,
          1
         ],
         "linecolor": "white",
         "linewidth": 2,
         "showgrid": false,
         "tickangle": -45,
         "title": {
          "text": "Product Name"
         }
        },
        "yaxis": {
         "anchor": "x",
         "domain": [
          0,
          1
         ],
         "linecolor": "white",
         "linewidth": 2,
         "showgrid": false,
         "title": {
          "text": "Price"
         }
        }
       }
      }
     },
     "metadata": {},
     "output_type": "display_data"
    }
   ],
   "source": [
    "# Define the number of top products to display\n",
    "top_n = 10\n",
    "\n",
    "# Sort products by price in descending order and select the top N products\n",
    "top_high_price_products = df.sort_values(by='price', ascending=False).head(top_n)\n",
    "\n",
    "# Create a bar plot for the top high-priced products with a beautiful color scale\n",
    "fig = px.bar(top_high_price_products, x='product_name', y='price',\n",
    "             title=f'Top {top_n} High-Priced Products',\n",
    "             labels={'product_name': 'Product Name', 'price': 'Price'},\n",
    "             color='price', color_continuous_scale=px.colors.sequential.Rainbow)\n",
    "\n",
    "# Add labels to each bar\n",
    "fig.update_traces(text=top_high_price_products['price'],\n",
    "                  textposition='outside',\n",
    "                  marker=dict(line=dict(width=2, color='black'), opacity=0.9))\n",
    "\n",
    "fig.update_layout(\n",
    "    xaxis_tickangle=-45,\n",
    "    title_font_size=26,\n",
    "    xaxis_title=\"Product Name\",\n",
    "    yaxis_title=\"Price\",\n",
    "    template=\"plotly_dark\",\n",
    "    plot_bgcolor='rgba(0,0,0,0)',\n",
    "    font=dict(family=\"Arial\", size=15, color=\"white\"),\n",
    "    title=dict(x=0.5, font=dict(size=30, color='#FFD700')),  # Gold color for the title\n",
    "    xaxis=dict(showgrid=False, linecolor='white', linewidth=2),\n",
    "    yaxis=dict(showgrid=False, linecolor='white', linewidth=2),\n",
    "    margin=dict(l=50, r=50, b=100, t=100, pad=4),\n",
    "    paper_bgcolor='rgba(0,0,0,0)',\n",
    ")\n",
    "fig.update_traces(texttemplate='%{text:.2s}', textfont_size=15)  # Format text labels\n",
    "\n",
    "fig.show()"
   ]
  },
  {
   "cell_type": "code",
   "execution_count": null,
   "id": "4b228048",
   "metadata": {},
   "outputs": [],
   "source": []
  }
 ],
 "metadata": {
  "kernelspec": {
   "display_name": "Python 3 (ipykernel)",
   "language": "python",
   "name": "python3"
  },
  "language_info": {
   "codemirror_mode": {
    "name": "ipython",
    "version": 3
   },
   "file_extension": ".py",
   "mimetype": "text/x-python",
   "name": "python",
   "nbconvert_exporter": "python",
   "pygments_lexer": "ipython3",
   "version": "3.12.0"
  }
 },
 "nbformat": 4,
 "nbformat_minor": 5
}
